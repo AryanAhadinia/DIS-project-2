{
 "cells": [
  {
   "cell_type": "markdown",
   "metadata": {},
   "source": [
    "# Baselines\n",
    "\n",
    "This notebook is for running and comparing the baselines.\n"
   ]
  },
  {
   "cell_type": "code",
   "execution_count": 1,
   "metadata": {},
   "outputs": [],
   "source": [
    "import numpy as np\n",
    "import pandas as pd\n",
    "import matplotlib.pyplot as plt\n",
    "import seaborn as sns\n",
    "from pathlib import Path\n",
    "from sklearn.linear_model import ElasticNet\n",
    "from sklearn.metrics.pairwise import cosine_similarity\n",
    "from sklearn.metrics import mean_squared_error\n",
    "from sklearn.model_selection import KFold\n",
    "from scipy.sparse import csr_matrix\n",
    "from tqdm import tqdm"
   ]
  },
  {
   "cell_type": "markdown",
   "metadata": {},
   "source": [
    "## Paths"
   ]
  },
  {
   "cell_type": "code",
   "execution_count": 2,
   "metadata": {},
   "outputs": [],
   "source": [
    "data_root = Path(\"./data\")"
   ]
  },
  {
   "cell_type": "markdown",
   "metadata": {},
   "source": [
    "## Data"
   ]
  },
  {
   "cell_type": "code",
   "execution_count": 3,
   "metadata": {},
   "outputs": [
    {
     "data": {
      "text/html": [
       "<div>\n",
       "<style scoped>\n",
       "    .dataframe tbody tr th:only-of-type {\n",
       "        vertical-align: middle;\n",
       "    }\n",
       "\n",
       "    .dataframe tbody tr th {\n",
       "        vertical-align: top;\n",
       "    }\n",
       "\n",
       "    .dataframe thead th {\n",
       "        text-align: right;\n",
       "    }\n",
       "</style>\n",
       "<table border=\"1\" class=\"dataframe\">\n",
       "  <thead>\n",
       "    <tr style=\"text-align: right;\">\n",
       "      <th></th>\n",
       "      <th>ISBN</th>\n",
       "      <th>book_id</th>\n",
       "    </tr>\n",
       "  </thead>\n",
       "  <tbody>\n",
       "    <tr>\n",
       "      <th>0</th>\n",
       "      <td>0002005018</td>\n",
       "      <td>1</td>\n",
       "    </tr>\n",
       "    <tr>\n",
       "      <th>1</th>\n",
       "      <td>0374157065</td>\n",
       "      <td>3</td>\n",
       "    </tr>\n",
       "    <tr>\n",
       "      <th>2</th>\n",
       "      <td>0399135782</td>\n",
       "      <td>5</td>\n",
       "    </tr>\n",
       "    <tr>\n",
       "      <th>3</th>\n",
       "      <td>0440234743</td>\n",
       "      <td>18</td>\n",
       "    </tr>\n",
       "    <tr>\n",
       "      <th>4</th>\n",
       "      <td>0452264464</td>\n",
       "      <td>19</td>\n",
       "    </tr>\n",
       "    <tr>\n",
       "      <th>...</th>\n",
       "      <td>...</td>\n",
       "      <td>...</td>\n",
       "    </tr>\n",
       "    <tr>\n",
       "      <th>16594</th>\n",
       "      <td>786914041</td>\n",
       "      <td>248348</td>\n",
       "    </tr>\n",
       "    <tr>\n",
       "      <th>16595</th>\n",
       "      <td>62117378</td>\n",
       "      <td>247944</td>\n",
       "    </tr>\n",
       "    <tr>\n",
       "      <th>16596</th>\n",
       "      <td>1905294964</td>\n",
       "      <td>248214</td>\n",
       "    </tr>\n",
       "    <tr>\n",
       "      <th>16597</th>\n",
       "      <td>1937007588</td>\n",
       "      <td>247154</td>\n",
       "    </tr>\n",
       "    <tr>\n",
       "      <th>16598</th>\n",
       "      <td>375703845</td>\n",
       "      <td>247315</td>\n",
       "    </tr>\n",
       "  </tbody>\n",
       "</table>\n",
       "<p>16599 rows × 2 columns</p>\n",
       "</div>"
      ],
      "text/plain": [
       "             ISBN  book_id\n",
       "0      0002005018        1\n",
       "1      0374157065        3\n",
       "2      0399135782        5\n",
       "3      0440234743       18\n",
       "4      0452264464       19\n",
       "...           ...      ...\n",
       "16594   786914041   248348\n",
       "16595    62117378   247944\n",
       "16596  1905294964   248214\n",
       "16597  1937007588   247154\n",
       "16598   375703845   247315\n",
       "\n",
       "[16599 rows x 2 columns]"
      ]
     },
     "execution_count": 3,
     "metadata": {},
     "output_type": "execute_result"
    }
   ],
   "source": [
    "books_df = pd.read_csv(data_root / \"books.csv\")\n",
    "books_df[\"ISBN\"] = books_df[\"ISBN\"].astype(str)\n",
    "books_df"
   ]
  },
  {
   "cell_type": "code",
   "execution_count": 4,
   "metadata": {},
   "outputs": [
    {
     "data": {
      "text/html": [
       "<div>\n",
       "<style scoped>\n",
       "    .dataframe tbody tr th:only-of-type {\n",
       "        vertical-align: middle;\n",
       "    }\n",
       "\n",
       "    .dataframe tbody tr th {\n",
       "        vertical-align: top;\n",
       "    }\n",
       "\n",
       "    .dataframe thead th {\n",
       "        text-align: right;\n",
       "    }\n",
       "</style>\n",
       "<table border=\"1\" class=\"dataframe\">\n",
       "  <thead>\n",
       "    <tr style=\"text-align: right;\">\n",
       "      <th></th>\n",
       "      <th>book_id</th>\n",
       "      <th>user_id</th>\n",
       "      <th>rating</th>\n",
       "    </tr>\n",
       "  </thead>\n",
       "  <tbody>\n",
       "    <tr>\n",
       "      <th>0</th>\n",
       "      <td>7260</td>\n",
       "      <td>20145</td>\n",
       "      <td>3.5</td>\n",
       "    </tr>\n",
       "    <tr>\n",
       "      <th>1</th>\n",
       "      <td>243238</td>\n",
       "      <td>85182</td>\n",
       "      <td>4.0</td>\n",
       "    </tr>\n",
       "    <tr>\n",
       "      <th>2</th>\n",
       "      <td>9135</td>\n",
       "      <td>45973</td>\n",
       "      <td>1.0</td>\n",
       "    </tr>\n",
       "    <tr>\n",
       "      <th>3</th>\n",
       "      <td>18671</td>\n",
       "      <td>63554</td>\n",
       "      <td>3.0</td>\n",
       "    </tr>\n",
       "    <tr>\n",
       "      <th>4</th>\n",
       "      <td>243293</td>\n",
       "      <td>81002</td>\n",
       "      <td>5.0</td>\n",
       "    </tr>\n",
       "    <tr>\n",
       "      <th>...</th>\n",
       "      <td>...</td>\n",
       "      <td>...</td>\n",
       "      <td>...</td>\n",
       "    </tr>\n",
       "    <tr>\n",
       "      <th>100518</th>\n",
       "      <td>15374</td>\n",
       "      <td>69658</td>\n",
       "      <td>2.0</td>\n",
       "    </tr>\n",
       "    <tr>\n",
       "      <th>100519</th>\n",
       "      <td>11063</td>\n",
       "      <td>69658</td>\n",
       "      <td>2.5</td>\n",
       "    </tr>\n",
       "    <tr>\n",
       "      <th>100520</th>\n",
       "      <td>18444</td>\n",
       "      <td>29981</td>\n",
       "      <td>1.0</td>\n",
       "    </tr>\n",
       "    <tr>\n",
       "      <th>100521</th>\n",
       "      <td>5917</td>\n",
       "      <td>38009</td>\n",
       "      <td>1.0</td>\n",
       "    </tr>\n",
       "    <tr>\n",
       "      <th>100522</th>\n",
       "      <td>243328</td>\n",
       "      <td>94374</td>\n",
       "      <td>4.0</td>\n",
       "    </tr>\n",
       "  </tbody>\n",
       "</table>\n",
       "<p>100523 rows × 3 columns</p>\n",
       "</div>"
      ],
      "text/plain": [
       "        book_id  user_id  rating\n",
       "0          7260    20145     3.5\n",
       "1        243238    85182     4.0\n",
       "2          9135    45973     1.0\n",
       "3         18671    63554     3.0\n",
       "4        243293    81002     5.0\n",
       "...         ...      ...     ...\n",
       "100518    15374    69658     2.0\n",
       "100519    11063    69658     2.5\n",
       "100520    18444    29981     1.0\n",
       "100521     5917    38009     1.0\n",
       "100522   243328    94374     4.0\n",
       "\n",
       "[100523 rows x 3 columns]"
      ]
     },
     "execution_count": 4,
     "metadata": {},
     "output_type": "execute_result"
    }
   ],
   "source": [
    "train_df = pd.read_csv(data_root / \"train.csv\")\n",
    "train_df"
   ]
  },
  {
   "cell_type": "code",
   "execution_count": 5,
   "metadata": {},
   "outputs": [
    {
     "data": {
      "text/html": [
       "<div>\n",
       "<style scoped>\n",
       "    .dataframe tbody tr th:only-of-type {\n",
       "        vertical-align: middle;\n",
       "    }\n",
       "\n",
       "    .dataframe tbody tr th {\n",
       "        vertical-align: top;\n",
       "    }\n",
       "\n",
       "    .dataframe thead th {\n",
       "        text-align: right;\n",
       "    }\n",
       "</style>\n",
       "<table border=\"1\" class=\"dataframe\">\n",
       "  <thead>\n",
       "    <tr style=\"text-align: right;\">\n",
       "      <th></th>\n",
       "      <th>book_id</th>\n",
       "      <th>user_id</th>\n",
       "    </tr>\n",
       "  </thead>\n",
       "  <tbody>\n",
       "    <tr>\n",
       "      <th>0</th>\n",
       "      <td>3786</td>\n",
       "      <td>40484</td>\n",
       "    </tr>\n",
       "    <tr>\n",
       "      <th>1</th>\n",
       "      <td>1985</td>\n",
       "      <td>47039</td>\n",
       "    </tr>\n",
       "    <tr>\n",
       "      <th>2</th>\n",
       "      <td>2290</td>\n",
       "      <td>60111</td>\n",
       "    </tr>\n",
       "    <tr>\n",
       "      <th>3</th>\n",
       "      <td>118657</td>\n",
       "      <td>64447</td>\n",
       "    </tr>\n",
       "    <tr>\n",
       "      <th>4</th>\n",
       "      <td>1560</td>\n",
       "      <td>2953</td>\n",
       "    </tr>\n",
       "    <tr>\n",
       "      <th>...</th>\n",
       "      <td>...</td>\n",
       "      <td>...</td>\n",
       "    </tr>\n",
       "    <tr>\n",
       "      <th>29362</th>\n",
       "      <td>2802</td>\n",
       "      <td>12312</td>\n",
       "    </tr>\n",
       "    <tr>\n",
       "      <th>29363</th>\n",
       "      <td>53552</td>\n",
       "      <td>25725</td>\n",
       "    </tr>\n",
       "    <tr>\n",
       "      <th>29364</th>\n",
       "      <td>4065</td>\n",
       "      <td>77178</td>\n",
       "    </tr>\n",
       "    <tr>\n",
       "      <th>29365</th>\n",
       "      <td>1290</td>\n",
       "      <td>23201</td>\n",
       "    </tr>\n",
       "    <tr>\n",
       "      <th>29366</th>\n",
       "      <td>1592</td>\n",
       "      <td>35394</td>\n",
       "    </tr>\n",
       "  </tbody>\n",
       "</table>\n",
       "<p>29367 rows × 2 columns</p>\n",
       "</div>"
      ],
      "text/plain": [
       "       book_id  user_id\n",
       "0         3786    40484\n",
       "1         1985    47039\n",
       "2         2290    60111\n",
       "3       118657    64447\n",
       "4         1560     2953\n",
       "...        ...      ...\n",
       "29362     2802    12312\n",
       "29363    53552    25725\n",
       "29364     4065    77178\n",
       "29365     1290    23201\n",
       "29366     1592    35394\n",
       "\n",
       "[29367 rows x 2 columns]"
      ]
     },
     "execution_count": 5,
     "metadata": {},
     "output_type": "execute_result"
    }
   ],
   "source": [
    "test_df = pd.read_csv(data_root / \"test.csv\")\n",
    "del test_df[\"id\"]\n",
    "test_df"
   ]
  },
  {
   "cell_type": "markdown",
   "metadata": {},
   "source": [
    "## Methods with No Additional Data"
   ]
  },
  {
   "cell_type": "markdown",
   "metadata": {},
   "source": [
    "### Methods with Surprise Library"
   ]
  },
  {
   "cell_type": "code",
   "execution_count": null,
   "metadata": {},
   "outputs": [],
   "source": [
    "from surprise.model_selection import cross_validate, train_test_split, GridSearchCV\n",
    "from surprise import (\n",
    "    Reader,\n",
    "    Dataset,\n",
    "    SVD,\n",
    "    accuracy,\n",
    "    KNNBasic,\n",
    "    KNNWithMeans,\n",
    "    KNNWithZScore,\n",
    "    KNNBaseline,\n",
    ")"
   ]
  },
  {
   "cell_type": "code",
   "execution_count": 10,
   "metadata": {},
   "outputs": [],
   "source": [
    "rating_scale = (train_df['rating'].min(), train_df['rating'].max())\n",
    "reader = Reader(rating_scale=rating_scale)\n",
    "data = Dataset.load_from_df(train_df[['user_id', 'book_id', 'rating']], reader)\n",
    "train_set, val_set = train_test_split(data, test_size=0.2)"
   ]
  },
  {
   "cell_type": "markdown",
   "metadata": {},
   "source": [
    "#### SVD"
   ]
  },
  {
   "cell_type": "code",
   "execution_count": 11,
   "metadata": {},
   "outputs": [
    {
     "name": "stdout",
     "output_type": "stream",
     "text": [
      "RMSE: 0.9378\n"
     ]
    }
   ],
   "source": [
    "alg = SVD()\n",
    "alg.fit(train_set)\n",
    "predictions = alg.test(val_set)\n",
    "rmse = accuracy.rmse(predictions)"
   ]
  },
  {
   "cell_type": "code",
   "execution_count": null,
   "metadata": {},
   "outputs": [
    {
     "name": "stderr",
     "output_type": "stream",
     "text": [
      "[Parallel(n_jobs=-1)]: Using backend LokyBackend with 10 concurrent workers.\n",
      "[Parallel(n_jobs=-1)]: Done   5 tasks      | elapsed:    1.6s\n",
      "[Parallel(n_jobs=-1)]: Done  12 tasks      | elapsed:    2.0s\n",
      "[Parallel(n_jobs=-1)]: Done  21 tasks      | elapsed:    2.4s\n",
      "[Parallel(n_jobs=-1)]: Done  30 tasks      | elapsed:    2.9s\n",
      "[Parallel(n_jobs=-1)]: Done  41 tasks      | elapsed:    3.5s\n",
      "[Parallel(n_jobs=-1)]: Done  52 tasks      | elapsed:    4.1s\n",
      "[Parallel(n_jobs=-1)]: Done  65 tasks      | elapsed:    4.7s\n",
      "[Parallel(n_jobs=-1)]: Done  78 tasks      | elapsed:    5.4s\n",
      "[Parallel(n_jobs=-1)]: Done  93 tasks      | elapsed:    6.2s\n",
      "[Parallel(n_jobs=-1)]: Done 108 tasks      | elapsed:    7.0s\n",
      "[Parallel(n_jobs=-1)]: Done 125 tasks      | elapsed:    7.9s\n",
      "[Parallel(n_jobs=-1)]: Done 142 tasks      | elapsed:    8.9s\n",
      "[Parallel(n_jobs=-1)]: Done 161 tasks      | elapsed:   10.0s\n",
      "[Parallel(n_jobs=-1)]: Done 180 tasks      | elapsed:   11.0s\n",
      "[Parallel(n_jobs=-1)]: Done 201 tasks      | elapsed:   12.3s\n",
      "[Parallel(n_jobs=-1)]: Done 222 tasks      | elapsed:   13.5s\n",
      "[Parallel(n_jobs=-1)]: Done 245 tasks      | elapsed:   14.8s\n",
      "[Parallel(n_jobs=-1)]: Done 268 tasks      | elapsed:   16.2s\n",
      "[Parallel(n_jobs=-1)]: Done 293 tasks      | elapsed:   17.8s\n",
      "[Parallel(n_jobs=-1)]: Done 318 tasks      | elapsed:   19.1s\n",
      "[Parallel(n_jobs=-1)]: Done 345 tasks      | elapsed:   20.7s\n",
      "[Parallel(n_jobs=-1)]: Done 372 tasks      | elapsed:   22.3s\n",
      "[Parallel(n_jobs=-1)]: Done 401 tasks      | elapsed:   24.3s\n",
      "[Parallel(n_jobs=-1)]: Done 430 tasks      | elapsed:   26.1s\n",
      "[Parallel(n_jobs=-1)]: Done 461 tasks      | elapsed:   28.5s\n",
      "[Parallel(n_jobs=-1)]: Done 492 tasks      | elapsed:   30.7s\n",
      "[Parallel(n_jobs=-1)]: Done 525 tasks      | elapsed:   33.1s\n",
      "[Parallel(n_jobs=-1)]: Done 558 tasks      | elapsed:   35.6s\n",
      "[Parallel(n_jobs=-1)]: Done 593 tasks      | elapsed:   38.1s\n",
      "[Parallel(n_jobs=-1)]: Done 628 tasks      | elapsed:   40.9s\n",
      "[Parallel(n_jobs=-1)]: Done 665 tasks      | elapsed:   43.9s\n",
      "[Parallel(n_jobs=-1)]: Done 702 tasks      | elapsed:   46.7s\n",
      "[Parallel(n_jobs=-1)]: Done 741 tasks      | elapsed:   50.0s\n",
      "[Parallel(n_jobs=-1)]: Done 780 tasks      | elapsed:   53.4s\n",
      "[Parallel(n_jobs=-1)]: Done 821 tasks      | elapsed:   57.4s\n",
      "[Parallel(n_jobs=-1)]: Done 862 tasks      | elapsed:  1.0min\n",
      "[Parallel(n_jobs=-1)]: Done 905 tasks      | elapsed:  1.1min\n",
      "[Parallel(n_jobs=-1)]: Done 948 tasks      | elapsed:  1.2min\n",
      "[Parallel(n_jobs=-1)]: Done 993 tasks      | elapsed:  1.2min\n",
      "[Parallel(n_jobs=-1)]: Done 1038 tasks      | elapsed:  1.3min\n",
      "[Parallel(n_jobs=-1)]: Done 1085 tasks      | elapsed:  1.4min\n",
      "[Parallel(n_jobs=-1)]: Done 1132 tasks      | elapsed:  1.5min\n",
      "[Parallel(n_jobs=-1)]: Done 1181 tasks      | elapsed:  1.6min\n",
      "[Parallel(n_jobs=-1)]: Done 1230 tasks      | elapsed:  1.7min\n",
      "[Parallel(n_jobs=-1)]: Done 1281 tasks      | elapsed:  1.8min\n",
      "[Parallel(n_jobs=-1)]: Done 1332 tasks      | elapsed:  1.8min\n",
      "[Parallel(n_jobs=-1)]: Done 1385 tasks      | elapsed:  1.9min\n",
      "[Parallel(n_jobs=-1)]: Done 1438 tasks      | elapsed:  1.9min\n",
      "[Parallel(n_jobs=-1)]: Done 1493 tasks      | elapsed:  2.0min\n",
      "[Parallel(n_jobs=-1)]: Done 1548 tasks      | elapsed:  2.0min\n",
      "[Parallel(n_jobs=-1)]: Done 1605 tasks      | elapsed:  2.1min\n",
      "[Parallel(n_jobs=-1)]: Done 1662 tasks      | elapsed:  2.2min\n",
      "[Parallel(n_jobs=-1)]: Done 1721 tasks      | elapsed:  2.3min\n",
      "[Parallel(n_jobs=-1)]: Done 1780 tasks      | elapsed:  2.3min\n",
      "[Parallel(n_jobs=-1)]: Done 1841 tasks      | elapsed:  2.4min\n",
      "[Parallel(n_jobs=-1)]: Done 1902 tasks      | elapsed:  2.5min\n",
      "[Parallel(n_jobs=-1)]: Done 1965 tasks      | elapsed:  2.6min\n",
      "[Parallel(n_jobs=-1)]: Done 2028 tasks      | elapsed:  2.7min\n",
      "[Parallel(n_jobs=-1)]: Done 2093 tasks      | elapsed:  2.9min\n",
      "[Parallel(n_jobs=-1)]: Done 2158 tasks      | elapsed:  3.0min\n",
      "[Parallel(n_jobs=-1)]: Done 2225 tasks      | elapsed:  3.2min\n",
      "[Parallel(n_jobs=-1)]: Done 2292 tasks      | elapsed:  3.3min\n",
      "[Parallel(n_jobs=-1)]: Done 2361 tasks      | elapsed:  3.5min\n",
      "[Parallel(n_jobs=-1)]: Done 2430 tasks      | elapsed:  3.7min\n",
      "[Parallel(n_jobs=-1)]: Done 2501 tasks      | elapsed:  3.9min\n",
      "[Parallel(n_jobs=-1)]: Done 2572 tasks      | elapsed:  3.9min\n",
      "[Parallel(n_jobs=-1)]: Done 2645 tasks      | elapsed:  4.0min\n",
      "[Parallel(n_jobs=-1)]: Done 2718 tasks      | elapsed:  4.1min\n",
      "[Parallel(n_jobs=-1)]: Done 2793 tasks      | elapsed:  4.2min\n",
      "[Parallel(n_jobs=-1)]: Done 2868 tasks      | elapsed:  4.3min\n",
      "[Parallel(n_jobs=-1)]: Done 2945 tasks      | elapsed:  4.4min\n",
      "[Parallel(n_jobs=-1)]: Done 3022 tasks      | elapsed:  4.5min\n",
      "[Parallel(n_jobs=-1)]: Done 3101 tasks      | elapsed:  4.7min\n",
      "[Parallel(n_jobs=-1)]: Done 3180 tasks      | elapsed:  4.8min\n",
      "[Parallel(n_jobs=-1)]: Done 3261 tasks      | elapsed:  5.0min\n",
      "[Parallel(n_jobs=-1)]: Done 3342 tasks      | elapsed:  5.2min\n",
      "[Parallel(n_jobs=-1)]: Done 3425 tasks      | elapsed:  5.4min\n",
      "[Parallel(n_jobs=-1)]: Done 3508 tasks      | elapsed:  5.7min\n",
      "[Parallel(n_jobs=-1)]: Done 3593 tasks      | elapsed:  5.9min\n",
      "[Parallel(n_jobs=-1)]: Done 3678 tasks      | elapsed:  6.2min\n",
      "[Parallel(n_jobs=-1)]: Done 3765 tasks      | elapsed:  6.4min\n",
      "[Parallel(n_jobs=-1)]: Done 3852 tasks      | elapsed:  6.5min\n",
      "[Parallel(n_jobs=-1)]: Done 3941 tasks      | elapsed:  6.6min\n",
      "[Parallel(n_jobs=-1)]: Done 4030 tasks      | elapsed:  6.7min\n",
      "[Parallel(n_jobs=-1)]: Done 4121 tasks      | elapsed:  6.8min\n",
      "[Parallel(n_jobs=-1)]: Done 4212 tasks      | elapsed:  7.0min\n",
      "[Parallel(n_jobs=-1)]: Done 4305 tasks      | elapsed:  7.2min\n",
      "[Parallel(n_jobs=-1)]: Done 4398 tasks      | elapsed:  7.4min\n",
      "[Parallel(n_jobs=-1)]: Done 4493 tasks      | elapsed:  7.6min\n",
      "[Parallel(n_jobs=-1)]: Done 4588 tasks      | elapsed:  7.9min\n",
      "[Parallel(n_jobs=-1)]: Done 4685 tasks      | elapsed:  8.2min\n",
      "[Parallel(n_jobs=-1)]: Done 4782 tasks      | elapsed:  8.5min\n",
      "[Parallel(n_jobs=-1)]: Done 4881 tasks      | elapsed:  8.8min\n",
      "[Parallel(n_jobs=-1)]: Done 4980 tasks      | elapsed:  9.2min\n",
      "[Parallel(n_jobs=-1)]: Done 5081 tasks      | elapsed:  9.3min\n",
      "[Parallel(n_jobs=-1)]: Done 5182 tasks      | elapsed:  9.4min\n",
      "[Parallel(n_jobs=-1)]: Done 5285 tasks      | elapsed:  9.6min\n",
      "[Parallel(n_jobs=-1)]: Done 5388 tasks      | elapsed:  9.7min\n",
      "[Parallel(n_jobs=-1)]: Done 5493 tasks      | elapsed: 10.0min\n",
      "[Parallel(n_jobs=-1)]: Done 5598 tasks      | elapsed: 10.2min\n",
      "[Parallel(n_jobs=-1)]: Done 5705 tasks      | elapsed: 10.5min\n",
      "[Parallel(n_jobs=-1)]: Done 5812 tasks      | elapsed: 10.8min\n",
      "[Parallel(n_jobs=-1)]: Done 5921 tasks      | elapsed: 11.2min\n",
      "[Parallel(n_jobs=-1)]: Done 6030 tasks      | elapsed: 11.6min\n",
      "[Parallel(n_jobs=-1)]: Done 6141 tasks      | elapsed: 12.0min\n",
      "[Parallel(n_jobs=-1)]: Done 6252 tasks      | elapsed: 12.4min\n",
      "[Parallel(n_jobs=-1)]: Done 6365 tasks      | elapsed: 12.6min\n",
      "[Parallel(n_jobs=-1)]: Done 6478 tasks      | elapsed: 12.7min\n",
      "[Parallel(n_jobs=-1)]: Done 6593 tasks      | elapsed: 12.9min\n",
      "[Parallel(n_jobs=-1)]: Done 6708 tasks      | elapsed: 13.2min\n",
      "[Parallel(n_jobs=-1)]: Done 6825 tasks      | elapsed: 13.4min\n",
      "[Parallel(n_jobs=-1)]: Done 6942 tasks      | elapsed: 13.8min\n",
      "[Parallel(n_jobs=-1)]: Done 7061 tasks      | elapsed: 14.2min\n",
      "[Parallel(n_jobs=-1)]: Done 7180 tasks      | elapsed: 14.6min\n",
      "[Parallel(n_jobs=-1)]: Done 7301 tasks      | elapsed: 15.1min\n",
      "[Parallel(n_jobs=-1)]: Done 7422 tasks      | elapsed: 15.6min\n",
      "[Parallel(n_jobs=-1)]: Done 7545 tasks      | elapsed: 16.0min\n",
      "[Parallel(n_jobs=-1)]: Done 7668 tasks      | elapsed: 16.1min\n",
      "[Parallel(n_jobs=-1)]: Done 7793 tasks      | elapsed: 16.3min\n",
      "[Parallel(n_jobs=-1)]: Done 7918 tasks      | elapsed: 16.6min\n",
      "[Parallel(n_jobs=-1)]: Done 8045 tasks      | elapsed: 16.9min\n",
      "[Parallel(n_jobs=-1)]: Done 8172 tasks      | elapsed: 17.2min\n",
      "[Parallel(n_jobs=-1)]: Done 8301 tasks      | elapsed: 17.7min\n",
      "[Parallel(n_jobs=-1)]: Done 8430 tasks      | elapsed: 18.2min\n",
      "[Parallel(n_jobs=-1)]: Done 8561 tasks      | elapsed: 18.7min\n",
      "[Parallel(n_jobs=-1)]: Done 8692 tasks      | elapsed: 19.3min\n",
      "[Parallel(n_jobs=-1)]: Done 8825 tasks      | elapsed: 19.7min\n",
      "[Parallel(n_jobs=-1)]: Done 8958 tasks      | elapsed: 19.9min\n",
      "[Parallel(n_jobs=-1)]: Done 9093 tasks      | elapsed: 20.1min\n",
      "[Parallel(n_jobs=-1)]: Done 9228 tasks      | elapsed: 20.5min\n",
      "[Parallel(n_jobs=-1)]: Done 9365 tasks      | elapsed: 20.9min\n",
      "[Parallel(n_jobs=-1)]: Done 9502 tasks      | elapsed: 21.3min\n",
      "[Parallel(n_jobs=-1)]: Done 9641 tasks      | elapsed: 21.9min\n",
      "[Parallel(n_jobs=-1)]: Done 9780 tasks      | elapsed: 22.5min\n",
      "[Parallel(n_jobs=-1)]: Done 9921 tasks      | elapsed: 23.3min\n",
      "[Parallel(n_jobs=-1)]: Done 10062 tasks      | elapsed: 23.7min\n",
      "[Parallel(n_jobs=-1)]: Done 10205 tasks      | elapsed: 23.9min\n",
      "[Parallel(n_jobs=-1)]: Done 10348 tasks      | elapsed: 24.2min\n",
      "[Parallel(n_jobs=-1)]: Done 10493 tasks      | elapsed: 24.5min\n",
      "[Parallel(n_jobs=-1)]: Done 10638 tasks      | elapsed: 25.0min\n",
      "[Parallel(n_jobs=-1)]: Done 10785 tasks      | elapsed: 25.6min\n",
      "[Parallel(n_jobs=-1)]: Done 10932 tasks      | elapsed: 26.2min\n",
      "[Parallel(n_jobs=-1)]: Done 11081 tasks      | elapsed: 27.0min\n",
      "[Parallel(n_jobs=-1)]: Done 11230 tasks      | elapsed: 27.9min\n",
      "[Parallel(n_jobs=-1)]: Done 11381 tasks      | elapsed: 28.1min\n",
      "[Parallel(n_jobs=-1)]: Done 11532 tasks      | elapsed: 28.4min\n",
      "[Parallel(n_jobs=-1)]: Done 11685 tasks      | elapsed: 28.8min\n",
      "[Parallel(n_jobs=-1)]: Done 11838 tasks      | elapsed: 29.2min\n",
      "[Parallel(n_jobs=-1)]: Done 11993 tasks      | elapsed: 29.8min\n",
      "[Parallel(n_jobs=-1)]: Done 12148 tasks      | elapsed: 30.5min\n",
      "[Parallel(n_jobs=-1)]: Done 12305 tasks      | elapsed: 31.4min\n",
      "[Parallel(n_jobs=-1)]: Done 12462 tasks      | elapsed: 32.3min\n"
     ]
    },
    {
     "name": "stdout",
     "output_type": "stream",
     "text": [
      "0.8902055991575161\n",
      "{'n_factors': 10, 'n_epochs': 80, 'lr_all': 0.005, 'reg_all': 0.1}\n"
     ]
    },
    {
     "name": "stderr",
     "output_type": "stream",
     "text": [
      "[Parallel(n_jobs=-1)]: Done 12500 out of 12500 | elapsed: 32.5min finished\n"
     ]
    }
   ],
   "source": [
    "param_grid = {\n",
    "    'n_factors': [5, 7, 10, 12, 15, 20],\n",
    "    'n_epochs': [70, 80, 90, 100],\n",
    "    'lr_all': [0.0025, 0.0050, 0.0075],\n",
    "    'reg_all': [0.08, 0.10, 0.12, 0.14],\n",
    "}\n",
    "\n",
    "gs = GridSearchCV(SVD, param_grid, measures=['rmse', 'mae'], n_jobs=-1, joblib_verbose=10)\n",
    "gs.fit(data)\n",
    "\n",
    "print(gs.best_score['rmse'])\n",
    "print(gs.best_params['rmse'])"
   ]
  },
  {
   "cell_type": "markdown",
   "metadata": {},
   "source": [
    "#### KNN"
   ]
  },
  {
   "cell_type": "code",
   "execution_count": 30,
   "metadata": {},
   "outputs": [],
   "source": [
    "param_grid = {\n",
    "    'k': [5, 10, 20, 40],\n",
    "    'sim_options': {\n",
    "        'name': ['msd', 'cosine', 'pearson'],\n",
    "        'min_support': [1, 3, 5],\n",
    "        'user_based': [True, False],\n",
    "    },\n",
    "    'verbose': [False],\n",
    "}"
   ]
  },
  {
   "cell_type": "code",
   "execution_count": 31,
   "metadata": {},
   "outputs": [
    {
     "name": "stderr",
     "output_type": "stream",
     "text": [
      "[Parallel(n_jobs=-1)]: Using backend LokyBackend with 10 concurrent workers.\n",
      "[Parallel(n_jobs=-1)]: Done   5 tasks      | elapsed:   19.1s\n",
      "[Parallel(n_jobs=-1)]: Done  12 tasks      | elapsed:   35.5s\n",
      "[Parallel(n_jobs=-1)]: Done  21 tasks      | elapsed:   56.3s\n",
      "[Parallel(n_jobs=-1)]: Done  30 tasks      | elapsed:  1.3min\n",
      "[Parallel(n_jobs=-1)]: Done  41 tasks      | elapsed:  2.3min\n",
      "[Parallel(n_jobs=-1)]: Done  52 tasks      | elapsed:  2.9min\n",
      "[Parallel(n_jobs=-1)]: Done  65 tasks      | elapsed:  3.9min\n",
      "[Parallel(n_jobs=-1)]: Done  78 tasks      | elapsed:  5.8min\n",
      "[Parallel(n_jobs=-1)]: Done  93 tasks      | elapsed:  6.6min\n",
      "[Parallel(n_jobs=-1)]: Done 108 tasks      | elapsed:  7.2min\n",
      "[Parallel(n_jobs=-1)]: Done 125 tasks      | elapsed:  8.0min\n",
      "[Parallel(n_jobs=-1)]: Done 142 tasks      | elapsed:  9.3min\n",
      "[Parallel(n_jobs=-1)]: Done 161 tasks      | elapsed: 11.4min\n",
      "[Parallel(n_jobs=-1)]: Done 180 tasks      | elapsed: 12.9min\n",
      "[Parallel(n_jobs=-1)]: Done 201 tasks      | elapsed: 14.1min\n",
      "[Parallel(n_jobs=-1)]: Done 222 tasks      | elapsed: 15.5min\n",
      "[Parallel(n_jobs=-1)]: Done 245 tasks      | elapsed: 17.4min\n",
      "[Parallel(n_jobs=-1)]: Done 268 tasks      | elapsed: 20.0min\n",
      "[Parallel(n_jobs=-1)]: Done 293 tasks      | elapsed: 21.2min\n",
      "[Parallel(n_jobs=-1)]: Done 318 tasks      | elapsed: 23.0min\n"
     ]
    },
    {
     "name": "stdout",
     "output_type": "stream",
     "text": [
      "1.077874776994718\n",
      "{'k': 40, 'sim_options': {'name': 'cosine', 'min_support': 1, 'user_based': False}, 'verbose': False}\n"
     ]
    },
    {
     "name": "stderr",
     "output_type": "stream",
     "text": [
      "[Parallel(n_jobs=-1)]: Done 360 out of 360 | elapsed: 26.8min finished\n"
     ]
    }
   ],
   "source": [
    "gs = GridSearchCV(KNNBasic, param_grid, measures=['rmse', 'mae'], n_jobs=-1, joblib_verbose=10)\n",
    "gs.fit(data)\n",
    "\n",
    "print(gs.best_score['rmse'])\n",
    "print(gs.best_params['rmse'])"
   ]
  },
  {
   "cell_type": "code",
   "execution_count": null,
   "metadata": {},
   "outputs": [],
   "source": [
    "gs = GridSearchCV(KNNWithMeans, param_grid, measures=['rmse', 'mae'], n_jobs=-1, joblib_verbose=10)\n",
    "gs.fit(data)\n",
    "\n",
    "print(gs.best_score['rmse'])\n",
    "print(gs.best_params['rmse'])"
   ]
  },
  {
   "cell_type": "code",
   "execution_count": null,
   "metadata": {},
   "outputs": [],
   "source": [
    "gs = GridSearchCV(KNNWithZScore, param_grid, measures=['rmse', 'mae'], n_jobs=-1, joblib_verbose=10)\n",
    "gs.fit(data)\n",
    "\n",
    "print(gs.best_score['rmse'])\n",
    "print(gs.best_params['rmse'])"
   ]
  },
  {
   "cell_type": "code",
   "execution_count": null,
   "metadata": {},
   "outputs": [],
   "source": [
    "gs = GridSearchCV(KNNBaseline, param_grid, measures=['rmse', 'mae'], n_jobs=-1, joblib_verbose=10)\n",
    "gs.fit(data)\n",
    "\n",
    "print(gs.best_score['rmse'])\n",
    "print(gs.best_params['rmse'])"
   ]
  },
  {
   "cell_type": "markdown",
   "metadata": {},
   "source": [
    "## SLIM"
   ]
  },
  {
   "cell_type": "code",
   "execution_count": 9,
   "metadata": {},
   "outputs": [
    {
     "name": "stderr",
     "output_type": "stream",
     "text": [
      "Cross-validation folds:   0%|          | 0/5 [00:00<?, ?it/s]"
     ]
    },
    {
     "name": "stdout",
     "output_type": "stream",
     "text": [
      "\n",
      "Starting fold 1\n"
     ]
    },
    {
     "name": "stderr",
     "output_type": "stream",
     "text": [
      "Cross-validation folds:  20%|██        | 1/5 [00:55<03:42, 55.51s/it]"
     ]
    },
    {
     "name": "stdout",
     "output_type": "stream",
     "text": [
      "Fold 1 RMSE: 2.6088990284717815\n",
      "\n",
      "Starting fold 2\n"
     ]
    },
    {
     "name": "stderr",
     "output_type": "stream",
     "text": [
      "Cross-validation folds:  40%|████      | 2/5 [01:50<02:45, 55.29s/it]"
     ]
    },
    {
     "name": "stdout",
     "output_type": "stream",
     "text": [
      "Fold 2 RMSE: 2.589458860409602\n",
      "\n",
      "Starting fold 3\n"
     ]
    },
    {
     "name": "stderr",
     "output_type": "stream",
     "text": [
      "Cross-validation folds:  60%|██████    | 3/5 [02:46<01:51, 55.76s/it]"
     ]
    },
    {
     "name": "stdout",
     "output_type": "stream",
     "text": [
      "Fold 3 RMSE: 2.605679809919655\n",
      "\n",
      "Starting fold 4\n"
     ]
    },
    {
     "name": "stderr",
     "output_type": "stream",
     "text": [
      "Cross-validation folds:  80%|████████  | 4/5 [03:42<00:55, 55.80s/it]"
     ]
    },
    {
     "name": "stdout",
     "output_type": "stream",
     "text": [
      "Fold 4 RMSE: 2.614608360772764\n",
      "\n",
      "Starting fold 5\n"
     ]
    },
    {
     "name": "stderr",
     "output_type": "stream",
     "text": [
      "Cross-validation folds: 100%|██████████| 5/5 [04:37<00:00, 55.46s/it]"
     ]
    },
    {
     "name": "stdout",
     "output_type": "stream",
     "text": [
      "Fold 5 RMSE: 2.622463149892249\n",
      "\n",
      "Average RMSE over 5 folds: 2.6082218418932106\n"
     ]
    },
    {
     "name": "stderr",
     "output_type": "stream",
     "text": [
      "\n"
     ]
    }
   ],
   "source": [
    "import pandas as pd\n",
    "import numpy as np\n",
    "from scipy.sparse import csr_matrix, lil_matrix\n",
    "from sklearn.linear_model import ElasticNet\n",
    "from sklearn.model_selection import KFold\n",
    "from sklearn.metrics import mean_squared_error\n",
    "from tqdm import tqdm\n",
    "\n",
    "train_df[\"user_id\"] = train_df[\"user_id\"].astype(str)\n",
    "train_df[\"book_id\"] = train_df[\"book_id\"].astype(str)\n",
    "train_df[\"rating\"] = train_df[\"rating\"].astype(float)\n",
    "\n",
    "user_ids = train_df[\"user_id\"].unique()\n",
    "item_ids = train_df[\"book_id\"].unique()\n",
    "\n",
    "user_id_to_idx = {user_id: idx for idx, user_id in enumerate(user_ids)}\n",
    "item_id_to_idx = {item_id: idx for idx, item_id in enumerate(item_ids)}\n",
    "\n",
    "num_users = len(user_ids)\n",
    "num_items = len(item_ids)\n",
    "\n",
    "train_df[\"user_idx\"] = train_df[\"user_id\"].map(user_id_to_idx)\n",
    "train_df[\"item_idx\"] = train_df[\"book_id\"].map(item_id_to_idx)\n",
    "\n",
    "ratings = train_df[[\"user_idx\", \"item_idx\", \"rating\"]].values\n",
    "\n",
    "alpha = 1.0\n",
    "l1_ratio = 0.5\n",
    "\n",
    "kf = KFold(n_splits=5, shuffle=True, random_state=42)\n",
    "rmse_list = []\n",
    "\n",
    "for fold, (train_indices, test_indices) in enumerate(\n",
    "    tqdm(kf.split(ratings), total=kf.get_n_splits(), desc=\"Cross-validation folds\"), 1\n",
    "):\n",
    "    print(f\"\\nStarting fold {fold}\")\n",
    "\n",
    "    train_data = ratings[train_indices]\n",
    "    test_data = ratings[test_indices]\n",
    "\n",
    "    R_train = csr_matrix(\n",
    "        (train_data[:, 2], (train_data[:, 0], train_data[:, 1])),\n",
    "        shape=(num_users, num_items),\n",
    "    )\n",
    "\n",
    "    R_test = csr_matrix(\n",
    "        (test_data[:, 2], (test_data[:, 0], test_data[:, 1])),\n",
    "        shape=(num_users, num_items),\n",
    "    )\n",
    "\n",
    "    W = lil_matrix((num_items, num_items))\n",
    "\n",
    "    for j in tqdm(range(num_items), desc=\"Learning item similarities\", leave=False):\n",
    "        r_j = R_train[:, j].toarray().ravel()\n",
    "\n",
    "        indices = list(range(num_items))\n",
    "        indices.remove(j)\n",
    "        R_minus_j = R_train[:, indices]\n",
    "\n",
    "        if np.std(r_j) > 0:\n",
    "            model = ElasticNet(\n",
    "                alpha=alpha,\n",
    "                l1_ratio=l1_ratio,\n",
    "                positive=True,\n",
    "                fit_intercept=False,\n",
    "                max_iter=5000,\n",
    "                selection=\"cyclic\",\n",
    "            )\n",
    "            model.fit(R_minus_j, r_j)\n",
    "\n",
    "            coef = model.coef_\n",
    "            coef = np.insert(coef, j, 0)\n",
    "            W[j, :] = coef\n",
    "        else:\n",
    "            continue\n",
    "\n",
    "    W = W.tocsr()\n",
    "\n",
    "    R_pred = R_test.dot(W.T)\n",
    "\n",
    "    test_users = test_data[:, 0].astype(int)\n",
    "    test_items = test_data[:, 1].astype(int)\n",
    "    y_true = test_data[:, 2]\n",
    "    y_pred = R_pred[test_users, test_items].A1\n",
    "\n",
    "    rmse = np.sqrt(mean_squared_error(y_true, y_pred))\n",
    "    rmse_list.append(rmse)\n",
    "    print(f\"Fold {fold} RMSE: {rmse}\")\n",
    "\n",
    "average_rmse = np.mean(rmse_list)\n",
    "print(f\"\\nAverage RMSE over {kf.get_n_splits()} folds: {average_rmse}\")"
   ]
  },
  {
   "cell_type": "code",
   "execution_count": 17,
   "metadata": {},
   "outputs": [],
   "source": [
    "from scipy.sparse import coo_matrix\n",
    "import implicit\n",
    "from implicit.nearest_neighbours import ItemItemRecommender\n",
    "from implicit.als import AlternatingLeastSquares"
   ]
  },
  {
   "cell_type": "code",
   "execution_count": 19,
   "metadata": {},
   "outputs": [
    {
     "name": "stderr",
     "output_type": "stream",
     "text": [
      "/opt/anaconda3/lib/python3.12/site-packages/implicit/utils.py:164: ParameterWarning: Method expects CSR input, and was passed coo_matrix instead. Converting to CSR took 0.0021409988403320312 seconds\n",
      "  warnings.warn(\n"
     ]
    },
    {
     "data": {
      "application/vnd.jupyter.widget-view+json": {
       "model_id": "aa059c6fb0234e288ebd150e190d4d63",
       "version_major": 2,
       "version_minor": 0
      },
      "text/plain": [
       "  0%|          | 0/15 [00:00<?, ?it/s]"
      ]
     },
     "metadata": {},
     "output_type": "display_data"
    }
   ],
   "source": [
    "# Map user_id and book_id to indices\n",
    "user_ids = train_df['user_id'].astype('category')\n",
    "item_ids = train_df['book_id'].astype('category')\n",
    "train_df['user_idx'] = user_ids.cat.codes\n",
    "train_df['item_idx'] = item_ids.cat.codes\n",
    "\n",
    "# Create the user-item interaction matrix (item-user for implicit)\n",
    "data = train_df['rating'].astype(float)\n",
    "rows = train_df['item_idx']\n",
    "cols = train_df['user_idx']\n",
    "interaction_matrix = coo_matrix((data, (rows, cols)))\n",
    "\n",
    "model = AlternatingLeastSquares(factors=50, regularization=0.01)\n",
    "model.fit(interaction_matrix)"
   ]
  },
  {
   "cell_type": "code",
   "execution_count": null,
   "metadata": {},
   "outputs": [],
   "source": []
  }
 ],
 "metadata": {
  "kernelspec": {
   "display_name": "base",
   "language": "python",
   "name": "python3"
  },
  "language_info": {
   "codemirror_mode": {
    "name": "ipython",
    "version": 3
   },
   "file_extension": ".py",
   "mimetype": "text/x-python",
   "name": "python",
   "nbconvert_exporter": "python",
   "pygments_lexer": "ipython3",
   "version": "3.12.7"
  }
 },
 "nbformat": 4,
 "nbformat_minor": 2
}
