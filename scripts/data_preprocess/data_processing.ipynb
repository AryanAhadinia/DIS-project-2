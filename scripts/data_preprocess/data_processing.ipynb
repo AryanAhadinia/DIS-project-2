{
 "cells": [
  {
   "metadata": {},
   "cell_type": "code",
   "outputs": [],
   "execution_count": null,
   "source": [
    "import json\n",
    "import pandas as pd\n",
    "import numpy as np\n"
   ],
   "id": "f928a3150542a5d6"
  },
  {
   "metadata": {},
   "cell_type": "code",
   "outputs": [],
   "execution_count": null,
   "source": [
    "file_path = 'metadata/books_data.json'\n",
    "\n",
    "with open(file_path, 'r') as file:\n",
    "    books_data = json.load(file)\n",
    "\n",
    "file_path = 'metadata/works_data.json'\n",
    "\n",
    "with open(file_path, 'r') as file:\n",
    "    works_data = json.load(file)"
   ],
   "id": "a6ea1890b2aa70a2"
  },
  {
   "metadata": {},
   "cell_type": "code",
   "outputs": [],
   "execution_count": null,
   "source": [
    "books= pd.read_csv('data/books.csv')\n",
    "books.head()"
   ],
   "id": "fe327100d52e95df"
  },
  {
   "metadata": {},
   "cell_type": "code",
   "outputs": [],
   "execution_count": null,
   "source": "print(books_data.keys())",
   "id": "a52d096e25bbda25"
  },
  {
   "metadata": {},
   "cell_type": "code",
   "outputs": [],
   "execution_count": null,
   "source": [
    "def process_ISBN(isbn):\n",
    "    if pd.isna(isbn):\n",
    "        return None\n",
    "    if len(isbn) == 10:\n",
    "        return 'ISBN:' + isbn\n",
    "    if len(isbn)<10:\n",
    "        return 'ISBN:' + '0'*(10-len(isbn)) + isbn\n",
    "    return isbn"
   ],
   "id": "9f329f99ef9d2f8a"
  },
  {
   "metadata": {},
   "cell_type": "code",
   "outputs": [],
   "execution_count": null,
   "source": [
    "list_ISBN = set(books['ISBN'].apply(process_ISBN))\n",
    "books['ISBN'] = books['ISBN'].apply(process_ISBN)\n",
    "\n",
    "books_data = {k: v for k, v in books_data.items() if k in list_ISBN}\n",
    "\n",
    "books.head()\n",
    "\n"
   ],
   "id": "997c1d498a62d4a6"
  },
  {
   "metadata": {},
   "cell_type": "code",
   "outputs": [],
   "execution_count": null,
   "source": [
    "def get_title (isbn):\n",
    "    if isbn in books_data:\n",
    "        if 'title' in books_data[isbn]['details']:\n",
    "            return books_data[isbn]['details']['title']\n",
    "        else :\n",
    "            work = books_data[isbn]['details']['works'][0]['key']\n",
    "            return works_data[work]['title']\n",
    "    else :\n",
    "        return None\n",
    "def get_authors (isbn):\n",
    "    if isbn in books_data:\n",
    "        if 'authors' in books_data[isbn]['details']:\n",
    "            \n",
    "            return books_data[isbn]['details']['authors'][0]['name']\n",
    "        # else :\n",
    "        #     if 'works' in books_data[isbn]['details']:\n",
    "        #         work = books_data[isbn]['details']['works'][0]['key']\n",
    "        #         if 'authors' in works_data[work] and len(works_data[work]['authors']) >0:\n",
    "\n",
    "        #             print(works_data[work]['authors'])\n",
    "        #             #return works_data[work]['authors'][0]['name']               \n",
    "    return None\n",
    "\n",
    "def get_description (isbn):\n",
    "    if isbn in books_data:\n",
    "        if 'description' in books_data[isbn]['details']:\n",
    "            if type(books_data[isbn]['details']['description'])== dict:\n",
    "                return books_data[isbn]['details']['description']['value']\n",
    "            elif type(books_data[isbn]['details']['description'])== str:\n",
    "                return books_data[isbn]['details']['description']\n",
    "            else :\n",
    "                print(type(books_data[isbn]['details']['description']))\n",
    "        else : \n",
    "            if 'works' in books_data[isbn]['details']:\n",
    "                work = books_data[isbn]['details']['works'][0]['key']\n",
    "                if 'description' in works_data[work]:\n",
    "                    if type(works_data[work]['description'])== dict:\n",
    "                        return works_data[work]['description']['value']\n",
    "                    elif type(works_data[work]['description'])== str:\n",
    "                        return works_data[work]['description']\n",
    "                    else :\n",
    "                        print(type(works_data[work]['description']))\n",
    "        \n",
    "            # print(isbn)\n",
    "            # print(books_data[isbn]['details'].keys())\n",
    "    else :\n",
    "        \n",
    "        return None"
   ],
   "id": "ebcef8209b8e22ef"
  },
  {
   "metadata": {},
   "cell_type": "code",
   "outputs": [],
   "execution_count": null,
   "source": "books['Title'] = books['ISBN'].apply(get_title)",
   "id": "10aa62fb66bb0372"
  },
  {
   "metadata": {},
   "cell_type": "code",
   "outputs": [],
   "execution_count": null,
   "source": "books['authors'] = books['ISBN'].apply(get_authors)",
   "id": "488d22ab8a93213"
  },
  {
   "metadata": {},
   "cell_type": "code",
   "outputs": [],
   "execution_count": null,
   "source": "books['description'] = books['ISBN'].apply(get_description)",
   "id": "be96d3278b89c008"
  },
  {
   "metadata": {},
   "cell_type": "code",
   "outputs": [],
   "execution_count": null,
   "source": [
    "print(\"Number of missing ISBN \", books['ISBN'].isnull().sum())\n",
    "print(\"Number of missing titles \", books['Title'].isnull().sum())\n",
    "print(\"Number of missing authors \", books['authors'].isnull().sum())\n",
    "print(\"Number of missing descriptions \", books['description'].isnull().sum())"
   ],
   "id": "39a6556ac31a9b44"
  }
 ],
 "metadata": {},
 "nbformat": 5,
 "nbformat_minor": 9
}
