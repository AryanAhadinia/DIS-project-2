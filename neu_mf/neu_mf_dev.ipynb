{
 "cells": [
  {
   "cell_type": "code",
   "execution_count": null,
   "metadata": {},
   "outputs": [],
   "source": [
    "! pip install numpy pandas ray[tune] scikit-learn torch"
   ]
  },
  {
   "cell_type": "code",
   "execution_count": null,
   "metadata": {},
   "outputs": [],
   "source": [
    "import numpy as np\n",
    "import pandas as pd\n",
    "import ray\n",
    "from ray import tune\n",
    "from sklearn.model_selection import KFold\n",
    "import torch\n",
    "import torch.nn as nn\n",
    "from torch.utils.data import Dataset, DataLoader\n",
    "import random"
   ]
  },
  {
   "cell_type": "code",
   "execution_count": null,
   "metadata": {},
   "outputs": [],
   "source": [
    "train_df = pd.read_csv('../data/train.csv')\n",
    "test_df = pd.read_csv('../data/test.csv')"
   ]
  },
  {
   "cell_type": "code",
   "execution_count": null,
   "metadata": {},
   "outputs": [],
   "source": [
    "all_user_ids = np.unique(np.concatenate([train_df['user_id'].unique(), test_df['user_id'].unique()]))\n",
    "all_user_ids.sort()\n",
    "all_book_ids = np.unique(np.concatenate([train_df['book_id'].unique(), test_df['book_id'].unique()]))\n",
    "all_book_ids.sort()"
   ]
  },
  {
   "cell_type": "code",
   "execution_count": null,
   "metadata": {},
   "outputs": [],
   "source": [
    "user_id_to_index = {user_id: i for i, user_id in enumerate(all_user_ids)}\n",
    "book_id_to_index = {book_id: i for i, book_id in enumerate(all_book_ids)}"
   ]
  },
  {
   "cell_type": "code",
   "execution_count": null,
   "metadata": {},
   "outputs": [],
   "source": [
    "book_df = pd.read_csv(\"../data/clean_data/metadata_clean.csv\")\n",
    "book_df = book_df[[\"book_id\", \"ISBN\", \"description\"]]\n",
    "book_df.dropna(inplace=True)\n",
    "book_id_list = book_df[\"book_id\"].values\n",
    "embeddings = np.load(\"../data/embeddings/cls_embeddings.npy\")\n",
    "book_id_to_embedding = {\n",
    "    book_id: embedding for book_id, embedding in zip(book_id_list, embeddings)\n",
    "}"
   ]
  },
  {
   "cell_type": "code",
   "execution_count": null,
   "metadata": {},
   "outputs": [],
   "source": [
    "num_users = len(all_user_ids)\n",
    "num_items = len(all_book_ids)\n",
    "\n",
    "all_data_triplets = []\n",
    "for index, row in train_df.iterrows():\n",
    "    user_index = user_id_to_index[row[\"user_id\"]]\n",
    "    book_index = book_id_to_index[row[\"book_id\"]]\n",
    "    rating = row[\"rating\"]\n",
    "    all_data_triplets.append((user_index, book_index, rating))"
   ]
  },
  {
   "cell_type": "code",
   "execution_count": null,
   "metadata": {},
   "outputs": [],
   "source": [
    "def train_test_split(list_triplets, ratio=0.8):\n",
    "    random.shuffle(list_triplets)\n",
    "    n = len(list_triplets)\n",
    "    n_train = int(n * ratio)\n",
    "    return list_triplets[:n_train], list_triplets[n_train:]\n",
    "\n",
    "\n",
    "train_data_triplets, val_data_triplets = train_test_split(all_data_triplets)\n",
    "\n",
    "all_data_triplets = np.array(all_data_triplets)\n",
    "train_data_array = np.array(train_data_triplets)\n",
    "val_data_array = np.array(val_data_triplets)"
   ]
  },
  {
   "cell_type": "code",
   "execution_count": null,
   "metadata": {},
   "outputs": [],
   "source": [
    "class RatingDataset(Dataset):\n",
    "    def __init__(self, triplets):\n",
    "        self.triplets = triplets\n",
    "\n",
    "    def __len__(self):\n",
    "        return len(self.triplets)\n",
    "\n",
    "    def __getitem__(self, idx):\n",
    "        u, i, r = self.triplets[idx]\n",
    "        return (\n",
    "            torch.tensor(u, dtype=torch.long),\n",
    "            torch.tensor(i, dtype=torch.long),\n",
    "            torch.tensor(r, dtype=torch.float),\n",
    "        )"
   ]
  },
  {
   "cell_type": "code",
   "execution_count": null,
   "metadata": {},
   "outputs": [],
   "source": [
    "train_dataset = RatingDataset(train_data_array)\n",
    "val_dataset = RatingDataset(val_data_array)"
   ]
  },
  {
   "cell_type": "code",
   "execution_count": null,
   "metadata": {},
   "outputs": [],
   "source": [
    "class NeuMF(nn.Module):\n",
    "    def __init__(self, num_users, num_items, mf_dim=8, mlp_layers=[16, 8], dropout=0.2):\n",
    "        super(NeuMF, self).__init__()\n",
    "\n",
    "        self.user_embedding_gmf = nn.Embedding(num_users, mf_dim)\n",
    "        self.item_embedding_gmf = nn.Embedding(num_items, mf_dim)\n",
    "\n",
    "        self.user_embedding_mlp = nn.Embedding(num_users, mlp_layers[0] // 2)\n",
    "        self.item_embedding_mlp = nn.Embedding(num_items, mlp_layers[0] // 2)\n",
    "\n",
    "        mlp_modules = []\n",
    "        input_size = mlp_layers[0]\n",
    "        for layer_size in mlp_layers[1:]:\n",
    "            mlp_modules.append(nn.Linear(input_size, layer_size))\n",
    "            mlp_modules.append(nn.ReLU())\n",
    "            mlp_modules.append(nn.Dropout(dropout))  # Add Dropout layer\n",
    "            input_size = layer_size\n",
    "        self.mlp = nn.Sequential(*mlp_modules)\n",
    "\n",
    "        predict_size = mf_dim + mlp_layers[-1]\n",
    "        self.predict_layer = nn.Linear(predict_size, 1)\n",
    "\n",
    "        nn.init.normal_(self.user_embedding_gmf.weight, std=0.01)\n",
    "        nn.init.normal_(self.item_embedding_gmf.weight, std=0.01)\n",
    "        nn.init.normal_(self.user_embedding_mlp.weight, std=0.01)\n",
    "        nn.init.normal_(self.item_embedding_mlp.weight, std=0.01)\n",
    "\n",
    "    def forward(self, user, item):\n",
    "        gmf_u = self.user_embedding_gmf(user)\n",
    "        gmf_i = self.item_embedding_gmf(item)\n",
    "        gmf_out = gmf_u * gmf_i\n",
    "\n",
    "        mlp_u = self.user_embedding_mlp(user)\n",
    "        mlp_i = self.item_embedding_mlp(item)\n",
    "        mlp_cat = torch.cat([mlp_u, mlp_i], dim=-1)\n",
    "        mlp_out = self.mlp(mlp_cat)\n",
    "\n",
    "        cat_out = torch.cat([gmf_out, mlp_out], dim=-1)\n",
    "        pred = self.predict_layer(cat_out)\n",
    "        return pred.squeeze()"
   ]
  },
  {
   "cell_type": "code",
   "execution_count": null,
   "metadata": {},
   "outputs": [],
   "source": [
    "def train_with_train_val_split(\n",
    "    train_dataset,\n",
    "    val_dataset,\n",
    "    num_users,\n",
    "    num_items,\n",
    "    mf_dim,\n",
    "    mlp_layers,\n",
    "    dropout,\n",
    "    lr,\n",
    "    weight_decay,\n",
    "    batch_size,\n",
    "    epochs,\n",
    "    patience,\n",
    "):\n",
    "    device = torch.device(\"cuda\" if torch.cuda.is_available() else \"cpu\")\n",
    "    # print(f\"using {device}\")\n",
    "\n",
    "    model = NeuMF(num_users, num_items, mf_dim=mf_dim, mlp_layers=mlp_layers, dropout=dropout).to(device)\n",
    "    optimizer = torch.optim.Adam(model.parameters(), lr=lr, weight_decay=weight_decay)\n",
    "    loss_fn = nn.MSELoss()\n",
    "\n",
    "    train_loader = DataLoader(train_dataset, batch_size=batch_size, shuffle=True)\n",
    "    val_loader = DataLoader(val_dataset, batch_size=batch_size, shuffle=False)\n",
    "\n",
    "    best_val_rmse = float(\"inf\")\n",
    "    epochs_no_improve = 0\n",
    "\n",
    "    for epoch in range(epochs):\n",
    "        model.train()\n",
    "        for u, i, r in train_loader:\n",
    "            u, i, r = u.to(device), i.to(device), r.to(device)\n",
    "            optimizer.zero_grad()\n",
    "            pred = model(u, i)\n",
    "            loss = loss_fn(pred, r)\n",
    "            loss.backward()\n",
    "            optimizer.step()\n",
    "\n",
    "        model.eval()\n",
    "        val_sse = 0.0\n",
    "        val_samples = 0\n",
    "        with torch.no_grad():\n",
    "            for u, i, r in val_loader:\n",
    "                u, i, r = u.to(device), i.to(device), r.to(device)\n",
    "                pred = model(u, i)\n",
    "                val_sse += ((pred - r) ** 2).sum().item()\n",
    "                val_samples += len(r)\n",
    "        val_mse = val_sse / val_samples\n",
    "        val_rmse = val_mse**0.5\n",
    "\n",
    "        if val_rmse < best_val_rmse:\n",
    "            best_val_rmse = val_rmse\n",
    "            epochs_no_improve = 0\n",
    "        else:\n",
    "            epochs_no_improve += 1\n",
    "            if epochs_no_improve >= patience:\n",
    "                break\n",
    "\n",
    "    return best_val_rmse"
   ]
  },
  {
   "cell_type": "code",
   "execution_count": null,
   "metadata": {},
   "outputs": [],
   "source": [
    "def train_with_config(config):\n",
    "    mf_dim = config[\"mf_dim\"]\n",
    "    mlp_layers = config[\"mlp_layers\"]\n",
    "    dropout = config[\"dropout\"]\n",
    "    lr = config[\"lr\"]\n",
    "    weight_decay = config[\"weight_decay\"]\n",
    "    batch_size = config[\"batch_size\"]\n",
    "\n",
    "    rmse = train_with_train_val_split(\n",
    "        train_dataset,\n",
    "        val_dataset,\n",
    "        num_users,\n",
    "        num_items,\n",
    "        mf_dim,\n",
    "        mlp_layers,\n",
    "        dropout,\n",
    "        lr,\n",
    "        weight_decay,\n",
    "        batch_size,\n",
    "        epochs=100,\n",
    "        patience=5,\n",
    "    )\n",
    "\n",
    "    return {\"rmse\": rmse}"
   ]
  },
  {
   "cell_type": "code",
   "execution_count": null,
   "metadata": {},
   "outputs": [],
   "source": [
    "config = {\n",
    "    \"mf_dim\": 3,\n",
    "    \"mlp_layers\": [8, 3],\n",
    "    \"dropout\": 0.25,\n",
    "    \"lr\": 0.001,\n",
    "    \"weight_decay\": 0.001,\n",
    "    \"batch_size\": 1024,\n",
    "}\n",
    "\n",
    "train_with_config(config)"
   ]
  },
  {
   "cell_type": "code",
   "execution_count": null,
   "metadata": {},
   "outputs": [],
   "source": [
    "ray.init()\n",
    "\n",
    "search_space = {\n",
    "    \"mf_dim\": tune.grid_search([4, 8, 16]),\n",
    "    \"mlp_layers\": tune.grid_search([[8, 4], [16, 4], [16, 8], [32, 16, 4], [32, 16, 8]]),\n",
    "    \"dropout\": tune.grid_search([0.1, 0.15, 0.20, 0.25]),\n",
    "    \"lr\": tune.grid_search([1e-2, 5e-3, 1e-3]),\n",
    "    \"weight_decay\": tune.grid_search([1e-3, 1e-4, 1e-5]),\n",
    "    \"batch_size\": tune.grid_search([512, 1024, 2048, 4096]),\n",
    "}\n",
    "\n",
    "analysis = tune.run(\n",
    "    train_with_config,\n",
    "    config=search_space,\n",
    "    metric=\"rmse\",\n",
    "    mode=\"min\",\n",
    "    resources_per_trial={\"cpu\": 1, \"gpu\": 0},\n",
    ")\n",
    "\n",
    "best_config = analysis.get_best_config(metric=\"val_rmse\", mode=\"min\")\n",
    "print(\"Best config found:\", best_config)\n",
    "\n",
    "df = analysis.results_df\n",
    "df.to_csv(\"new_mf_tune_results.csv\")\n",
    "\n",
    "ray.shutdown()"
   ]
  }
 ],
 "metadata": {
  "kernelspec": {
   "display_name": "base",
   "language": "python",
   "name": "python3"
  },
  "language_info": {
   "codemirror_mode": {
    "name": "ipython",
    "version": 3
   },
   "file_extension": ".py",
   "mimetype": "text/x-python",
   "name": "python",
   "nbconvert_exporter": "python",
   "pygments_lexer": "ipython3",
   "version": "3.12.7"
  }
 },
 "nbformat": 4,
 "nbformat_minor": 2
}
