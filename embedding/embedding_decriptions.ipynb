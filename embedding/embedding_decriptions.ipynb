{
 "cells": [
  {
   "cell_type": "code",
   "execution_count": 1,
   "metadata": {},
   "outputs": [],
   "source": [
    "colab = False\n",
    "\n",
    "if colab:\n",
    "    from google.colab import drive\n",
    "\n",
    "    drive.mount(\"/content/drive\")\n",
    "    save_path = \"/content/drive/MyDrive/\"\n",
    "else:\n",
    "    save_path = \"./\""
   ]
  },
  {
   "cell_type": "code",
   "execution_count": null,
   "metadata": {},
   "outputs": [],
   "source": [
    "import pandas as pd\n",
    "import torch\n",
    "from transformers import AutoTokenizer, AutoModel\n",
    "from tqdm import tqdm\n",
    "import numpy as np"
   ]
  },
  {
   "cell_type": "code",
   "execution_count": null,
   "metadata": {},
   "outputs": [],
   "source": [
    "# TODO: load data frame\n",
    "df = pd.DataFrame(\n",
    "    {\n",
    "        \"book_id\": [1, 2, 3] * 50000,\n",
    "        \"description\": [\n",
    "            \"A thrilling tale of adventure and mystery.\",\n",
    "            \"An introspective look into the life of an artist.\",\n",
    "            \"A historical account of ancient civilizations.\",\n",
    "        ] * 50000,\n",
    "    }\n",
    ")"
   ]
  },
  {
   "cell_type": "code",
   "execution_count": null,
   "metadata": {},
   "outputs": [],
   "source": [
    "model_name = \"microsoft/deberta-v3-base\"\n",
    "tokenizer = AutoTokenizer.from_pretrained(model_name, use_fast=False)\n",
    "model = AutoModel.from_pretrained(model_name)"
   ]
  },
  {
   "cell_type": "code",
   "execution_count": null,
   "metadata": {},
   "outputs": [],
   "source": [
    "device = torch.device(\"cuda\" if torch.cuda.is_available() else \"cpu\")\n",
    "model.to(device)\n",
    "print(f\"using device: {device}\")"
   ]
  },
  {
   "cell_type": "code",
   "execution_count": null,
   "metadata": {},
   "outputs": [],
   "source": [
    "batch_size = 32\n",
    "descriptions = df[\"description\"].tolist()\n",
    "\n",
    "cls_embeddings = []\n",
    "mean_embeddings = []\n",
    "\n",
    "model.eval()\n",
    "with torch.no_grad():\n",
    "    for i in tqdm(\n",
    "        range(0, len(descriptions), batch_size), desc=\"Encoding descriptions\"\n",
    "    ):\n",
    "        batch_desc = descriptions[i : i + batch_size]\n",
    "\n",
    "        inputs = tokenizer(\n",
    "            batch_desc,\n",
    "            return_tensors=\"pt\",\n",
    "            add_special_tokens=True,\n",
    "            truncation=True,\n",
    "            padding=\"max_length\",\n",
    "            max_length=512,\n",
    "        )\n",
    "\n",
    "        inputs = {k: v.to(device) for k, v in inputs.items()}\n",
    "        outputs = model(**inputs)\n",
    "        cls_emb = outputs.last_hidden_state[:, 0, :]\n",
    "\n",
    "        mask = (\n",
    "            inputs[\"attention_mask\"]\n",
    "            .unsqueeze(-1)\n",
    "            .expand(outputs.last_hidden_state.size())\n",
    "            .float()\n",
    "        )\n",
    "        sum_emb = torch.sum(outputs.last_hidden_state * mask, dim=1)\n",
    "        token_count = torch.clamp(mask.sum(dim=1), min=1e-9)\n",
    "        mean_emb = sum_emb / token_count\n",
    "\n",
    "        cls_embeddings.append(cls_emb.cpu().numpy())\n",
    "        mean_embeddings.append(mean_emb.cpu().numpy())\n",
    "\n",
    "cls_embeddings = np.concatenate(cls_embeddings, axis=0)\n",
    "mean_embeddings = np.concatenate(mean_embeddings, axis=0)\n",
    "\n",
    "np.save(save_path + \"cls_embeddings.npy\", cls_embeddings)\n",
    "np.save(save_path + \"mean_embeddings.npy\", mean_embeddings)\n",
    "\n",
    "print(cls_embeddings.shape)\n",
    "print(mean_embeddings.shape)"
   ]
  }
 ],
 "metadata": {
  "kernelspec": {
   "display_name": "base",
   "language": "python",
   "name": "python3"
  },
  "language_info": {
   "codemirror_mode": {
    "name": "ipython",
    "version": 3
   },
   "file_extension": ".py",
   "mimetype": "text/x-python",
   "name": "python",
   "nbconvert_exporter": "python",
   "pygments_lexer": "ipython3",
   "version": "3.12.7"
  }
 },
 "nbformat": 4,
 "nbformat_minor": 2
}
