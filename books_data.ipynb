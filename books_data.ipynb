{
 "cells": [
  {
   "cell_type": "markdown",
   "metadata": {},
   "source": [
    "# Books Metadata\n",
    "\n",
    "In this notebook, we will acquire books data from their ISBNs using the APIs."
   ]
  },
  {
   "cell_type": "code",
   "execution_count": null,
   "metadata": {},
   "outputs": [],
   "source": [
    "from pathlib import Path\n",
    "import requests\n",
    "import numpy as np\n",
    "import pandas as pd\n",
    "from tqdm import tqdm\n",
    "import json\n",
    "import time"
   ]
  },
  {
   "cell_type": "code",
   "execution_count": null,
   "metadata": {},
   "outputs": [],
   "source": [
    "metadata_root = Path(\"./metadata\")\n",
    "books_data_path = metadata_root / \"books.csv\""
   ]
  },
  {
   "cell_type": "markdown",
   "metadata": {},
   "source": [
    "## Data Clean Up\n",
    "\n",
    "First step is to clean ISBNs data by adding leading zeros and drop empty and duplicate ISBNs. And the end of this section, we will have a clean list of ISBNs."
   ]
  },
  {
   "cell_type": "code",
   "execution_count": null,
   "metadata": {},
   "outputs": [],
   "source": [
    "books_df = pd.read_csv(books_data_path)\n",
    "books_df"
   ]
  },
  {
   "cell_type": "code",
   "execution_count": null,
   "metadata": {},
   "outputs": [],
   "source": [
    "books_df = books_df.dropna(subset=[\"ISBN\"])\n",
    "books_df.loc[:, \"ISBN\"] = books_df[\"ISBN\"].astype(str)\n",
    "books_df"
   ]
  },
  {
   "cell_type": "code",
   "execution_count": null,
   "metadata": {},
   "outputs": [],
   "source": [
    "books_df.loc[:, \"ISBN\"] = books_df[\"ISBN\"].str.zfill(10)\n",
    "books_df"
   ]
  },
  {
   "cell_type": "code",
   "execution_count": null,
   "metadata": {},
   "outputs": [],
   "source": [
    "isbn_list = books_df[\"ISBN\"].unique()\n",
    "print(f\"Number of unique ISBNs: {len(isbn_list)}\")\n",
    "isbn_list"
   ]
  },
  {
   "cell_type": "markdown",
   "metadata": {},
   "source": [
    "## Acquire Books Metadata"
   ]
  },
  {
   "cell_type": "code",
   "execution_count": null,
   "metadata": {},
   "outputs": [],
   "source": [
    "BASE_URL = \"https://openlibrary.org\""
   ]
  },
  {
   "cell_type": "markdown",
   "metadata": {},
   "source": [
    "### Book Data"
   ]
  },
  {
   "cell_type": "code",
   "execution_count": null,
   "metadata": {},
   "outputs": [],
   "source": [
    "def fetch_books_data(isbn_list, batch_size=64, delay=5, max_retries=20):\n",
    "    books_data = {}\n",
    "\n",
    "    for i in tqdm(range(0, len(isbn_list), batch_size), desc=\"Fetching Books\"):\n",
    "        batch_isbns = isbn_list[i : i + batch_size]\n",
    "        bibkeys = \",\".join([\"ISBN:\" + isbn for isbn in batch_isbns])\n",
    "        params = {\n",
    "            \"bibkeys\": bibkeys,\n",
    "            \"format\": \"json\",\n",
    "            \"jscmd\": \"details\",\n",
    "        }\n",
    "        retry_count = 0\n",
    "        while retry_count < max_retries:\n",
    "            try:\n",
    "                response = requests.get(f\"{BASE_URL}/api/books\", params=params)\n",
    "                response.raise_for_status()\n",
    "                data = response.json()\n",
    "                books_data.update(data)\n",
    "                break\n",
    "            except requests.exceptions.RequestException as e:\n",
    "                retry_count += 1\n",
    "                print(f\"error at index {i} (attempt {retry_count}): {e}\")\n",
    "                if retry_count == max_retries:\n",
    "                    print(f\"giving up on batch at index {i}.\")\n",
    "                else:\n",
    "                    time.sleep(delay * retry_count)\n",
    "        time.sleep(delay)\n",
    "\n",
    "    return books_data"
   ]
  },
  {
   "cell_type": "code",
   "execution_count": null,
   "metadata": {},
   "outputs": [],
   "source": [
    "books_data = fetch_books_data(isbn_list)\n",
    "with open(metadata_root / \"books_data.json\", \"w\", encoding=\"utf-8\") as f:\n",
    "    json.dump(books_data, f, ensure_ascii=False, indent=4)"
   ]
  },
  {
   "cell_type": "markdown",
   "metadata": {},
   "source": [
    "### Work Data"
   ]
  },
  {
   "cell_type": "code",
   "execution_count": null,
   "metadata": {},
   "outputs": [],
   "source": [
    "with open(metadata_root / \"books_data.json\", \"r\", encoding=\"utf-8\") as f:\n",
    "    books_data = json.load(f)\n",
    "print(len(books_data))"
   ]
  },
  {
   "cell_type": "code",
   "execution_count": null,
   "metadata": {},
   "outputs": [],
   "source": [
    "def extract_work_keys(books_data):\n",
    "    work_keys = set()\n",
    "    for book_info in books_data.values():\n",
    "        if \"works\" in book_info[\"details\"] and book_info[\"details\"][\"works\"]:\n",
    "            for work in book_info[\"details\"][\"works\"]:\n",
    "                work_key = work.get(\"key\")\n",
    "                if work_key:\n",
    "                    work_keys.add(work_key)\n",
    "    return list(work_keys)"
   ]
  },
  {
   "cell_type": "code",
   "execution_count": null,
   "metadata": {},
   "outputs": [],
   "source": [
    "def fetch_works_data(work_keys, batch_size=32, delay=1, max_retries=10):\n",
    "    works_data = {}\n",
    "    for i in tqdm(range(0, len(work_keys), batch_size), desc=\"Fetching Works\"):\n",
    "        batch_keys = work_keys[i : i + batch_size]\n",
    "        urls = [f\"{BASE_URL}{key}.json\" for key in batch_keys]\n",
    "\n",
    "        for url in urls:\n",
    "            retry_count = 0\n",
    "            while retry_count < max_retries:\n",
    "                try:\n",
    "                    response = requests.get(url)\n",
    "                    response.raise_for_status()\n",
    "                    data = response.json()\n",
    "                    works_data[data[\"key\"]] = data\n",
    "                    break\n",
    "                except requests.exceptions.RequestException as e:\n",
    "                    retry_count += 1\n",
    "                    print(f\"Error fetching URL {url} (attempt {retry_count}): {e}\")\n",
    "                    if retry_count == max_retries:\n",
    "                        print(f\"Giving up on URL {url} after {max_retries} attempts.\")\n",
    "                    else:\n",
    "                        time.sleep(delay)\n",
    "\n",
    "            time.sleep(delay)\n",
    "\n",
    "    return works_data"
   ]
  },
  {
   "cell_type": "code",
   "execution_count": null,
   "metadata": {},
   "outputs": [],
   "source": [
    "work_keys = extract_work_keys(books_data)\n",
    "print(len(work_keys))"
   ]
  },
  {
   "cell_type": "code",
   "execution_count": null,
   "metadata": {},
   "outputs": [],
   "source": [
    "works_data = fetch_works_data(work_keys)\n",
    "with open(metadata_root / \"works_data.json\", \"w\", encoding=\"utf-8\") as f:\n",
    "    json.dump(works_data, f, ensure_ascii=False, indent=4)"
   ]
  },
  {
   "cell_type": "markdown",
   "metadata": {},
   "source": [
    "### Author Data"
   ]
  },
  {
   "cell_type": "code",
   "execution_count": null,
   "metadata": {},
   "outputs": [],
   "source": [
    "with open(metadata_root / \"books_data.json\", \"r\", encoding=\"utf-8\") as f:\n",
    "    books_data = json.load(f)\n",
    "print(len(books_data))"
   ]
  },
  {
   "cell_type": "code",
   "execution_count": null,
   "metadata": {},
   "outputs": [],
   "source": [
    "with open(metadata_root / \"works_data.json\", \"r\", encoding=\"utf-8\") as f:\n",
    "    works_data = json.load(f)\n",
    "print(len(works_data))"
   ]
  },
  {
   "cell_type": "code",
   "execution_count": null,
   "metadata": {},
   "outputs": [],
   "source": [
    "def extract_author_keys(books_data, works_data):\n",
    "    author_keys = set()\n",
    "    # Extract from books\n",
    "    for book_info in books_data.values():\n",
    "        if \"authors\" in book_info and book_info[\"authors\"]:\n",
    "            for author in book_info[\"authors\"]:\n",
    "                author_key = author.get(\"key\")\n",
    "                if author_key:\n",
    "                    author_keys.add(author_key)\n",
    "    # Extract from works\n",
    "    for work_info in works_data.values():\n",
    "        if \"authors\" in work_info and work_info[\"authors\"]:\n",
    "            for author in work_info[\"authors\"]:\n",
    "                author_key = author.get(\"author\", {}).get(\"key\")\n",
    "                if author_key:\n",
    "                    author_keys.add(author_key)\n",
    "    return list(author_keys)"
   ]
  },
  {
   "cell_type": "code",
   "execution_count": null,
   "metadata": {},
   "outputs": [],
   "source": [
    "def fetch_authors_data(author_keys, batch_size=32, delay=0.1, max_retries=3):\n",
    "    authors_data = {}\n",
    "    for i in tqdm(range(0, len(author_keys), batch_size), desc=\"Fetching Authors\"):\n",
    "        batch_keys = author_keys[i : i + batch_size]\n",
    "        urls = [f\"{BASE_URL}{key}.json\" for key in batch_keys]\n",
    "        for url in urls:\n",
    "            retry_count = 0\n",
    "            while retry_count < max_retries:\n",
    "                try:\n",
    "                    response = requests.get(url)\n",
    "                    response.raise_for_status()\n",
    "                    data = response.json()\n",
    "                    authors_data[data[\"key\"]] = data\n",
    "                    break\n",
    "                except requests.exceptions.RequestException as e:\n",
    "                    retry_count += 1\n",
    "                    print(f\"Error fetching URL {url} (attempt {retry_count}): {e}\")\n",
    "                    if retry_count == max_retries:\n",
    "                        print(f\"Giving up on URL {url} after {max_retries} attempts.\")\n",
    "                    else:\n",
    "                        time.sleep(delay)\n",
    "            time.sleep(delay)\n",
    "    return authors_data"
   ]
  },
  {
   "cell_type": "code",
   "execution_count": null,
   "metadata": {},
   "outputs": [],
   "source": [
    "author_keys = extract_author_keys(books_data, works_data)\n",
    "print(len(author_keys))"
   ]
  },
  {
   "cell_type": "code",
   "execution_count": null,
   "metadata": {},
   "outputs": [],
   "source": [
    "authors_data = fetch_authors_data(author_keys)\n",
    "with open(metadata_root / \"authors_data.json\", \"w\", encoding=\"utf-8\") as f:\n",
    "    json.dump(authors_data, f, ensure_ascii=False, indent=4)"
   ]
  }
 ],
 "metadata": {
  "kernelspec": {
   "display_name": "base",
   "language": "python",
   "name": "python3"
  },
  "language_info": {
   "codemirror_mode": {
    "name": "ipython",
    "version": 3
   },
   "file_extension": ".py",
   "mimetype": "text/x-python",
   "name": "python",
   "nbconvert_exporter": "python",
   "pygments_lexer": "ipython3",
   "version": "3.12.7"
  }
 },
 "nbformat": 4,
 "nbformat_minor": 2
}
