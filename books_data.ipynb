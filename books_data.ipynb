{
 "cells": [
  {
   "cell_type": "markdown",
   "metadata": {},
   "source": [
    "# Books Metadata\n",
    "\n",
    "In this notebook, we will acquire books data from their ISBNs using the APIs."
   ]
  },
  {
   "cell_type": "code",
   "execution_count": 1,
   "metadata": {},
   "outputs": [],
   "source": [
    "from pathlib import Path\n",
    "import requests\n",
    "import numpy as np\n",
    "import pandas as pd\n",
    "from tqdm import tqdm\n",
    "import json\n",
    "import time"
   ]
  },
  {
   "cell_type": "code",
   "execution_count": 2,
   "metadata": {},
   "outputs": [],
   "source": [
    "metadata_root = Path(\"./metadata\")\n",
    "books_data_path = metadata_root / \"books.csv\""
   ]
  },
  {
   "cell_type": "markdown",
   "metadata": {},
   "source": [
    "## Data Clean Up\n",
    "\n",
    "First step is to clean ISBNs data by adding leading zeros and drop empty and duplicate ISBNs. And the end of this section, we will have a clean list of ISBNs."
   ]
  },
  {
   "cell_type": "code",
   "execution_count": 3,
   "metadata": {},
   "outputs": [
    {
     "data": {
      "text/html": [
       "<div>\n",
       "<style scoped>\n",
       "    .dataframe tbody tr th:only-of-type {\n",
       "        vertical-align: middle;\n",
       "    }\n",
       "\n",
       "    .dataframe tbody tr th {\n",
       "        vertical-align: top;\n",
       "    }\n",
       "\n",
       "    .dataframe thead th {\n",
       "        text-align: right;\n",
       "    }\n",
       "</style>\n",
       "<table border=\"1\" class=\"dataframe\">\n",
       "  <thead>\n",
       "    <tr style=\"text-align: right;\">\n",
       "      <th></th>\n",
       "      <th>ISBN</th>\n",
       "      <th>book_id</th>\n",
       "    </tr>\n",
       "  </thead>\n",
       "  <tbody>\n",
       "    <tr>\n",
       "      <th>0</th>\n",
       "      <td>0002005018</td>\n",
       "      <td>1</td>\n",
       "    </tr>\n",
       "    <tr>\n",
       "      <th>1</th>\n",
       "      <td>0374157065</td>\n",
       "      <td>3</td>\n",
       "    </tr>\n",
       "    <tr>\n",
       "      <th>2</th>\n",
       "      <td>0399135782</td>\n",
       "      <td>5</td>\n",
       "    </tr>\n",
       "    <tr>\n",
       "      <th>3</th>\n",
       "      <td>0440234743</td>\n",
       "      <td>18</td>\n",
       "    </tr>\n",
       "    <tr>\n",
       "      <th>4</th>\n",
       "      <td>0452264464</td>\n",
       "      <td>19</td>\n",
       "    </tr>\n",
       "    <tr>\n",
       "      <th>...</th>\n",
       "      <td>...</td>\n",
       "      <td>...</td>\n",
       "    </tr>\n",
       "    <tr>\n",
       "      <th>16594</th>\n",
       "      <td>786914041</td>\n",
       "      <td>248348</td>\n",
       "    </tr>\n",
       "    <tr>\n",
       "      <th>16595</th>\n",
       "      <td>62117378</td>\n",
       "      <td>247944</td>\n",
       "    </tr>\n",
       "    <tr>\n",
       "      <th>16596</th>\n",
       "      <td>1905294964</td>\n",
       "      <td>248214</td>\n",
       "    </tr>\n",
       "    <tr>\n",
       "      <th>16597</th>\n",
       "      <td>1937007588</td>\n",
       "      <td>247154</td>\n",
       "    </tr>\n",
       "    <tr>\n",
       "      <th>16598</th>\n",
       "      <td>375703845</td>\n",
       "      <td>247315</td>\n",
       "    </tr>\n",
       "  </tbody>\n",
       "</table>\n",
       "<p>16599 rows × 2 columns</p>\n",
       "</div>"
      ],
      "text/plain": [
       "             ISBN  book_id\n",
       "0      0002005018        1\n",
       "1      0374157065        3\n",
       "2      0399135782        5\n",
       "3      0440234743       18\n",
       "4      0452264464       19\n",
       "...           ...      ...\n",
       "16594   786914041   248348\n",
       "16595    62117378   247944\n",
       "16596  1905294964   248214\n",
       "16597  1937007588   247154\n",
       "16598   375703845   247315\n",
       "\n",
       "[16599 rows x 2 columns]"
      ]
     },
     "execution_count": 3,
     "metadata": {},
     "output_type": "execute_result"
    }
   ],
   "source": [
    "books_df = pd.read_csv(books_data_path)\n",
    "books_df"
   ]
  },
  {
   "cell_type": "code",
   "execution_count": 4,
   "metadata": {},
   "outputs": [
    {
     "data": {
      "text/html": [
       "<div>\n",
       "<style scoped>\n",
       "    .dataframe tbody tr th:only-of-type {\n",
       "        vertical-align: middle;\n",
       "    }\n",
       "\n",
       "    .dataframe tbody tr th {\n",
       "        vertical-align: top;\n",
       "    }\n",
       "\n",
       "    .dataframe thead th {\n",
       "        text-align: right;\n",
       "    }\n",
       "</style>\n",
       "<table border=\"1\" class=\"dataframe\">\n",
       "  <thead>\n",
       "    <tr style=\"text-align: right;\">\n",
       "      <th></th>\n",
       "      <th>ISBN</th>\n",
       "      <th>book_id</th>\n",
       "    </tr>\n",
       "  </thead>\n",
       "  <tbody>\n",
       "    <tr>\n",
       "      <th>0</th>\n",
       "      <td>0002005018</td>\n",
       "      <td>1</td>\n",
       "    </tr>\n",
       "    <tr>\n",
       "      <th>1</th>\n",
       "      <td>0374157065</td>\n",
       "      <td>3</td>\n",
       "    </tr>\n",
       "    <tr>\n",
       "      <th>2</th>\n",
       "      <td>0399135782</td>\n",
       "      <td>5</td>\n",
       "    </tr>\n",
       "    <tr>\n",
       "      <th>3</th>\n",
       "      <td>0440234743</td>\n",
       "      <td>18</td>\n",
       "    </tr>\n",
       "    <tr>\n",
       "      <th>4</th>\n",
       "      <td>0452264464</td>\n",
       "      <td>19</td>\n",
       "    </tr>\n",
       "    <tr>\n",
       "      <th>...</th>\n",
       "      <td>...</td>\n",
       "      <td>...</td>\n",
       "    </tr>\n",
       "    <tr>\n",
       "      <th>16594</th>\n",
       "      <td>786914041</td>\n",
       "      <td>248348</td>\n",
       "    </tr>\n",
       "    <tr>\n",
       "      <th>16595</th>\n",
       "      <td>62117378</td>\n",
       "      <td>247944</td>\n",
       "    </tr>\n",
       "    <tr>\n",
       "      <th>16596</th>\n",
       "      <td>1905294964</td>\n",
       "      <td>248214</td>\n",
       "    </tr>\n",
       "    <tr>\n",
       "      <th>16597</th>\n",
       "      <td>1937007588</td>\n",
       "      <td>247154</td>\n",
       "    </tr>\n",
       "    <tr>\n",
       "      <th>16598</th>\n",
       "      <td>375703845</td>\n",
       "      <td>247315</td>\n",
       "    </tr>\n",
       "  </tbody>\n",
       "</table>\n",
       "<p>16261 rows × 2 columns</p>\n",
       "</div>"
      ],
      "text/plain": [
       "             ISBN  book_id\n",
       "0      0002005018        1\n",
       "1      0374157065        3\n",
       "2      0399135782        5\n",
       "3      0440234743       18\n",
       "4      0452264464       19\n",
       "...           ...      ...\n",
       "16594   786914041   248348\n",
       "16595    62117378   247944\n",
       "16596  1905294964   248214\n",
       "16597  1937007588   247154\n",
       "16598   375703845   247315\n",
       "\n",
       "[16261 rows x 2 columns]"
      ]
     },
     "execution_count": 4,
     "metadata": {},
     "output_type": "execute_result"
    }
   ],
   "source": [
    "books_df = books_df.dropna(subset=[\"ISBN\"])\n",
    "books_df.loc[:, \"ISBN\"] = books_df[\"ISBN\"].astype(str)\n",
    "books_df"
   ]
  },
  {
   "cell_type": "code",
   "execution_count": 5,
   "metadata": {},
   "outputs": [
    {
     "data": {
      "text/html": [
       "<div>\n",
       "<style scoped>\n",
       "    .dataframe tbody tr th:only-of-type {\n",
       "        vertical-align: middle;\n",
       "    }\n",
       "\n",
       "    .dataframe tbody tr th {\n",
       "        vertical-align: top;\n",
       "    }\n",
       "\n",
       "    .dataframe thead th {\n",
       "        text-align: right;\n",
       "    }\n",
       "</style>\n",
       "<table border=\"1\" class=\"dataframe\">\n",
       "  <thead>\n",
       "    <tr style=\"text-align: right;\">\n",
       "      <th></th>\n",
       "      <th>ISBN</th>\n",
       "      <th>book_id</th>\n",
       "    </tr>\n",
       "  </thead>\n",
       "  <tbody>\n",
       "    <tr>\n",
       "      <th>0</th>\n",
       "      <td>0002005018</td>\n",
       "      <td>1</td>\n",
       "    </tr>\n",
       "    <tr>\n",
       "      <th>1</th>\n",
       "      <td>0374157065</td>\n",
       "      <td>3</td>\n",
       "    </tr>\n",
       "    <tr>\n",
       "      <th>2</th>\n",
       "      <td>0399135782</td>\n",
       "      <td>5</td>\n",
       "    </tr>\n",
       "    <tr>\n",
       "      <th>3</th>\n",
       "      <td>0440234743</td>\n",
       "      <td>18</td>\n",
       "    </tr>\n",
       "    <tr>\n",
       "      <th>4</th>\n",
       "      <td>0452264464</td>\n",
       "      <td>19</td>\n",
       "    </tr>\n",
       "    <tr>\n",
       "      <th>...</th>\n",
       "      <td>...</td>\n",
       "      <td>...</td>\n",
       "    </tr>\n",
       "    <tr>\n",
       "      <th>16594</th>\n",
       "      <td>0786914041</td>\n",
       "      <td>248348</td>\n",
       "    </tr>\n",
       "    <tr>\n",
       "      <th>16595</th>\n",
       "      <td>0062117378</td>\n",
       "      <td>247944</td>\n",
       "    </tr>\n",
       "    <tr>\n",
       "      <th>16596</th>\n",
       "      <td>1905294964</td>\n",
       "      <td>248214</td>\n",
       "    </tr>\n",
       "    <tr>\n",
       "      <th>16597</th>\n",
       "      <td>1937007588</td>\n",
       "      <td>247154</td>\n",
       "    </tr>\n",
       "    <tr>\n",
       "      <th>16598</th>\n",
       "      <td>0375703845</td>\n",
       "      <td>247315</td>\n",
       "    </tr>\n",
       "  </tbody>\n",
       "</table>\n",
       "<p>16261 rows × 2 columns</p>\n",
       "</div>"
      ],
      "text/plain": [
       "             ISBN  book_id\n",
       "0      0002005018        1\n",
       "1      0374157065        3\n",
       "2      0399135782        5\n",
       "3      0440234743       18\n",
       "4      0452264464       19\n",
       "...           ...      ...\n",
       "16594  0786914041   248348\n",
       "16595  0062117378   247944\n",
       "16596  1905294964   248214\n",
       "16597  1937007588   247154\n",
       "16598  0375703845   247315\n",
       "\n",
       "[16261 rows x 2 columns]"
      ]
     },
     "execution_count": 5,
     "metadata": {},
     "output_type": "execute_result"
    }
   ],
   "source": [
    "books_df.loc[:, \"ISBN\"] = books_df[\"ISBN\"].str.zfill(10)\n",
    "books_df"
   ]
  },
  {
   "cell_type": "code",
   "execution_count": 6,
   "metadata": {},
   "outputs": [
    {
     "name": "stdout",
     "output_type": "stream",
     "text": [
      "Number of unique ISBNs: 15540\n"
     ]
    },
    {
     "data": {
      "text/plain": [
       "array(['0002005018', '0374157065', '0399135782', ..., '0062117378',\n",
       "       '1905294964', '1937007588'], dtype=object)"
      ]
     },
     "execution_count": 6,
     "metadata": {},
     "output_type": "execute_result"
    }
   ],
   "source": [
    "isbn_list = books_df[\"ISBN\"].unique()\n",
    "print(f\"Number of unique ISBNs: {len(isbn_list)}\")\n",
    "isbn_list"
   ]
  },
  {
   "cell_type": "markdown",
   "metadata": {},
   "source": [
    "## Acquire Books Metadata"
   ]
  },
  {
   "cell_type": "code",
   "execution_count": 7,
   "metadata": {},
   "outputs": [],
   "source": [
    "BASE_URL = \"https://openlibrary.org\""
   ]
  },
  {
   "cell_type": "markdown",
   "metadata": {},
   "source": [
    "### Book Data"
   ]
  },
  {
   "cell_type": "code",
   "execution_count": 12,
   "metadata": {},
   "outputs": [],
   "source": [
    "def fetch_books_data(isbn_list, batch_size=64, delay=5, max_retries=20):\n",
    "    books_data = {}\n",
    "\n",
    "    for i in tqdm(range(0, len(isbn_list), batch_size), desc=\"Fetching Books\"):\n",
    "        batch_isbns = isbn_list[i : i + batch_size]\n",
    "        bibkeys = \",\".join([\"ISBN:\" + isbn for isbn in batch_isbns])\n",
    "        params = {\n",
    "            \"bibkeys\": bibkeys,\n",
    "            \"format\": \"json\",\n",
    "            \"jscmd\": \"details\",\n",
    "        }\n",
    "        retry_count = 0\n",
    "        while retry_count < max_retries:\n",
    "            try:\n",
    "                response = requests.get(f\"{BASE_URL}/api/books\", params=params)\n",
    "                response.raise_for_status()\n",
    "                data = response.json()\n",
    "                books_data.update(data)\n",
    "                break\n",
    "            except requests.exceptions.RequestException as e:\n",
    "                retry_count += 1\n",
    "                print(f\"error at index {i} (attempt {retry_count}): {e}\")\n",
    "                if retry_count == max_retries:\n",
    "                    print(f\"giving up on batch at index {i}.\")\n",
    "                else:\n",
    "                    time.sleep(delay * retry_count)\n",
    "        time.sleep(delay)\n",
    "\n",
    "    return books_data"
   ]
  },
  {
   "cell_type": "code",
   "execution_count": 13,
   "metadata": {},
   "outputs": [
    {
     "name": "stderr",
     "output_type": "stream",
     "text": [
      "Fetching Books:  39%|███▉      | 95/243 [20:10<1:14:14, 30.10s/it]"
     ]
    },
    {
     "name": "stdout",
     "output_type": "stream",
     "text": [
      "error at index 6080 (attempt 1): 504 Server Error: Gateway Time-out for url: https://openlibrary.org/api/books?bibkeys=ISBN%3A0449006581%2CISBN%3A038547167X%2CISBN%3A0060913983%2CISBN%3A0874411033%2CISBN%3A0345434471%2CISBN%3A1551669412%2CISBN%3A0451205448%2CISBN%3A0452284295%2CISBN%3A0425190749%2CISBN%3A0451197550%2CISBN%3A159184021X%2CISBN%3A0743442652%2CISBN%3A1575667223%2CISBN%3A1575667215%2CISBN%3A038081918X%2CISBN%3A0380816830%2CISBN%3A0425184315%2CISBN%3A0380814390%2CISBN%3A1551666189%2CISBN%3A0743219333%2CISBN%3A0671786601%2CISBN%3A0505524228%2CISBN%3A0380782340%2CISBN%3A0505524279%2CISBN%3A0312981848%2CISBN%3A0515133868%2CISBN%3A1551668270%2CISBN%3A0373226055%2CISBN%3A0821765221%2CISBN%3A0446403830%2CISBN%3A074342347X%2CISBN%3A0671729454%2CISBN%3A0671007718%2CISBN%3A0446364819%2CISBN%3A8478886451%2CISBN%3A8478885196%2CISBN%3A8478884955%2CISBN%3A8478884459%2CISBN%3A0449208648%2CISBN%3A044918336X%2CISBN%3A0393000567%2CISBN%3A0553211668%2CISBN%3A0394550846%2CISBN%3A0679737383%2CISBN%3A0140430032%2CISBN%3A0141001682%2CISBN%3A0060937742%2CISBN%3A0425140040%2CISBN%3A0553277944%2CISBN%3A0887307876%2CISBN%3A039592684X%2CISBN%3A0679752927%2CISBN%3A006091646X%2CISBN%3A0452281636%2CISBN%3A080410946X%2CISBN%3A0743422449%2CISBN%3A0446359203%2CISBN%3A0312978383%2CISBN%3A051511779X%2CISBN%3A055358264X%2CISBN%3A0380978091%2CISBN%3A0451175123%2CISBN%3A0380756250%2CISBN%3A0312420323&format=json&jscmd=details\n"
     ]
    },
    {
     "name": "stderr",
     "output_type": "stream",
     "text": [
      "Fetching Books:  51%|█████     | 124/243 [34:15<56:14, 28.35s/it]  "
     ]
    },
    {
     "name": "stdout",
     "output_type": "stream",
     "text": [
      "error at index 7936 (attempt 1): 504 Server Error: Gateway Time-out for url: https://openlibrary.org/api/books?bibkeys=ISBN%3A0590254766%2CISBN%3A0590553232%2CISBN%3A0060953691%2CISBN%3A0553275569%2CISBN%3A0060195703%2CISBN%3A0553289586%2CISBN%3A0684809001%2CISBN%3A0380400634%2CISBN%3A0345424646%2CISBN%3A0451193237%2CISBN%3A0679403612%2CISBN%3A0505524090%2CISBN%3A0505523892%2CISBN%3A0743471393%2CISBN%3A1401301231%2CISBN%3A050552354X%2CISBN%3A0425190641%2CISBN%3A0505523752%2CISBN%3A0446611360%2CISBN%3A0451524764%2CISBN%3A0553379658%2CISBN%3A1580050751%2CISBN%3A0465014909%2CISBN%3A1551667940%2CISBN%3A0140295569%2CISBN%3A0452278120%2CISBN%3A0316107298%2CISBN%3A0517266555%2CISBN%3A0553801880%2CISBN%3A0399142185%2CISBN%3A0425137562%2CISBN%3A1581346085%2CISBN%3A0553575953%2CISBN%3A0399139818%2CISBN%3A1558747435%2CISBN%3A0380815575%2CISBN%3A0517595338%2CISBN%3A1578561256%2CISBN%3A0671681567%2CISBN%3A3596150981%2CISBN%3A0812515595%2CISBN%3A0515135739%2CISBN%3A0590484125%2CISBN%3A0743202694%2CISBN%3A0380732661%2CISBN%3A0060007575%2CISBN%3A0345434498%2CISBN%3A0373218540%2CISBN%3A0743457781%2CISBN%3A0373825048%2CISBN%3A037322592X%2CISBN%3A0380789892%2CISBN%3A0553584375%2CISBN%3A0671776800%2CISBN%3A0671039873%2CISBN%3A0451198387%2CISBN%3A0451166884%2CISBN%3A0515118559%2CISBN%3A1400033349%2CISBN%3A0688152449%2CISBN%3A1551667363%2CISBN%3A3492221521%2CISBN%3A0140184953%2CISBN%3A0060924985&format=json&jscmd=details\n"
     ]
    },
    {
     "name": "stderr",
     "output_type": "stream",
     "text": [
      "Fetching Books:  64%|██████▍   | 156/243 [50:02<31:28, 21.71s/it]  "
     ]
    },
    {
     "name": "stdout",
     "output_type": "stream",
     "text": [
      "error at index 9984 (attempt 1): 504 Server Error: Gateway Time-out for url: https://openlibrary.org/api/books?bibkeys=ISBN%3A189205101X%2CISBN%3A000648302X%2CISBN%3A0060952520%2CISBN%3A0671673645%2CISBN%3A0689855443%2CISBN%3A0553276182%2CISBN%3A0446363073%2CISBN%3A0451128389%2CISBN%3A0061032034%2CISBN%3A0441552765%2CISBN%3A0451180763%2CISBN%3A968150108X%2CISBN%3A0345423879%2CISBN%3A0441338518%2CISBN%3A0345336615%2CISBN%3A080501084X%2CISBN%3A0679435824%2CISBN%3A0380802457%2CISBN%3A0553272225%2CISBN%3A0300089023%2CISBN%3A0440802458%2CISBN%3A0312969414%2CISBN%3A0743403428%2CISBN%3A0140274286%2CISBN%3A006017773X%2CISBN%3A0743203984%2CISBN%3A0765342510%2CISBN%3A0671795740%2CISBN%3A0553274465%2CISBN%3A0821773682%2CISBN%3A0517559501%2CISBN%3A0671704591%2CISBN%3A1551665824%2CISBN%3A0671020366%2CISBN%3A0671020374%2CISBN%3A0394800893%2CISBN%3A0812544595%2CISBN%3A0156006219%2CISBN%3A0060953713%2CISBN%3A0394580702%2CISBN%3A0380785188%2CISBN%3A0060392991%2CISBN%3A0688077080%2CISBN%3A0451450647%2CISBN%3A0440503647%2CISBN%3A0553587188%2CISBN%3A0312310064%2CISBN%3A0449907597%2CISBN%3A2070363430%2CISBN%3A0345368924%2CISBN%3A0812507371%2CISBN%3A0552998532%2CISBN%3A0060577487%2CISBN%3A0380762277%2CISBN%3A0778320103%2CISBN%3A2253149101%2CISBN%3A0440236908%2CISBN%3A0140433627%2CISBN%3A0553573993%2CISBN%3A0440241065%2CISBN%3A0140274146%2CISBN%3A1400077354%2CISBN%3A0425190374%2CISBN%3A0505523493&format=json&jscmd=details\n"
     ]
    },
    {
     "name": "stderr",
     "output_type": "stream",
     "text": [
      "Fetching Books:  65%|██████▍   | 157/243 [51:42<1:04:46, 45.19s/it]"
     ]
    },
    {
     "name": "stdout",
     "output_type": "stream",
     "text": [
      "error at index 10048 (attempt 1): 504 Server Error: Gateway Time-out for url: https://openlibrary.org/api/books?bibkeys=ISBN%3A0312978448%2CISBN%3A0066214769%2CISBN%3A0380977478%2CISBN%3A0425166112%2CISBN%3A0425182010%2CISBN%3A0345462270%2CISBN%3A0804119716%2CISBN%3A0743243978%2CISBN%3A0515120448%2CISBN%3A0451408586%2CISBN%3A0440241111%2CISBN%3A0312977689%2CISBN%3A0380820706%2CISBN%3A0449006840%2CISBN%3A1551669625%2CISBN%3A0671739727%2CISBN%3A0671739751%2CISBN%3A0312987625%2CISBN%3A0261102362%2CISBN%3A0451523202%2CISBN%3A185326007X%2CISBN%3A0786889179%2CISBN%3A0425186865%2CISBN%3A0590409174%2CISBN%3A0373790961%2CISBN%3A0525946500%2CISBN%3A067187750X%2CISBN%3A0671690582%2CISBN%3A0671026305%2CISBN%3A0671523686%2CISBN%3A8420633119%2CISBN%3A0091891965%2CISBN%3A096463161X%2CISBN%3A0064406970%2CISBN%3A3453866797%2CISBN%3A3612275127%2CISBN%3A039914868X%2CISBN%3A0743436601%2CISBN%3A0330255320%2CISBN%3A0940322153%2CISBN%3A0441007430%2CISBN%3A0312319754%2CISBN%3A8466300651%2CISBN%3A014044131X%2CISBN%3A0684825546%2CISBN%3A0156586509%2CISBN%3A0345440064%2CISBN%3A0399152288%2CISBN%3A1401300057%2CISBN%3A031218171X%2CISBN%3A0156226006%2CISBN%3A0316769177%2CISBN%3A0449209830%2CISBN%3A0060013125%2CISBN%3A0515120111%2CISBN%3A3499222507%2CISBN%3A2234054036%2CISBN%3A0380808315%2CISBN%3A186450062X%2CISBN%3A0394890485%2CISBN%3A0823401898%2CISBN%3A1573221716%2CISBN%3A0060294671%2CISBN%3A0451160452&format=json&jscmd=details\n"
     ]
    },
    {
     "name": "stderr",
     "output_type": "stream",
     "text": [
      "Fetching Books:  65%|██████▌   | 158/243 [53:05<1:19:51, 56.37s/it]"
     ]
    },
    {
     "name": "stdout",
     "output_type": "stream",
     "text": [
      "error at index 10112 (attempt 1): 504 Server Error: Gateway Time-out for url: https://openlibrary.org/api/books?bibkeys=ISBN%3A0345450884%2CISBN%3A0345434870%2CISBN%3A0060976624%2CISBN%3A0399135812%2CISBN%3A0345453743%2CISBN%3A0140276238%2CISBN%3A0330487612%2CISBN%3A2070364232%2CISBN%3A0345457374%2CISBN%3A0451199669%2CISBN%3A0380816822%2CISBN%3A0743428617%2CISBN%3A0439425220%2CISBN%3A0091842050%2CISBN%3A0380795981%2CISBN%3A0425135772%2CISBN%3A0452283221%2CISBN%3A0786868414%2CISBN%3A0375411089%2CISBN%3A0385336195%2CISBN%3A0515087491%2CISBN%3A0440209862%2CISBN%3A0679451463%2CISBN%3A0671024809%2CISBN%3A0684854848%2CISBN%3A0609810022%2CISBN%3A3426610361%2CISBN%3A3404139178%2CISBN%3A3442444365%2CISBN%3A0515132039%2CISBN%3A0671014676%2CISBN%3A0553568167%2CISBN%3A0425173739%2CISBN%3A0060934794%2CISBN%3A0399149309%2CISBN%3A059033123X%2CISBN%3A0679737898%2CISBN%3A0452285186%2CISBN%3A3404920481%2CISBN%3A0553213458%2CISBN%3A0399142703%2CISBN%3A067003004X%2CISBN%3A0285636464%2CISBN%3A0684847817%2CISBN%3A0312983433%2CISBN%3A0060586605%2CISBN%3A0140445269%2CISBN%3A0684856069%2CISBN%3A2266004034%2CISBN%3A0060584750%2CISBN%3A1551668017%2CISBN%3A0345440137%2CISBN%3A0380787075%2CISBN%3A0553574019%2CISBN%3A0671013971%2CISBN%3A0812544501%2CISBN%3A3442452643%2CISBN%3A0140174397%2CISBN%3A1893956032%2CISBN%3A074346978X%2CISBN%3A0743246438%2CISBN%3A0380812894%2CISBN%3A0385021747%2CISBN%3A0399149244&format=json&jscmd=details\n"
     ]
    },
    {
     "name": "stderr",
     "output_type": "stream",
     "text": [
      "Fetching Books:  65%|██████▌   | 159/243 [54:22<1:27:36, 62.58s/it]"
     ]
    },
    {
     "name": "stdout",
     "output_type": "stream",
     "text": [
      "error at index 10176 (attempt 1): 504 Server Error: Gateway Time-out for url: https://openlibrary.org/api/books?bibkeys=ISBN%3A006103083X%2CISBN%3A1559587032%2CISBN%3A0062513591%2CISBN%3A0515129240%2CISBN%3A0316809063%2CISBN%3A0440979757%2CISBN%3A0553493981%2CISBN%3A0345434684%2CISBN%3A0671695320%2CISBN%3A0140250913%2CISBN%3A0434009202%2CISBN%3A2277241202%2CISBN%3A0525944001%2CISBN%3A0451197968%2CISBN%3A8484505294%2CISBN%3A0385334389%2CISBN%3A0886771404%2CISBN%3A0345348672%2CISBN%3A0441865038%2CISBN%3A0812531108%2CISBN%3A0380721457%2CISBN%3A0452272319%2CISBN%3A0451202511%2CISBN%3A0505522659%2CISBN%3A091581112X%2CISBN%3A0886779898%2CISBN%3A0060081597%2CISBN%3A0743412311%2CISBN%3A1561380911%2CISBN%3A0140431179%2CISBN%3A3423071516%2CISBN%3A0743422740%2CISBN%3A0451408756%2CISBN%3A3257233396%2CISBN%3A0425103552%2CISBN%3A0553572024%2CISBN%3A2264029951%2CISBN%3A2253153265%2CISBN%3A2226133895%2CISBN%3A0060534044%2CISBN%3A2266120166%2CISBN%3A0446612588%2CISBN%3A0751502014%2CISBN%3A0312970234%2CISBN%3A0380802449%2CISBN%3A0894864025%2CISBN%3A0671003356%2CISBN%3A3257204981%2CISBN%3A3453212045%2CISBN%3A0140430962%2CISBN%3A0062516590%2CISBN%3A0679400702%2CISBN%3A0140268863%2CISBN%3A0812541626%2CISBN%3A0399132414%2CISBN%3A1563891719%2CISBN%3A1563891050%2CISBN%3A0441810764%2CISBN%3A0895261901%2CISBN%3A0140430105%2CISBN%3A0140433813%2CISBN%3A0140441166%2CISBN%3A0002259834%2CISBN%3A0345422805&format=json&jscmd=details\n"
     ]
    },
    {
     "name": "stderr",
     "output_type": "stream",
     "text": [
      "Fetching Books:  66%|██████▌   | 160/243 [55:44<1:34:49, 68.55s/it]"
     ]
    },
    {
     "name": "stdout",
     "output_type": "stream",
     "text": [
      "error at index 10240 (attempt 1): 504 Server Error: Gateway Time-out for url: https://openlibrary.org/api/books?bibkeys=ISBN%3A8838910170%2CISBN%3A0812930991%2CISBN%3A0446612766%2CISBN%3A045121157X%2CISBN%3A0399151540%2CISBN%3A0771099975%2CISBN%3A1560974273%2CISBN%3A1853260037%2CISBN%3A0812523466%2CISBN%3A0515131660%2CISBN%3A044100928X%2CISBN%3A0590452568%2CISBN%3A0399231420%2CISBN%3A0312289197%2CISBN%3A0440220394%2CISBN%3A0316845221%2CISBN%3A0770426182%2CISBN%3A2266023039%2CISBN%3A0140233903%2CISBN%3A0449210677%2CISBN%3A0425190838%2CISBN%3A0684833778%2CISBN%3A068803036X%2CISBN%3A0765343266%2CISBN%3A0765345013%2CISBN%3A0810909650%2CISBN%3A0385508719%2CISBN%3A2070406962%2CISBN%3A0812536037%2CISBN%3A0385487622%2CISBN%3A078688200X%2CISBN%3A031600023X%2CISBN%3A0440235448%2CISBN%3A8433969528%2CISBN%3A0679428879%2CISBN%3A0553802038%2CISBN%3A1551669552%2CISBN%3A0743223551%2CISBN%3A0425193993%2CISBN%3A0451165551%2CISBN%3A3423205903%2CISBN%3A0061056928%2CISBN%3A0811818276%2CISBN%3A0609809636%2CISBN%3A0446530743%2CISBN%3A0312929587%2CISBN%3A0449911608%2CISBN%3A0142000213%2CISBN%3A0892131284%2CISBN%3A0451166361%2CISBN%3A0849908647%2CISBN%3A0725107251%2CISBN%3A0875421857%2CISBN%3A1563892057%2CISBN%3A0140067647%2CISBN%3A0689822804%2CISBN%3A0062516582%2CISBN%3A0931674085%2CISBN%3A0743204700%2CISBN%3A0345302834%2CISBN%3A0345440080%2CISBN%3A0380708906%2CISBN%3A0679736654%2CISBN%3A0060953748&format=json&jscmd=details\n"
     ]
    },
    {
     "name": "stderr",
     "output_type": "stream",
     "text": [
      "Fetching Books:  66%|██████▋   | 161/243 [56:59<1:36:23, 70.54s/it]"
     ]
    },
    {
     "name": "stdout",
     "output_type": "stream",
     "text": [
      "error at index 10304 (attempt 1): 504 Server Error: Gateway Time-out for url: https://openlibrary.org/api/books?bibkeys=ISBN%3A0091867908%2CISBN%3A0671769227%2CISBN%3A1551665972%2CISBN%3A055357289X%2CISBN%3A0394712587%2CISBN%3A0441029205%2CISBN%3A0006551971%2CISBN%3A0061092096%2CISBN%3A0671648152%2CISBN%3A0865714088%2CISBN%3A0743477316%2CISBN%3A0804104549%2CISBN%3A0380791854%2CISBN%3A0892966777%2CISBN%3A0446377651%2CISBN%3A0192816209%2CISBN%3A3548600808%2CISBN%3A0552150738%2CISBN%3A0140250832%2CISBN%3A0786918047%2CISBN%3A0312962444%2CISBN%3A0345329821%2CISBN%3A1561483176%2CISBN%3A0679767223%2CISBN%3A0451933028%2CISBN%3A0312983395%2CISBN%3A0380727617%2CISBN%3A0374373620%2CISBN%3A067172052X%2CISBN%3A0886775914%2CISBN%3A0449130703%2CISBN%3A1572460733%2CISBN%3A2205054252%2CISBN%3A1563891387%2CISBN%3A0330482203%2CISBN%3A0886777992%2CISBN%3A0812504577%2CISBN%3A0743236009%2CISBN%3A0345288238%2CISBN%3A0060528370%2CISBN%3A0060921056%2CISBN%3A014062063X%2CISBN%3A0140390197%2CISBN%3A0552141275%2CISBN%3A0450588866%2CISBN%3A0786806532%2CISBN%3A3442414199%2CISBN%3A0553290991%2CISBN%3A0060968966%2CISBN%3A0316103098%2CISBN%3A0316107549%2CISBN%3A0805000313%2CISBN%3A0525460543%2CISBN%3A0060514957%2CISBN%3A0451524233%2CISBN%3A0060919884%2CISBN%3A0689828683%2CISBN%3A0312983131%2CISBN%3A0553571931%2CISBN%3A014011291X%2CISBN%3A0385493622%2CISBN%3A0446673706%2CISBN%3A0140441204%2CISBN%3A0670032573&format=json&jscmd=details\n"
     ]
    },
    {
     "name": "stderr",
     "output_type": "stream",
     "text": [
      "Fetching Books:  67%|██████▋   | 162/243 [58:23<1:40:35, 74.51s/it]"
     ]
    },
    {
     "name": "stdout",
     "output_type": "stream",
     "text": [
      "error at index 10368 (attempt 1): 504 Server Error: Gateway Time-out for url: https://openlibrary.org/api/books?bibkeys=ISBN%3A0452279623%2CISBN%3A0452279615%2CISBN%3A078601475X%2CISBN%3A0441010652%2CISBN%3A0590403605%2CISBN%3A067976657X%2CISBN%3A1577780728%2CISBN%3A0345459407%2CISBN%3A0451456688%2CISBN%3A0515137200%2CISBN%3A014130636X%2CISBN%3A0786889780%2CISBN%3A0440941407%2CISBN%3A0446678112%2CISBN%3A0425062333%2CISBN%3A067974066X%2CISBN%3A0515136298%2CISBN%3A0758201346%2CISBN%3A0505524899%2CISBN%3A0373790376%2CISBN%3A0515134899%2CISBN%3A0553257382%2CISBN%3A067153288X%2CISBN%3A0440235081%2CISBN%3A017443460X%2CISBN%3A0345350480%2CISBN%3A0385007515%2CISBN%3A0349101787%2CISBN%3A849550152X%2CISBN%3A0345440056%2CISBN%3A038097407X%2CISBN%3A0394909674%2CISBN%3A0375413006%2CISBN%3A0886775132%2CISBN%3A0312252943%2CISBN%3A0140096930%2CISBN%3A0060977035%2CISBN%3A0451457307%2CISBN%3A0671870807%2CISBN%3A1400034639%2CISBN%3A0671654160%2CISBN%3A0380730375%2CISBN%3A0399527257%2CISBN%3A050552337X%2CISBN%3A0743444299%2CISBN%3A0671774778%2CISBN%3A0743405927%2CISBN%3A074343434X%2CISBN%3A0385335660%2CISBN%3A0671024914%2CISBN%3A0140147551%2CISBN%3A0684842319%2CISBN%3A0345354923%2CISBN%3A0451407946%2CISBN%3A0393320979%2CISBN%3A014044100X%2CISBN%3A0449208400%2CISBN%3A0061011738%2CISBN%3A0399139869%2CISBN%3A1885211155%2CISBN%3A0671554506%2CISBN%3A0811214044%2CISBN%3A0670891770%2CISBN%3A0767907140&format=json&jscmd=details\n"
     ]
    },
    {
     "name": "stderr",
     "output_type": "stream",
     "text": [
      "Fetching Books:  67%|██████▋   | 163/243 [1:00:05<1:50:15, 82.69s/it]"
     ]
    },
    {
     "name": "stdout",
     "output_type": "stream",
     "text": [
      "error at index 10432 (attempt 1): 504 Server Error: Gateway Time-out for url: https://openlibrary.org/api/books?bibkeys=ISBN%3A2253097829%2CISBN%3A0451518829%2CISBN%3A3453025237%2CISBN%3A0679740392%2CISBN%3A0752808753%2CISBN%3A0140081135%2CISBN%3A0385495757%2CISBN%3A0671682873%2CISBN%3A1853262218%2CISBN%3A3404129660%2CISBN%3A3492234429%2CISBN%3A0451526570%2CISBN%3A0373078110%2CISBN%3A3453115937%2CISBN%3A006447352X%2CISBN%3A0345417062%2CISBN%3A067972575X%2CISBN%3A0679416463%2CISBN%3A0732257476%2CISBN%3A184149058X%2CISBN%3A0380820560%2CISBN%3A078691551X%2CISBN%3A0786915528%2CISBN%3A0140315977%2CISBN%3A0425067947%2CISBN%3A0345375599%2CISBN%3A0312876637%2CISBN%3A0515121959%2CISBN%3A0060548258%2CISBN%3A0553565214%2CISBN%3A0140071075%2CISBN%3A0140441212%2CISBN%3A0007170866%2CISBN%3A0876120796%2CISBN%3A3257230885%2CISBN%3A0517565188%2CISBN%3A2253006920%2CISBN%3A8420466034%2CISBN%3A3522128001%2CISBN%3A3499158124%2CISBN%3A1551669250%2CISBN%3A3492107001%2CISBN%3A3453861434%2CISBN%3A0449214923%2CISBN%3A067100669X%2CISBN%3A0312205481%2CISBN%3A0590324217%2CISBN%3A0375501916%2CISBN%3A0440227720%2CISBN%3A0688142877%2CISBN%3A0449147606%2CISBN%3A0375503803%2CISBN%3A0060931388%2CISBN%3A0440228441%2CISBN%3A0843947357%2CISBN%3A1560768401%2CISBN%3A051754489X%2CISBN%3A0440204232%2CISBN%3A0689846673%2CISBN%3A1551665352%2CISBN%3A0380805596%2CISBN%3A0385512147%2CISBN%3A0452284554%2CISBN%3A0345418913&format=json&jscmd=details\n"
     ]
    },
    {
     "name": "stderr",
     "output_type": "stream",
     "text": [
      "Fetching Books:  67%|██████▋   | 164/243 [1:01:53<1:59:03, 90.43s/it]"
     ]
    },
    {
     "name": "stdout",
     "output_type": "stream",
     "text": [
      "error at index 10496 (attempt 1): 504 Server Error: Gateway Time-out for url: https://openlibrary.org/api/books?bibkeys=ISBN%3A2070360105%2CISBN%3A0684848465%2CISBN%3A0312317751%2CISBN%3A0373709366%2CISBN%3A0785270493%2CISBN%3A0399142487%2CISBN%3A0060008725%2CISBN%3A0553094416%2CISBN%3A0743249925%2CISBN%3A0140620621%2CISBN%3A0192834622%2CISBN%3A0060188952%2CISBN%3A0380974991%2CISBN%3A0679781498%2CISBN%3A0060176660%2CISBN%3A0375400516%2CISBN%3A0399148612%2CISBN%3A0525943749%2CISBN%3A0553211919%2CISBN%3A0553212443%2CISBN%3A0451452062%2CISBN%3A0812510011%2CISBN%3A0140366733%2CISBN%3A0330349678%2CISBN%3A0441011632%2CISBN%3A0449910555%2CISBN%3A325721846X%2CISBN%3A0575600306%2CISBN%3A0451526775%2CISBN%3A0440224640%2CISBN%3A0671600419%2CISBN%3A0671876236%2CISBN%3A0061093580%2CISBN%3A0316921173%2CISBN%3A0393057658%2CISBN%3A074346446X%2CISBN%3A1569472424%2CISBN%3A0140238719%2CISBN%3A0451407636%2CISBN%3A3442350247%2CISBN%3A0812532538%2CISBN%3A0930289528%2CISBN%3A3404123689%2CISBN%3A0375718850%2CISBN%3A2070369595%2CISBN%3A1580050719%2CISBN%3A0553267701%2CISBN%3A0892967811%2CISBN%3A0425044440%2CISBN%3A0446606421%2CISBN%3A0385335989%2CISBN%3A0812575350%2CISBN%3A0786918055%2CISBN%3A0786929804%2CISBN%3A0376038519%2CISBN%3A0061056901%2CISBN%3A0451523660%2CISBN%3A0345357116%2CISBN%3A0590300946%2CISBN%3A0761101144%2CISBN%3A0394717155%2CISBN%3A0316286869%2CISBN%3A0446400165%2CISBN%3A0440972922&format=json&jscmd=details\n"
     ]
    },
    {
     "name": "stderr",
     "output_type": "stream",
     "text": [
      "Fetching Books:  68%|██████▊   | 165/243 [1:03:25<1:58:05, 90.84s/it]"
     ]
    },
    {
     "name": "stdout",
     "output_type": "stream",
     "text": [
      "error at index 10560 (attempt 1): 504 Server Error: Gateway Time-out for url: https://openlibrary.org/api/books?bibkeys=ISBN%3A0440210917%2CISBN%3A1551667126%2CISBN%3A1580050298%2CISBN%3A0609607383%2CISBN%3A0310205719%2CISBN%3A0425126870%2CISBN%3A0425180433%2CISBN%3A0812969650%2CISBN%3A0061091227%2CISBN%3A0345425480%2CISBN%3A044661372X%2CISBN%3A0671701606%2CISBN%3A0440215730%2CISBN%3A0786882573%2CISBN%3A0717283194%2CISBN%3A0156465116%2CISBN%3A0517219018%2CISBN%3A0393324826%2CISBN%3A0385121679%2CISBN%3A8408022938%2CISBN%3A1558532765%2CISBN%3A8437600685%2CISBN%3A0451159411%2CISBN%3A0446518344%2CISBN%3A0836252926%2CISBN%3A0380776162%2CISBN%3A0312979088%2CISBN%3A0805425500%2CISBN%3A1571312471%2CISBN%3A0590306731%2CISBN%3A0553382241%2CISBN%3A0571198775%2CISBN%3A0973047305%2CISBN%3A0671644467%2CISBN%3A1571458735%2CISBN%3A0380820692%2CISBN%3A0061020621%2CISBN%3A0380775271%2CISBN%3A0451207394%2CISBN%3A0740713922%2CISBN%3A0664224199%2CISBN%3A0671020781%2CISBN%3A1883473004%2CISBN%3A0345369343%2CISBN%3A0399151877%2CISBN%3A0786867256%2CISBN%3A0061012203%2CISBN%3A037379116X%2CISBN%3A0312301995%2CISBN%3A0671023888%2CISBN%3A0380786230%2CISBN%3A0743453956%2CISBN%3A0446612251%2CISBN%3A0451406095%2CISBN%3A0141310464%2CISBN%3A0765304368%2CISBN%3A0399149260%2CISBN%3A0375703438%2CISBN%3A0373711034%2CISBN%3A0373790724%2CISBN%3A0740718398%2CISBN%3A0812572270%2CISBN%3A0786918063%2CISBN%3A0380978555&format=json&jscmd=details\n"
     ]
    },
    {
     "name": "stderr",
     "output_type": "stream",
     "text": [
      "Fetching Books:  68%|██████▊   | 166/243 [1:04:43<1:51:27, 86.85s/it]"
     ]
    },
    {
     "name": "stdout",
     "output_type": "stream",
     "text": [
      "error at index 10624 (attempt 1): 504 Server Error: Gateway Time-out for url: https://openlibrary.org/api/books?bibkeys=ISBN%3A078686804X%2CISBN%3A0553111132%2CISBN%3A0373790147%2CISBN%3A0452283507%2CISBN%3A0345433300%2CISBN%3A0345326784%2CISBN%3A0786863900%2CISBN%3A0152012397%2CISBN%3A0060234814%2CISBN%3A0670873616%2CISBN%3A0425178900%2CISBN%3A0446523232%2CISBN%3A0743205383%2CISBN%3A0345295250%2CISBN%3A1558599177%2CISBN%3A1551666804%2CISBN%3A0140441476%2CISBN%3A0671722565%2CISBN%3A0786926945%2CISBN%3A0312141440%2CISBN%3A0374128715%2CISBN%3A0743451716%2CISBN%3A0140174664%2CISBN%3A0441788386%2CISBN%3A0064430189%2CISBN%3A0345353889%2CISBN%3A081120118X%2CISBN%3A067121148X%2CISBN%3A840149186X%2CISBN%3A050552421X%2CISBN%3A0449002551%2CISBN%3A0886777348%2CISBN%3A0884860884%2CISBN%3A0060928832%2CISBN%3A0451201159%2CISBN%3A0671577786%2CISBN%3A0375702695%2CISBN%3A8401462231%2CISBN%3A1558533834%2CISBN%3A0679740244%2CISBN%3A075640049X%2CISBN%3A0380893002%2CISBN%3A0385326335%2CISBN%3A0451198646%2CISBN%3A3453151658%2CISBN%3A0380978482%2CISBN%3A006019250X%2CISBN%3A3442350956%2CISBN%3A0786890088%2CISBN%3A0330353349%2CISBN%3A0060534052%2CISBN%3A0062081861%2CISBN%3A0062300547%2CISBN%3A0747532036%2CISBN%3A0394758250%2CISBN%3A1401324029%2CISBN%3A0142408794%2CISBN%3A0142002046%2CISBN%3A0743269519%2CISBN%3A0060931736%2CISBN%3A0517580519%2CISBN%3A1594201927%2CISBN%3A9791680000%2CISBN%3A0689878362&format=json&jscmd=details\n"
     ]
    },
    {
     "name": "stderr",
     "output_type": "stream",
     "text": [
      "Fetching Books:  71%|███████   | 173/243 [1:12:02<1:07:28, 57.83s/it]"
     ]
    },
    {
     "name": "stdout",
     "output_type": "stream",
     "text": [
      "error at index 11072 (attempt 1): 504 Server Error: Gateway Time-out for url: https://openlibrary.org/api/books?bibkeys=ISBN%3A0142437298%2CISBN%3A0805072454%2CISBN%3A1606841750%2CISBN%3A1400078776%2CISBN%3A006057299X%2CISBN%3A0399170863%2CISBN%3A0723247706%2CISBN%3A0399156577%2CISBN%3A0312361270%2CISBN%3A1400034205%2CISBN%3A156512569X%2CISBN%3A0345478169%2CISBN%3A0743406567%2CISBN%3A1400044618%2CISBN%3A159514322X%2CISBN%3A0446698873%2CISBN%3A0760704066%2CISBN%3A1423118243%2CISBN%3A1416554955%2CISBN%3A0060885459%2CISBN%3A0375821821%2CISBN%3A0394709306%2CISBN%3A044022800X%2CISBN%3A1857983416%2CISBN%3A0385340117%2CISBN%3A0698113578%2CISBN%3A0618485228%2CISBN%3A1408852594%2CISBN%3A0099595818%2CISBN%3A1400078431%2CISBN%3A1594489866%2CISBN%3A0312315732%2CISBN%3A0374384738%2CISBN%3A0061240273%2CISBN%3A0440240964%2CISBN%3A0425190455%2CISBN%3A045146379X%2CISBN%3A0312380828%2CISBN%3A145162445X%2CISBN%3A0743297334%2CISBN%3A0440226708%2CISBN%3A1551111721%2CISBN%3A044101268X%2CISBN%3A0553384104%2CISBN%3A0805211063%2CISBN%3A0061139378%2CISBN%3A0547229895%2CISBN%3A0316210730%2CISBN%3A0385351399%2CISBN%3A1442407689%2CISBN%3A0679644199%2CISBN%3A0785123113%2CISBN%3A0545123267%2CISBN%3A0743289803%2CISBN%3A0373210035%2CISBN%3A0141311371%2CISBN%3A0297859382%2CISBN%3A1417642122%2CISBN%3A074347418X%2CISBN%3A0752863886%2CISBN%3A1857984986%2CISBN%3A0007230206%2CISBN%3A0062320521%2CISBN%3A0486234118&format=json&jscmd=details\n"
     ]
    },
    {
     "name": "stderr",
     "output_type": "stream",
     "text": [
      "Fetching Books:  75%|███████▍  | 182/243 [1:20:00<46:07, 45.37s/it]  "
     ]
    },
    {
     "name": "stdout",
     "output_type": "stream",
     "text": [
      "error at index 11648 (attempt 1): 504 Server Error: Gateway Time-out for url: https://openlibrary.org/api/books?bibkeys=ISBN%3A0375724427%2CISBN%3A0312932804%2CISBN%3A1936365537%2CISBN%3A0060935782%2CISBN%3A0441014739%2CISBN%3A0811216012%2CISBN%3A0586064176%2CISBN%3A0743482778%2CISBN%3A0670011940%2CISBN%3A033041335X%2CISBN%3A0062128027%2CISBN%3A0373772327%2CISBN%3A0374187614%2CISBN%3A0765326361%2CISBN%3A148234873X%2CISBN%3A0312947054%2CISBN%3A0060931728%2CISBN%3A1421501708%2CISBN%3A0553584502%2CISBN%3A0618101365%2CISBN%3A0763628115%2CISBN%3A014044789X%2CISBN%3A142311339X%2CISBN%3A1596437138%2CISBN%3A0345373944%2CISBN%3A1622660757%2CISBN%3A1423166000%2CISBN%3A1442402008%2CISBN%3A1400047463%2CISBN%3A080509461X%2CISBN%3A0143036661%2CISBN%3A0006174434%2CISBN%3A0802720854%2CISBN%3A0062311077%2CISBN%3A0385739168%2CISBN%3A0752815393%2CISBN%3A0316133191%2CISBN%3A1442408626%2CISBN%3A0141183721%2CISBN%3A0316098868%2CISBN%3A0670062278%2CISBN%3A0385340990%2CISBN%3A1607060760%2CISBN%3A0006480101%2CISBN%3A0064401480%2CISBN%3A0399256199%2CISBN%3A0380974738%2CISBN%3A0312330340%2CISBN%3A0345534522%2CISBN%3A0552135399%2CISBN%3A0062257838%2CISBN%3A0557489563%2CISBN%3A0717287564%2CISBN%3A0060959681%2CISBN%3A0385538898%2CISBN%3A0143039962%2CISBN%3A0385741391%2CISBN%3A076366040X%2CISBN%3A0143035479%2CISBN%3A0452264014%2CISBN%3A1843913720%2CISBN%3A1617750255%2CISBN%3A038549565X%2CISBN%3A0965818675&format=json&jscmd=details\n"
     ]
    },
    {
     "name": "stderr",
     "output_type": "stream",
     "text": [
      "Fetching Books:  76%|███████▌  | 184/243 [1:22:05<52:03, 52.95s/it]"
     ]
    },
    {
     "name": "stdout",
     "output_type": "stream",
     "text": [
      "error at index 11776 (attempt 1): 504 Server Error: Gateway Time-out for url: https://openlibrary.org/api/books?bibkeys=ISBN%3A0439846692%2CISBN%3A0553807056%2CISBN%3A0803740166%2CISBN%3A0142400017%2CISBN%3A1595541209%2CISBN%3A1600963943%2CISBN%3A030711838X%2CISBN%3A1595143971%2CISBN%3A1594480001%2CISBN%3A1451668201%2CISBN%3A0767915305%2CISBN%3A0670018864%2CISBN%3A059306173X%2CISBN%3A0062024035%2CISBN%3A0803734735%2CISBN%3A0553381660%2CISBN%3A067002497X%2CISBN%3A0345534182%2CISBN%3A0399231900%2CISBN%3A1594480036%2CISBN%3A1557091552%2CISBN%3A1455521191%2CISBN%3A1442402326%2CISBN%3A0553813153%2CISBN%3A0060856262%2CISBN%3A0060735414%2CISBN%3A0099471426%2CISBN%3A0316159417%2CISBN%3A0061969559%2CISBN%3A0060577371%2CISBN%3A0451475321%2CISBN%3A1596060204%2CISBN%3A0143039970%2CISBN%3A0823404706%2CISBN%3A1846558913%2CISBN%3A0743231511%2CISBN%3A1579125743%2CISBN%3A0192834401%2CISBN%3A0373775490%2CISBN%3A1439148503%2CISBN%3A031601477X%2CISBN%3A1416914293%2CISBN%3A0618680004%2CISBN%3A1616960922%2CISBN%3A1442435003%2CISBN%3A0385339658%2CISBN%3A0385339410%2CISBN%3A0062236679%2CISBN%3A1250028647%2CISBN%3A0553381547%2CISBN%3A0340606517%2CISBN%3A1841156736%2CISBN%3A0575082453%2CISBN%3A1904633684%2CISBN%3A0316081051%2CISBN%3A1468139339%2CISBN%3A0743454162%2CISBN%3A0345533623%2CISBN%3A0060595183%2CISBN%3A0316185906%2CISBN%3A0399256768%2CISBN%3A156389341X%2CISBN%3A0060837055%2CISBN%3A0675093244&format=json&jscmd=details\n"
     ]
    },
    {
     "name": "stderr",
     "output_type": "stream",
     "text": [
      "Fetching Books:  78%|███████▊  | 189/243 [1:25:59<44:09, 49.07s/it]  "
     ]
    },
    {
     "name": "stdout",
     "output_type": "stream",
     "text": [
      "error at index 12096 (attempt 1): 504 Server Error: Gateway Time-out for url: https://openlibrary.org/api/books?bibkeys=ISBN%3A0486270645%2CISBN%3A076534078X%2CISBN%3A0446520594%2CISBN%3A1860498809%2CISBN%3A0060510862%2CISBN%3A0571215165%2CISBN%3A0739461192%2CISBN%3A0440241022%2CISBN%3A159463467X%2CISBN%3A1563893150%2CISBN%3A159038783X%2CISBN%3A0805080481%2CISBN%3A0689875347%2CISBN%3A069401298X%2CISBN%3A0330369032%2CISBN%3A0439895979%2CISBN%3A0689711735%2CISBN%3A1596434872%2CISBN%3A031609739X%2CISBN%3A1416505016%2CISBN%3A1416949658%2CISBN%3A0099409968%2CISBN%3A1563892049%2CISBN%3A0446675539%2CISBN%3A0312642989%2CISBN%3A0718149122%2CISBN%3A0062285505%2CISBN%3A038553714X%2CISBN%3A1847679447%2CISBN%3A0345487133%2CISBN%3A0670869392%2CISBN%3A0609602195%2CISBN%3A0062279874%2CISBN%3A0778313654%2CISBN%3A0143123238%2CISBN%3A0060724552%2CISBN%3A044024160X%2CISBN%3A0843955287%2CISBN%3A0553376055%2CISBN%3A0152047387%2CISBN%3A1400043468%2CISBN%3A0061340634%2CISBN%3A0553583182%2CISBN%3A0345495160%2CISBN%3A0894802046%2CISBN%3A043985802X%2CISBN%3A0312554192%2CISBN%3A0316043001%2CISBN%3A0099435136%2CISBN%3A1841490237%2CISBN%3A0743272501%2CISBN%3A0446612758%2CISBN%3A1844280594%2CISBN%3A0553585975%2CISBN%3A0060589280%2CISBN%3A0061783196%2CISBN%3A1595142509%2CISBN%3A0307594033%2CISBN%3A1400066409%2CISBN%3A0446690457%2CISBN%3A0679889108%2CISBN%3A0060763280%2CISBN%3A0758213506%2CISBN%3A0761169253&format=json&jscmd=details\n"
     ]
    },
    {
     "name": "stderr",
     "output_type": "stream",
     "text": [
      "Fetching Books:  79%|███████▊  | 191/243 [1:27:55<43:37, 50.34s/it]"
     ]
    },
    {
     "name": "stdout",
     "output_type": "stream",
     "text": [
      "error at index 12224 (attempt 1): HTTPSConnectionPool(host='openlibrary.org', port=443): Max retries exceeded with url: /api/books?bibkeys=ISBN%3A1400033411%2CISBN%3A1560254556%2CISBN%3A1906427135%2CISBN%3A1569314063%2CISBN%3A0571219357%2CISBN%3A0316201545%2CISBN%3A076534825X%2CISBN%3A1566195764%2CISBN%3A0307588653%2CISBN%3A0613026667%2CISBN%3A0007251866%2CISBN%3A0064408671%2CISBN%3A081299860X%2CISBN%3A0812974611%2CISBN%3A0399159371%2CISBN%3A0007173040%2CISBN%3A0804138141%2CISBN%3A1612130291%2CISBN%3A1423102282%2CISBN%3A045122986X%2CISBN%3A0778313077%2CISBN%3A0671035975%2CISBN%3A0062224859%2CISBN%3A0375435484%2CISBN%3A0316080845%2CISBN%3A0340893605%2CISBN%3A0312591837%2CISBN%3A0552562521%2CISBN%3A0312938810%2CISBN%3A0312650094%2CISBN%3A0316115002%2CISBN%3A0765326574%2CISBN%3A125000621X%2CISBN%3A0451528182%2CISBN%3A140121813X%2CISBN%3A0064410471%2CISBN%3A042523567X%2CISBN%3A0394839730%2CISBN%3A039586786X%2CISBN%3A054506046X%2CISBN%3A0385513534%2CISBN%3A0575058080%2CISBN%3A0060775971%2CISBN%3A0446677388%2CISBN%3A0345425502%2CISBN%3A0385517882%2CISBN%3A1420925539%2CISBN%3A0330419129%2CISBN%3A0786818611%2CISBN%3A0743496744%2CISBN%3A0765336413%2CISBN%3A8129135728%2CISBN%3A0545060397%2CISBN%3A0736693416%2CISBN%3A1841493015%2CISBN%3A0375835318%2CISBN%3A0812966007%2CISBN%3A0451226801%2CISBN%3A0340818670%2CISBN%3A0451208641%2CISBN%3A0812474945%2CISBN%3A0316134023%2CISBN%3A0743454154%2CISBN%3A0152061548&format=json&jscmd=details (Caused by NameResolutionError(\"<urllib3.connection.HTTPSConnection object at 0x17e48baa0>: Failed to resolve 'openlibrary.org' ([Errno 8] nodename nor servname provided, or not known)\"))\n"
     ]
    },
    {
     "name": "stderr",
     "output_type": "stream",
     "text": [
      "Fetching Books:  82%|████████▏ | 200/243 [1:34:02<25:07, 35.07s/it]"
     ]
    },
    {
     "name": "stdout",
     "output_type": "stream",
     "text": [
      "error at index 12800 (attempt 1): 504 Server Error: Gateway Time-out for url: https://openlibrary.org/api/books?bibkeys=ISBN%3A1301949825%2CISBN%3A1582406723%2CISBN%3A0345418484%2CISBN%3A0140283307%2CISBN%3A0192840398%2CISBN%3A0515144665%2CISBN%3A1599906953%2CISBN%3A0755358783%2CISBN%3A0062219685%2CISBN%3A0226320618%2CISBN%3A0486414248%2CISBN%3A1416927832%2CISBN%3A0142408654%2CISBN%3A0441016154%2CISBN%3A000712774X%2CISBN%3A0739380338%2CISBN%3A0743474171%2CISBN%3A0451219368%2CISBN%3A031623480X%2CISBN%3A1585673927%2CISBN%3A0156031663%2CISBN%3A1416547037%2CISBN%3A0385504225%2CISBN%3A1400067111%2CISBN%3A1847442404%2CISBN%3A067122350X%2CISBN%3A0060531258%2CISBN%3A0061974587%2CISBN%3A0671655973%2CISBN%3A1423100050%2CISBN%3A0099366614%2CISBN%3A0590396439%2CISBN%3A0060734574%2CISBN%3A0385682824%2CISBN%3A0195007778%2CISBN%3A0756403014%2CISBN%3A1595141987%2CISBN%3A0575090855%2CISBN%3A0451461037%2CISBN%3A1593081197%2CISBN%3A0385538510%2CISBN%3A1903436575%2CISBN%3A0451236718%2CISBN%3A1563894459%2CISBN%3A0316206873%2CISBN%3A1423111443%2CISBN%3A0451239350%2CISBN%3A0739329189%2CISBN%3A1594631290%2CISBN%3A0374105235%2CISBN%3A0452297648%2CISBN%3A0330419641%2CISBN%3A184756190X%2CISBN%3A0062259652%2CISBN%3A1301347949%2CISBN%3A0142402494%2CISBN%3A006222543X%2CISBN%3A0385339097%2CISBN%3A0007273746%2CISBN%3A0451530179%2CISBN%3A0441017150%2CISBN%3A0618062416%2CISBN%3A043977134X%2CISBN%3A140130821X&format=json&jscmd=details\n"
     ]
    },
    {
     "name": "stderr",
     "output_type": "stream",
     "text": [
      "Fetching Books:  84%|████████▍ | 204/243 [1:38:25<36:43, 56.51s/it]"
     ]
    },
    {
     "name": "stdout",
     "output_type": "stream",
     "text": [
      "error at index 13056 (attempt 1): 504 Server Error: Gateway Time-out for url: https://openlibrary.org/api/books?bibkeys=ISBN%3A0452285453%2CISBN%3A9799822939%2CISBN%3A0486422453%2CISBN%3A1600102379%2CISBN%3A141654707X%2CISBN%3A0446615862%2CISBN%3A0739352350%2CISBN%3A0803738552%2CISBN%3A1595144358%2CISBN%3A0758216432%2CISBN%3A0385520697%2CISBN%3A0297854399%2CISBN%3A0425217299%2CISBN%3A0793551617%2CISBN%3A141651693X%2CISBN%3A0552152978%2CISBN%3A078684907X%2CISBN%3A1501132938%2CISBN%3A0393064646%2CISBN%3A0812993292%2CISBN%3A0198245971%2CISBN%3A0822210789%2CISBN%3A0670026328%2CISBN%3A0062224077%2CISBN%3A1400068312%2CISBN%3A0778329860%2CISBN%3A1402262272%2CISBN%3A0553213873%2CISBN%3A0446556815%2CISBN%3A1401341705%2CISBN%3A0062414216%2CISBN%3A0394298667%2CISBN%3A006218850X%2CISBN%3A067001821X%2CISBN%3A0451229738%2CISBN%3A0312377045%2CISBN%3A0312990960%2CISBN%3A057507681X%2CISBN%3A1476731535%2CISBN%3A0307268195%2CISBN%3A0307593312%2CISBN%3A044657922X%2CISBN%3A0486455599%2CISBN%3A1595542779%2CISBN%3A0374239215%2CISBN%3A0394541553%2CISBN%3A1423140591%2CISBN%3A0316018783%2CISBN%3A1401908977%2CISBN%3A140120077X%2CISBN%3A0385337493%2CISBN%3A0312422288%2CISBN%3A0425201449%2CISBN%3A1563895641%2CISBN%3A0307718964%2CISBN%3A006178320X%2CISBN%3A0142000671%2CISBN%3A0441017029%2CISBN%3A0399151575%2CISBN%3A1400031524%2CISBN%3A0141187166%2CISBN%3A0747599874%2CISBN%3A1416524355%2CISBN%3A1400031567&format=json&jscmd=details\n"
     ]
    },
    {
     "name": "stderr",
     "output_type": "stream",
     "text": [
      "Fetching Books:  88%|████████▊ | 214/243 [1:45:32<19:27, 40.26s/it]"
     ]
    },
    {
     "name": "stdout",
     "output_type": "stream",
     "text": [
      "error at index 13696 (attempt 1): 504 Server Error: Gateway Time-out for url: https://openlibrary.org/api/books?bibkeys=ISBN%3A0061935085%2CISBN%3A0586203192%2CISBN%3A0446694851%2CISBN%3A0449000621%2CISBN%3A0449010880%2CISBN%3A0380817934%2CISBN%3A0679776192%2CISBN%3A0743484274%2CISBN%3A1451693567%2CISBN%3A0743470125%2CISBN%3A1593080646%2CISBN%3A0140620192%2CISBN%3A0310210062%2CISBN%3A1400033721%2CISBN%3A0316726192%2CISBN%3A0552154288%2CISBN%3A0061992259%2CISBN%3A0380821214%2CISBN%3A034541800X%2CISBN%3A0142406252%2CISBN%3A1595144919%2CISBN%3A0778322858%2CISBN%3A0312949804%2CISBN%3A0802142443%2CISBN%3A0446696137%2CISBN%3A039474067X%2CISBN%3A0812536363%2CISBN%3A0449000753%2CISBN%3A0803731531%2CISBN%3A0062248162%2CISBN%3A0099268701%2CISBN%3A0385532458%2CISBN%3A9993911550%2CISBN%3A0140449183%2CISBN%3A0062012037%2CISBN%3A0198320043%2CISBN%3A1416599398%2CISBN%3A0545424925%2CISBN%3A0670026336%2CISBN%3A0099549344%2CISBN%3A0439925509%2CISBN%3A0375869026%2CISBN%3A142150331X%2CISBN%3A0312424442%2CISBN%3A0307393879%2CISBN%3A1442445807%2CISBN%3A0345461622%2CISBN%3A0850515033%2CISBN%3A0786837888%2CISBN%3A1569319006%2CISBN%3A0806512814%2CISBN%3A1423116380%2CISBN%3A1421506718%2CISBN%3A044101769X%2CISBN%3A0385351372%2CISBN%3A0345482409%2CISBN%3A0375865861%2CISBN%3A0689829531%2CISBN%3A0547959109%2CISBN%3A0307595609%2CISBN%3A0553805495%2CISBN%3A0345547497%2CISBN%3A1416596585%2CISBN%3A0312554168&format=json&jscmd=details\n"
     ]
    },
    {
     "name": "stderr",
     "output_type": "stream",
     "text": [
      "Fetching Books: 100%|██████████| 243/243 [1:58:10<00:00, 29.18s/it]\n"
     ]
    }
   ],
   "source": [
    "books_data = fetch_books_data(isbn_list)\n",
    "with open(metadata_root / \"books_data.json\", \"w\", encoding=\"utf-8\") as f:\n",
    "    json.dump(books_data, f, ensure_ascii=False, indent=4)"
   ]
  },
  {
   "cell_type": "markdown",
   "metadata": {},
   "source": [
    "### Work Data"
   ]
  },
  {
   "cell_type": "code",
   "execution_count": 18,
   "metadata": {},
   "outputs": [
    {
     "name": "stdout",
     "output_type": "stream",
     "text": [
      "15488\n"
     ]
    }
   ],
   "source": [
    "with open(metadata_root / \"books_data.json\", \"r\", encoding=\"utf-8\") as f:\n",
    "    books_data = json.load(f)\n",
    "print(len(books_data))"
   ]
  },
  {
   "cell_type": "code",
   "execution_count": 19,
   "metadata": {},
   "outputs": [],
   "source": [
    "def extract_work_keys(books_data):\n",
    "    work_keys = set()\n",
    "    for book_info in books_data.values():\n",
    "        if \"works\" in book_info[\"details\"] and book_info[\"details\"][\"works\"]:\n",
    "            for work in book_info[\"details\"][\"works\"]:\n",
    "                work_key = work.get(\"key\")\n",
    "                if work_key:\n",
    "                    work_keys.add(work_key)\n",
    "    return list(work_keys)"
   ]
  },
  {
   "cell_type": "code",
   "execution_count": 24,
   "metadata": {},
   "outputs": [],
   "source": [
    "def fetch_works_data(work_keys, batch_size=32, delay=0.25):\n",
    "    works_data = {}\n",
    "    for i in tqdm(range(0, len(work_keys), batch_size), desc=\"Fetching Works\"):\n",
    "        batch_keys = work_keys[i : i + batch_size]\n",
    "        urls = [f\"{BASE_URL}{key}.json\" for key in batch_keys]\n",
    "        try:\n",
    "            for url in urls:\n",
    "                response = requests.get(url)\n",
    "                response.raise_for_status()\n",
    "                data = response.json()\n",
    "                works_data[data[\"key\"]] = data\n",
    "                time.sleep(delay)\n",
    "        except requests.exceptions.RequestException as e:\n",
    "            print(f\"Error fetching works batch starting at index {i}: {e}\")\n",
    "    return works_data"
   ]
  },
  {
   "cell_type": "code",
   "execution_count": 25,
   "metadata": {},
   "outputs": [
    {
     "name": "stdout",
     "output_type": "stream",
     "text": [
      "12357\n"
     ]
    }
   ],
   "source": [
    "work_keys = extract_work_keys(books_data)\n",
    "print(len(work_keys))"
   ]
  },
  {
   "cell_type": "code",
   "execution_count": 26,
   "metadata": {},
   "outputs": [
    {
     "name": "stderr",
     "output_type": "stream",
     "text": [
      "Fetching Works:   1%|          | 2/387 [01:08<3:40:33, 34.37s/it]\n"
     ]
    },
    {
     "ename": "KeyboardInterrupt",
     "evalue": "",
     "output_type": "error",
     "traceback": [
      "\u001b[0;31m---------------------------------------------------------------------------\u001b[0m",
      "\u001b[0;31mKeyboardInterrupt\u001b[0m                         Traceback (most recent call last)",
      "Cell \u001b[0;32mIn[26], line 1\u001b[0m\n\u001b[0;32m----> 1\u001b[0m works_data \u001b[38;5;241m=\u001b[39m fetch_works_data(work_keys)\n\u001b[1;32m      2\u001b[0m \u001b[38;5;28;01mwith\u001b[39;00m \u001b[38;5;28mopen\u001b[39m(metadata_root \u001b[38;5;241m/\u001b[39m \u001b[38;5;124m\"\u001b[39m\u001b[38;5;124mworks_data.json\u001b[39m\u001b[38;5;124m\"\u001b[39m, \u001b[38;5;124m\"\u001b[39m\u001b[38;5;124mw\u001b[39m\u001b[38;5;124m\"\u001b[39m, encoding\u001b[38;5;241m=\u001b[39m\u001b[38;5;124m\"\u001b[39m\u001b[38;5;124mutf-8\u001b[39m\u001b[38;5;124m\"\u001b[39m) \u001b[38;5;28;01mas\u001b[39;00m f:\n\u001b[1;32m      3\u001b[0m     json\u001b[38;5;241m.\u001b[39mdump(works_data, f, ensure_ascii\u001b[38;5;241m=\u001b[39m\u001b[38;5;28;01mFalse\u001b[39;00m, indent\u001b[38;5;241m=\u001b[39m\u001b[38;5;241m4\u001b[39m)\n",
      "Cell \u001b[0;32mIn[24], line 8\u001b[0m, in \u001b[0;36mfetch_works_data\u001b[0;34m(work_keys, batch_size, delay)\u001b[0m\n\u001b[1;32m      6\u001b[0m \u001b[38;5;28;01mtry\u001b[39;00m:\n\u001b[1;32m      7\u001b[0m     \u001b[38;5;28;01mfor\u001b[39;00m url \u001b[38;5;129;01min\u001b[39;00m urls:\n\u001b[0;32m----> 8\u001b[0m         response \u001b[38;5;241m=\u001b[39m requests\u001b[38;5;241m.\u001b[39mget(url)\n\u001b[1;32m      9\u001b[0m         response\u001b[38;5;241m.\u001b[39mraise_for_status()\n\u001b[1;32m     10\u001b[0m         data \u001b[38;5;241m=\u001b[39m response\u001b[38;5;241m.\u001b[39mjson()\n",
      "File \u001b[0;32m/opt/anaconda3/lib/python3.12/site-packages/requests/api.py:73\u001b[0m, in \u001b[0;36mget\u001b[0;34m(url, params, **kwargs)\u001b[0m\n\u001b[1;32m     62\u001b[0m \u001b[38;5;28;01mdef\u001b[39;00m \u001b[38;5;21mget\u001b[39m(url, params\u001b[38;5;241m=\u001b[39m\u001b[38;5;28;01mNone\u001b[39;00m, \u001b[38;5;241m*\u001b[39m\u001b[38;5;241m*\u001b[39mkwargs):\n\u001b[1;32m     63\u001b[0m \u001b[38;5;250m    \u001b[39m\u001b[38;5;124mr\u001b[39m\u001b[38;5;124;03m\"\"\"Sends a GET request.\u001b[39;00m\n\u001b[1;32m     64\u001b[0m \n\u001b[1;32m     65\u001b[0m \u001b[38;5;124;03m    :param url: URL for the new :class:`Request` object.\u001b[39;00m\n\u001b[0;32m   (...)\u001b[0m\n\u001b[1;32m     70\u001b[0m \u001b[38;5;124;03m    :rtype: requests.Response\u001b[39;00m\n\u001b[1;32m     71\u001b[0m \u001b[38;5;124;03m    \"\"\"\u001b[39;00m\n\u001b[0;32m---> 73\u001b[0m     \u001b[38;5;28;01mreturn\u001b[39;00m request(\u001b[38;5;124m\"\u001b[39m\u001b[38;5;124mget\u001b[39m\u001b[38;5;124m\"\u001b[39m, url, params\u001b[38;5;241m=\u001b[39mparams, \u001b[38;5;241m*\u001b[39m\u001b[38;5;241m*\u001b[39mkwargs)\n",
      "File \u001b[0;32m/opt/anaconda3/lib/python3.12/site-packages/requests/api.py:59\u001b[0m, in \u001b[0;36mrequest\u001b[0;34m(method, url, **kwargs)\u001b[0m\n\u001b[1;32m     55\u001b[0m \u001b[38;5;66;03m# By using the 'with' statement we are sure the session is closed, thus we\u001b[39;00m\n\u001b[1;32m     56\u001b[0m \u001b[38;5;66;03m# avoid leaving sockets open which can trigger a ResourceWarning in some\u001b[39;00m\n\u001b[1;32m     57\u001b[0m \u001b[38;5;66;03m# cases, and look like a memory leak in others.\u001b[39;00m\n\u001b[1;32m     58\u001b[0m \u001b[38;5;28;01mwith\u001b[39;00m sessions\u001b[38;5;241m.\u001b[39mSession() \u001b[38;5;28;01mas\u001b[39;00m session:\n\u001b[0;32m---> 59\u001b[0m     \u001b[38;5;28;01mreturn\u001b[39;00m session\u001b[38;5;241m.\u001b[39mrequest(method\u001b[38;5;241m=\u001b[39mmethod, url\u001b[38;5;241m=\u001b[39murl, \u001b[38;5;241m*\u001b[39m\u001b[38;5;241m*\u001b[39mkwargs)\n",
      "File \u001b[0;32m/opt/anaconda3/lib/python3.12/site-packages/requests/sessions.py:589\u001b[0m, in \u001b[0;36mSession.request\u001b[0;34m(self, method, url, params, data, headers, cookies, files, auth, timeout, allow_redirects, proxies, hooks, stream, verify, cert, json)\u001b[0m\n\u001b[1;32m    584\u001b[0m send_kwargs \u001b[38;5;241m=\u001b[39m {\n\u001b[1;32m    585\u001b[0m     \u001b[38;5;124m\"\u001b[39m\u001b[38;5;124mtimeout\u001b[39m\u001b[38;5;124m\"\u001b[39m: timeout,\n\u001b[1;32m    586\u001b[0m     \u001b[38;5;124m\"\u001b[39m\u001b[38;5;124mallow_redirects\u001b[39m\u001b[38;5;124m\"\u001b[39m: allow_redirects,\n\u001b[1;32m    587\u001b[0m }\n\u001b[1;32m    588\u001b[0m send_kwargs\u001b[38;5;241m.\u001b[39mupdate(settings)\n\u001b[0;32m--> 589\u001b[0m resp \u001b[38;5;241m=\u001b[39m \u001b[38;5;28mself\u001b[39m\u001b[38;5;241m.\u001b[39msend(prep, \u001b[38;5;241m*\u001b[39m\u001b[38;5;241m*\u001b[39msend_kwargs)\n\u001b[1;32m    591\u001b[0m \u001b[38;5;28;01mreturn\u001b[39;00m resp\n",
      "File \u001b[0;32m/opt/anaconda3/lib/python3.12/site-packages/requests/sessions.py:703\u001b[0m, in \u001b[0;36mSession.send\u001b[0;34m(self, request, **kwargs)\u001b[0m\n\u001b[1;32m    700\u001b[0m start \u001b[38;5;241m=\u001b[39m preferred_clock()\n\u001b[1;32m    702\u001b[0m \u001b[38;5;66;03m# Send the request\u001b[39;00m\n\u001b[0;32m--> 703\u001b[0m r \u001b[38;5;241m=\u001b[39m adapter\u001b[38;5;241m.\u001b[39msend(request, \u001b[38;5;241m*\u001b[39m\u001b[38;5;241m*\u001b[39mkwargs)\n\u001b[1;32m    705\u001b[0m \u001b[38;5;66;03m# Total elapsed time of the request (approximately)\u001b[39;00m\n\u001b[1;32m    706\u001b[0m elapsed \u001b[38;5;241m=\u001b[39m preferred_clock() \u001b[38;5;241m-\u001b[39m start\n",
      "File \u001b[0;32m/opt/anaconda3/lib/python3.12/site-packages/requests/adapters.py:667\u001b[0m, in \u001b[0;36mHTTPAdapter.send\u001b[0;34m(self, request, stream, timeout, verify, cert, proxies)\u001b[0m\n\u001b[1;32m    664\u001b[0m     timeout \u001b[38;5;241m=\u001b[39m TimeoutSauce(connect\u001b[38;5;241m=\u001b[39mtimeout, read\u001b[38;5;241m=\u001b[39mtimeout)\n\u001b[1;32m    666\u001b[0m \u001b[38;5;28;01mtry\u001b[39;00m:\n\u001b[0;32m--> 667\u001b[0m     resp \u001b[38;5;241m=\u001b[39m conn\u001b[38;5;241m.\u001b[39murlopen(\n\u001b[1;32m    668\u001b[0m         method\u001b[38;5;241m=\u001b[39mrequest\u001b[38;5;241m.\u001b[39mmethod,\n\u001b[1;32m    669\u001b[0m         url\u001b[38;5;241m=\u001b[39murl,\n\u001b[1;32m    670\u001b[0m         body\u001b[38;5;241m=\u001b[39mrequest\u001b[38;5;241m.\u001b[39mbody,\n\u001b[1;32m    671\u001b[0m         headers\u001b[38;5;241m=\u001b[39mrequest\u001b[38;5;241m.\u001b[39mheaders,\n\u001b[1;32m    672\u001b[0m         redirect\u001b[38;5;241m=\u001b[39m\u001b[38;5;28;01mFalse\u001b[39;00m,\n\u001b[1;32m    673\u001b[0m         assert_same_host\u001b[38;5;241m=\u001b[39m\u001b[38;5;28;01mFalse\u001b[39;00m,\n\u001b[1;32m    674\u001b[0m         preload_content\u001b[38;5;241m=\u001b[39m\u001b[38;5;28;01mFalse\u001b[39;00m,\n\u001b[1;32m    675\u001b[0m         decode_content\u001b[38;5;241m=\u001b[39m\u001b[38;5;28;01mFalse\u001b[39;00m,\n\u001b[1;32m    676\u001b[0m         retries\u001b[38;5;241m=\u001b[39m\u001b[38;5;28mself\u001b[39m\u001b[38;5;241m.\u001b[39mmax_retries,\n\u001b[1;32m    677\u001b[0m         timeout\u001b[38;5;241m=\u001b[39mtimeout,\n\u001b[1;32m    678\u001b[0m         chunked\u001b[38;5;241m=\u001b[39mchunked,\n\u001b[1;32m    679\u001b[0m     )\n\u001b[1;32m    681\u001b[0m \u001b[38;5;28;01mexcept\u001b[39;00m (ProtocolError, \u001b[38;5;167;01mOSError\u001b[39;00m) \u001b[38;5;28;01mas\u001b[39;00m err:\n\u001b[1;32m    682\u001b[0m     \u001b[38;5;28;01mraise\u001b[39;00m \u001b[38;5;167;01mConnectionError\u001b[39;00m(err, request\u001b[38;5;241m=\u001b[39mrequest)\n",
      "File \u001b[0;32m/opt/anaconda3/lib/python3.12/site-packages/urllib3/connectionpool.py:789\u001b[0m, in \u001b[0;36mHTTPConnectionPool.urlopen\u001b[0;34m(self, method, url, body, headers, retries, redirect, assert_same_host, timeout, pool_timeout, release_conn, chunked, body_pos, preload_content, decode_content, **response_kw)\u001b[0m\n\u001b[1;32m    786\u001b[0m response_conn \u001b[38;5;241m=\u001b[39m conn \u001b[38;5;28;01mif\u001b[39;00m \u001b[38;5;129;01mnot\u001b[39;00m release_conn \u001b[38;5;28;01melse\u001b[39;00m \u001b[38;5;28;01mNone\u001b[39;00m\n\u001b[1;32m    788\u001b[0m \u001b[38;5;66;03m# Make the request on the HTTPConnection object\u001b[39;00m\n\u001b[0;32m--> 789\u001b[0m response \u001b[38;5;241m=\u001b[39m \u001b[38;5;28mself\u001b[39m\u001b[38;5;241m.\u001b[39m_make_request(\n\u001b[1;32m    790\u001b[0m     conn,\n\u001b[1;32m    791\u001b[0m     method,\n\u001b[1;32m    792\u001b[0m     url,\n\u001b[1;32m    793\u001b[0m     timeout\u001b[38;5;241m=\u001b[39mtimeout_obj,\n\u001b[1;32m    794\u001b[0m     body\u001b[38;5;241m=\u001b[39mbody,\n\u001b[1;32m    795\u001b[0m     headers\u001b[38;5;241m=\u001b[39mheaders,\n\u001b[1;32m    796\u001b[0m     chunked\u001b[38;5;241m=\u001b[39mchunked,\n\u001b[1;32m    797\u001b[0m     retries\u001b[38;5;241m=\u001b[39mretries,\n\u001b[1;32m    798\u001b[0m     response_conn\u001b[38;5;241m=\u001b[39mresponse_conn,\n\u001b[1;32m    799\u001b[0m     preload_content\u001b[38;5;241m=\u001b[39mpreload_content,\n\u001b[1;32m    800\u001b[0m     decode_content\u001b[38;5;241m=\u001b[39mdecode_content,\n\u001b[1;32m    801\u001b[0m     \u001b[38;5;241m*\u001b[39m\u001b[38;5;241m*\u001b[39mresponse_kw,\n\u001b[1;32m    802\u001b[0m )\n\u001b[1;32m    804\u001b[0m \u001b[38;5;66;03m# Everything went great!\u001b[39;00m\n\u001b[1;32m    805\u001b[0m clean_exit \u001b[38;5;241m=\u001b[39m \u001b[38;5;28;01mTrue\u001b[39;00m\n",
      "File \u001b[0;32m/opt/anaconda3/lib/python3.12/site-packages/urllib3/connectionpool.py:466\u001b[0m, in \u001b[0;36mHTTPConnectionPool._make_request\u001b[0;34m(self, conn, method, url, body, headers, retries, timeout, chunked, response_conn, preload_content, decode_content, enforce_content_length)\u001b[0m\n\u001b[1;32m    463\u001b[0m \u001b[38;5;28;01mtry\u001b[39;00m:\n\u001b[1;32m    464\u001b[0m     \u001b[38;5;66;03m# Trigger any extra validation we need to do.\u001b[39;00m\n\u001b[1;32m    465\u001b[0m     \u001b[38;5;28;01mtry\u001b[39;00m:\n\u001b[0;32m--> 466\u001b[0m         \u001b[38;5;28mself\u001b[39m\u001b[38;5;241m.\u001b[39m_validate_conn(conn)\n\u001b[1;32m    467\u001b[0m     \u001b[38;5;28;01mexcept\u001b[39;00m (SocketTimeout, BaseSSLError) \u001b[38;5;28;01mas\u001b[39;00m e:\n\u001b[1;32m    468\u001b[0m         \u001b[38;5;28mself\u001b[39m\u001b[38;5;241m.\u001b[39m_raise_timeout(err\u001b[38;5;241m=\u001b[39me, url\u001b[38;5;241m=\u001b[39murl, timeout_value\u001b[38;5;241m=\u001b[39mconn\u001b[38;5;241m.\u001b[39mtimeout)\n",
      "File \u001b[0;32m/opt/anaconda3/lib/python3.12/site-packages/urllib3/connectionpool.py:1095\u001b[0m, in \u001b[0;36mHTTPSConnectionPool._validate_conn\u001b[0;34m(self, conn)\u001b[0m\n\u001b[1;32m   1093\u001b[0m \u001b[38;5;66;03m# Force connect early to allow us to validate the connection.\u001b[39;00m\n\u001b[1;32m   1094\u001b[0m \u001b[38;5;28;01mif\u001b[39;00m conn\u001b[38;5;241m.\u001b[39mis_closed:\n\u001b[0;32m-> 1095\u001b[0m     conn\u001b[38;5;241m.\u001b[39mconnect()\n\u001b[1;32m   1097\u001b[0m \u001b[38;5;66;03m# TODO revise this, see https://github.com/urllib3/urllib3/issues/2791\u001b[39;00m\n\u001b[1;32m   1098\u001b[0m \u001b[38;5;28;01mif\u001b[39;00m \u001b[38;5;129;01mnot\u001b[39;00m conn\u001b[38;5;241m.\u001b[39mis_verified \u001b[38;5;129;01mand\u001b[39;00m \u001b[38;5;129;01mnot\u001b[39;00m conn\u001b[38;5;241m.\u001b[39mproxy_is_verified:\n",
      "File \u001b[0;32m/opt/anaconda3/lib/python3.12/site-packages/urllib3/connection.py:730\u001b[0m, in \u001b[0;36mHTTPSConnection.connect\u001b[0;34m(self)\u001b[0m\n\u001b[1;32m    727\u001b[0m     \u001b[38;5;66;03m# Remove trailing '.' from fqdn hostnames to allow certificate validation\u001b[39;00m\n\u001b[1;32m    728\u001b[0m     server_hostname_rm_dot \u001b[38;5;241m=\u001b[39m server_hostname\u001b[38;5;241m.\u001b[39mrstrip(\u001b[38;5;124m\"\u001b[39m\u001b[38;5;124m.\u001b[39m\u001b[38;5;124m\"\u001b[39m)\n\u001b[0;32m--> 730\u001b[0m     sock_and_verified \u001b[38;5;241m=\u001b[39m _ssl_wrap_socket_and_match_hostname(\n\u001b[1;32m    731\u001b[0m         sock\u001b[38;5;241m=\u001b[39msock,\n\u001b[1;32m    732\u001b[0m         cert_reqs\u001b[38;5;241m=\u001b[39m\u001b[38;5;28mself\u001b[39m\u001b[38;5;241m.\u001b[39mcert_reqs,\n\u001b[1;32m    733\u001b[0m         ssl_version\u001b[38;5;241m=\u001b[39m\u001b[38;5;28mself\u001b[39m\u001b[38;5;241m.\u001b[39mssl_version,\n\u001b[1;32m    734\u001b[0m         ssl_minimum_version\u001b[38;5;241m=\u001b[39m\u001b[38;5;28mself\u001b[39m\u001b[38;5;241m.\u001b[39mssl_minimum_version,\n\u001b[1;32m    735\u001b[0m         ssl_maximum_version\u001b[38;5;241m=\u001b[39m\u001b[38;5;28mself\u001b[39m\u001b[38;5;241m.\u001b[39mssl_maximum_version,\n\u001b[1;32m    736\u001b[0m         ca_certs\u001b[38;5;241m=\u001b[39m\u001b[38;5;28mself\u001b[39m\u001b[38;5;241m.\u001b[39mca_certs,\n\u001b[1;32m    737\u001b[0m         ca_cert_dir\u001b[38;5;241m=\u001b[39m\u001b[38;5;28mself\u001b[39m\u001b[38;5;241m.\u001b[39mca_cert_dir,\n\u001b[1;32m    738\u001b[0m         ca_cert_data\u001b[38;5;241m=\u001b[39m\u001b[38;5;28mself\u001b[39m\u001b[38;5;241m.\u001b[39mca_cert_data,\n\u001b[1;32m    739\u001b[0m         cert_file\u001b[38;5;241m=\u001b[39m\u001b[38;5;28mself\u001b[39m\u001b[38;5;241m.\u001b[39mcert_file,\n\u001b[1;32m    740\u001b[0m         key_file\u001b[38;5;241m=\u001b[39m\u001b[38;5;28mself\u001b[39m\u001b[38;5;241m.\u001b[39mkey_file,\n\u001b[1;32m    741\u001b[0m         key_password\u001b[38;5;241m=\u001b[39m\u001b[38;5;28mself\u001b[39m\u001b[38;5;241m.\u001b[39mkey_password,\n\u001b[1;32m    742\u001b[0m         server_hostname\u001b[38;5;241m=\u001b[39mserver_hostname_rm_dot,\n\u001b[1;32m    743\u001b[0m         ssl_context\u001b[38;5;241m=\u001b[39m\u001b[38;5;28mself\u001b[39m\u001b[38;5;241m.\u001b[39mssl_context,\n\u001b[1;32m    744\u001b[0m         tls_in_tls\u001b[38;5;241m=\u001b[39mtls_in_tls,\n\u001b[1;32m    745\u001b[0m         assert_hostname\u001b[38;5;241m=\u001b[39m\u001b[38;5;28mself\u001b[39m\u001b[38;5;241m.\u001b[39massert_hostname,\n\u001b[1;32m    746\u001b[0m         assert_fingerprint\u001b[38;5;241m=\u001b[39m\u001b[38;5;28mself\u001b[39m\u001b[38;5;241m.\u001b[39massert_fingerprint,\n\u001b[1;32m    747\u001b[0m     )\n\u001b[1;32m    748\u001b[0m     \u001b[38;5;28mself\u001b[39m\u001b[38;5;241m.\u001b[39msock \u001b[38;5;241m=\u001b[39m sock_and_verified\u001b[38;5;241m.\u001b[39msocket\n\u001b[1;32m    750\u001b[0m \u001b[38;5;66;03m# If an error occurs during connection/handshake we may need to release\u001b[39;00m\n\u001b[1;32m    751\u001b[0m \u001b[38;5;66;03m# our lock so another connection can probe the origin.\u001b[39;00m\n",
      "File \u001b[0;32m/opt/anaconda3/lib/python3.12/site-packages/urllib3/connection.py:909\u001b[0m, in \u001b[0;36m_ssl_wrap_socket_and_match_hostname\u001b[0;34m(sock, cert_reqs, ssl_version, ssl_minimum_version, ssl_maximum_version, cert_file, key_file, key_password, ca_certs, ca_cert_dir, ca_cert_data, assert_hostname, assert_fingerprint, server_hostname, ssl_context, tls_in_tls)\u001b[0m\n\u001b[1;32m    906\u001b[0m     \u001b[38;5;28;01mif\u001b[39;00m is_ipaddress(normalized):\n\u001b[1;32m    907\u001b[0m         server_hostname \u001b[38;5;241m=\u001b[39m normalized\n\u001b[0;32m--> 909\u001b[0m ssl_sock \u001b[38;5;241m=\u001b[39m ssl_wrap_socket(\n\u001b[1;32m    910\u001b[0m     sock\u001b[38;5;241m=\u001b[39msock,\n\u001b[1;32m    911\u001b[0m     keyfile\u001b[38;5;241m=\u001b[39mkey_file,\n\u001b[1;32m    912\u001b[0m     certfile\u001b[38;5;241m=\u001b[39mcert_file,\n\u001b[1;32m    913\u001b[0m     key_password\u001b[38;5;241m=\u001b[39mkey_password,\n\u001b[1;32m    914\u001b[0m     ca_certs\u001b[38;5;241m=\u001b[39mca_certs,\n\u001b[1;32m    915\u001b[0m     ca_cert_dir\u001b[38;5;241m=\u001b[39mca_cert_dir,\n\u001b[1;32m    916\u001b[0m     ca_cert_data\u001b[38;5;241m=\u001b[39mca_cert_data,\n\u001b[1;32m    917\u001b[0m     server_hostname\u001b[38;5;241m=\u001b[39mserver_hostname,\n\u001b[1;32m    918\u001b[0m     ssl_context\u001b[38;5;241m=\u001b[39mcontext,\n\u001b[1;32m    919\u001b[0m     tls_in_tls\u001b[38;5;241m=\u001b[39mtls_in_tls,\n\u001b[1;32m    920\u001b[0m )\n\u001b[1;32m    922\u001b[0m \u001b[38;5;28;01mtry\u001b[39;00m:\n\u001b[1;32m    923\u001b[0m     \u001b[38;5;28;01mif\u001b[39;00m assert_fingerprint:\n",
      "File \u001b[0;32m/opt/anaconda3/lib/python3.12/site-packages/urllib3/util/ssl_.py:469\u001b[0m, in \u001b[0;36mssl_wrap_socket\u001b[0;34m(sock, keyfile, certfile, cert_reqs, ca_certs, server_hostname, ssl_version, ciphers, ssl_context, ca_cert_dir, key_password, ca_cert_data, tls_in_tls)\u001b[0m\n\u001b[1;32m    465\u001b[0m         context\u001b[38;5;241m.\u001b[39mload_cert_chain(certfile, keyfile, key_password)\n\u001b[1;32m    467\u001b[0m context\u001b[38;5;241m.\u001b[39mset_alpn_protocols(ALPN_PROTOCOLS)\n\u001b[0;32m--> 469\u001b[0m ssl_sock \u001b[38;5;241m=\u001b[39m _ssl_wrap_socket_impl(sock, context, tls_in_tls, server_hostname)\n\u001b[1;32m    470\u001b[0m \u001b[38;5;28;01mreturn\u001b[39;00m ssl_sock\n",
      "File \u001b[0;32m/opt/anaconda3/lib/python3.12/site-packages/urllib3/util/ssl_.py:513\u001b[0m, in \u001b[0;36m_ssl_wrap_socket_impl\u001b[0;34m(sock, ssl_context, tls_in_tls, server_hostname)\u001b[0m\n\u001b[1;32m    510\u001b[0m     SSLTransport\u001b[38;5;241m.\u001b[39m_validate_ssl_context_for_tls_in_tls(ssl_context)\n\u001b[1;32m    511\u001b[0m     \u001b[38;5;28;01mreturn\u001b[39;00m SSLTransport(sock, ssl_context, server_hostname)\n\u001b[0;32m--> 513\u001b[0m \u001b[38;5;28;01mreturn\u001b[39;00m ssl_context\u001b[38;5;241m.\u001b[39mwrap_socket(sock, server_hostname\u001b[38;5;241m=\u001b[39mserver_hostname)\n",
      "File \u001b[0;32m/opt/anaconda3/lib/python3.12/ssl.py:455\u001b[0m, in \u001b[0;36mSSLContext.wrap_socket\u001b[0;34m(self, sock, server_side, do_handshake_on_connect, suppress_ragged_eofs, server_hostname, session)\u001b[0m\n\u001b[1;32m    449\u001b[0m \u001b[38;5;28;01mdef\u001b[39;00m \u001b[38;5;21mwrap_socket\u001b[39m(\u001b[38;5;28mself\u001b[39m, sock, server_side\u001b[38;5;241m=\u001b[39m\u001b[38;5;28;01mFalse\u001b[39;00m,\n\u001b[1;32m    450\u001b[0m                 do_handshake_on_connect\u001b[38;5;241m=\u001b[39m\u001b[38;5;28;01mTrue\u001b[39;00m,\n\u001b[1;32m    451\u001b[0m                 suppress_ragged_eofs\u001b[38;5;241m=\u001b[39m\u001b[38;5;28;01mTrue\u001b[39;00m,\n\u001b[1;32m    452\u001b[0m                 server_hostname\u001b[38;5;241m=\u001b[39m\u001b[38;5;28;01mNone\u001b[39;00m, session\u001b[38;5;241m=\u001b[39m\u001b[38;5;28;01mNone\u001b[39;00m):\n\u001b[1;32m    453\u001b[0m     \u001b[38;5;66;03m# SSLSocket class handles server_hostname encoding before it calls\u001b[39;00m\n\u001b[1;32m    454\u001b[0m     \u001b[38;5;66;03m# ctx._wrap_socket()\u001b[39;00m\n\u001b[0;32m--> 455\u001b[0m     \u001b[38;5;28;01mreturn\u001b[39;00m \u001b[38;5;28mself\u001b[39m\u001b[38;5;241m.\u001b[39msslsocket_class\u001b[38;5;241m.\u001b[39m_create(\n\u001b[1;32m    456\u001b[0m         sock\u001b[38;5;241m=\u001b[39msock,\n\u001b[1;32m    457\u001b[0m         server_side\u001b[38;5;241m=\u001b[39mserver_side,\n\u001b[1;32m    458\u001b[0m         do_handshake_on_connect\u001b[38;5;241m=\u001b[39mdo_handshake_on_connect,\n\u001b[1;32m    459\u001b[0m         suppress_ragged_eofs\u001b[38;5;241m=\u001b[39msuppress_ragged_eofs,\n\u001b[1;32m    460\u001b[0m         server_hostname\u001b[38;5;241m=\u001b[39mserver_hostname,\n\u001b[1;32m    461\u001b[0m         context\u001b[38;5;241m=\u001b[39m\u001b[38;5;28mself\u001b[39m,\n\u001b[1;32m    462\u001b[0m         session\u001b[38;5;241m=\u001b[39msession\n\u001b[1;32m    463\u001b[0m     )\n",
      "File \u001b[0;32m/opt/anaconda3/lib/python3.12/ssl.py:1041\u001b[0m, in \u001b[0;36mSSLSocket._create\u001b[0;34m(cls, sock, server_side, do_handshake_on_connect, suppress_ragged_eofs, server_hostname, context, session)\u001b[0m\n\u001b[1;32m   1038\u001b[0m             \u001b[38;5;28;01mif\u001b[39;00m timeout \u001b[38;5;241m==\u001b[39m \u001b[38;5;241m0.0\u001b[39m:\n\u001b[1;32m   1039\u001b[0m                 \u001b[38;5;66;03m# non-blocking\u001b[39;00m\n\u001b[1;32m   1040\u001b[0m                 \u001b[38;5;28;01mraise\u001b[39;00m \u001b[38;5;167;01mValueError\u001b[39;00m(\u001b[38;5;124m\"\u001b[39m\u001b[38;5;124mdo_handshake_on_connect should not be specified for non-blocking sockets\u001b[39m\u001b[38;5;124m\"\u001b[39m)\n\u001b[0;32m-> 1041\u001b[0m             \u001b[38;5;28mself\u001b[39m\u001b[38;5;241m.\u001b[39mdo_handshake()\n\u001b[1;32m   1042\u001b[0m \u001b[38;5;28;01mexcept\u001b[39;00m:\n\u001b[1;32m   1043\u001b[0m     \u001b[38;5;28;01mtry\u001b[39;00m:\n",
      "File \u001b[0;32m/opt/anaconda3/lib/python3.12/ssl.py:1319\u001b[0m, in \u001b[0;36mSSLSocket.do_handshake\u001b[0;34m(self, block)\u001b[0m\n\u001b[1;32m   1317\u001b[0m     \u001b[38;5;28;01mif\u001b[39;00m timeout \u001b[38;5;241m==\u001b[39m \u001b[38;5;241m0.0\u001b[39m \u001b[38;5;129;01mand\u001b[39;00m block:\n\u001b[1;32m   1318\u001b[0m         \u001b[38;5;28mself\u001b[39m\u001b[38;5;241m.\u001b[39msettimeout(\u001b[38;5;28;01mNone\u001b[39;00m)\n\u001b[0;32m-> 1319\u001b[0m     \u001b[38;5;28mself\u001b[39m\u001b[38;5;241m.\u001b[39m_sslobj\u001b[38;5;241m.\u001b[39mdo_handshake()\n\u001b[1;32m   1320\u001b[0m \u001b[38;5;28;01mfinally\u001b[39;00m:\n\u001b[1;32m   1321\u001b[0m     \u001b[38;5;28mself\u001b[39m\u001b[38;5;241m.\u001b[39msettimeout(timeout)\n",
      "\u001b[0;31mKeyboardInterrupt\u001b[0m: "
     ]
    }
   ],
   "source": [
    "works_data = fetch_works_data(work_keys)\n",
    "with open(metadata_root / \"works_data.json\", \"w\", encoding=\"utf-8\") as f:\n",
    "    json.dump(works_data, f, ensure_ascii=False, indent=4)"
   ]
  },
  {
   "cell_type": "markdown",
   "metadata": {},
   "source": [
    "### Author Data"
   ]
  },
  {
   "cell_type": "code",
   "execution_count": null,
   "metadata": {},
   "outputs": [],
   "source": [
    "def extract_author_keys(books_data, works_data):\n",
    "    author_keys = set()\n",
    "    # Extract from books\n",
    "    for book_info in books_data.values():\n",
    "        if \"authors\" in book_info and book_info[\"authors\"]:\n",
    "            for author in book_info[\"authors\"]:\n",
    "                author_key = author.get(\"key\")\n",
    "                if author_key:\n",
    "                    author_keys.add(author_key)\n",
    "    # Extract from works\n",
    "    for work_info in works_data.values():\n",
    "        if \"authors\" in work_info and work_info[\"authors\"]:\n",
    "            for author in work_info[\"authors\"]:\n",
    "                author_key = author.get(\"author\", {}).get(\"key\")\n",
    "                if author_key:\n",
    "                    author_keys.add(author_key)\n",
    "    return list(author_keys)"
   ]
  },
  {
   "cell_type": "code",
   "execution_count": null,
   "metadata": {},
   "outputs": [],
   "source": [
    "def fetch_authors_data(author_keys, batch_size=32, delay=0.1):\n",
    "    authors_data = {}\n",
    "    for i in tqdm(range(0, len(author_keys), batch_size), desc=\"Fetching Authors\"):\n",
    "        batch_keys = author_keys[i : i + batch_size]\n",
    "        urls = [f\"{BASE_URL}{key}.json\" for key in batch_keys]\n",
    "        try:\n",
    "            for url in urls:\n",
    "                response = requests.get(url)\n",
    "                response.raise_for_status()\n",
    "                data = response.json()\n",
    "                authors_data[data[\"key\"]] = data\n",
    "                time.sleep(delay)\n",
    "        except requests.exceptions.RequestException as e:\n",
    "            print(f\"Error fetching authors batch starting at index {i}: {e}\")\n",
    "    return authors_data"
   ]
  },
  {
   "cell_type": "code",
   "execution_count": null,
   "metadata": {},
   "outputs": [],
   "source": [
    "author_keys = extract_author_keys(books_data, works_data)\n",
    "authors_data = fetch_authors_data(author_keys, batch_size=192, delay=2)\n",
    "with open(metadata_root / \"authors_data.json\", \"w\", encoding=\"utf-8\") as f:\n",
    "    json.dump(authors_data, f, ensure_ascii=False, indent=4)"
   ]
  }
 ],
 "metadata": {
  "kernelspec": {
   "display_name": "base",
   "language": "python",
   "name": "python3"
  },
  "language_info": {
   "codemirror_mode": {
    "name": "ipython",
    "version": 3
   },
   "file_extension": ".py",
   "mimetype": "text/x-python",
   "name": "python",
   "nbconvert_exporter": "python",
   "pygments_lexer": "ipython3",
   "version": "3.12.7"
  }
 },
 "nbformat": 4,
 "nbformat_minor": 2
}
