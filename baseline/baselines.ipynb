{
 "cells": [
  {
   "cell_type": "markdown",
   "metadata": {},
   "source": [
    "# Baselines\n",
    "\n",
    "This notebook is for running and comparing the baselines.\n"
   ]
  },
  {
   "cell_type": "code",
   "execution_count": 12,
   "metadata": {},
   "outputs": [],
   "source": [
    "import numpy as np\n",
    "import pandas as pd\n",
    "import matplotlib.pyplot as plt\n",
    "import seaborn as sns\n",
    "from pathlib import Path\n",
    "from sklearn.linear_model import ElasticNet\n",
    "from sklearn.metrics.pairwise import cosine_similarity\n",
    "from sklearn.metrics import mean_squared_error\n",
    "from sklearn.model_selection import KFold\n",
    "from scipy.sparse import csr_matrix\n",
    "from tqdm import tqdm\n",
    "\n",
    "from surprise.model_selection import cross_validate, train_test_split, GridSearchCV\n",
    "from surprise import (\n",
    "    Reader,\n",
    "    Dataset,\n",
    "    SVD,\n",
    "    SVDpp,\n",
    "    NMF,\n",
    "    accuracy,\n",
    "    KNNBasic,\n",
    "    KNNWithMeans,\n",
    "    KNNWithZScore,\n",
    "    KNNBaseline,\n",
    ")"
   ]
  },
  {
   "cell_type": "markdown",
   "metadata": {},
   "source": [
    "## Paths"
   ]
  },
  {
   "cell_type": "code",
   "execution_count": 2,
   "metadata": {},
   "outputs": [],
   "source": [
    "data_root = Path(\"../data\")"
   ]
  },
  {
   "cell_type": "markdown",
   "metadata": {},
   "source": [
    "## Data"
   ]
  },
  {
   "cell_type": "code",
   "execution_count": 3,
   "metadata": {},
   "outputs": [
    {
     "data": {
      "text/html": [
       "<div>\n",
       "<style scoped>\n",
       "    .dataframe tbody tr th:only-of-type {\n",
       "        vertical-align: middle;\n",
       "    }\n",
       "\n",
       "    .dataframe tbody tr th {\n",
       "        vertical-align: top;\n",
       "    }\n",
       "\n",
       "    .dataframe thead th {\n",
       "        text-align: right;\n",
       "    }\n",
       "</style>\n",
       "<table border=\"1\" class=\"dataframe\">\n",
       "  <thead>\n",
       "    <tr style=\"text-align: right;\">\n",
       "      <th></th>\n",
       "      <th>book_id</th>\n",
       "      <th>user_id</th>\n",
       "      <th>rating</th>\n",
       "    </tr>\n",
       "  </thead>\n",
       "  <tbody>\n",
       "    <tr>\n",
       "      <th>0</th>\n",
       "      <td>7260</td>\n",
       "      <td>20145</td>\n",
       "      <td>3.5</td>\n",
       "    </tr>\n",
       "    <tr>\n",
       "      <th>1</th>\n",
       "      <td>243238</td>\n",
       "      <td>85182</td>\n",
       "      <td>4.0</td>\n",
       "    </tr>\n",
       "    <tr>\n",
       "      <th>2</th>\n",
       "      <td>9135</td>\n",
       "      <td>45973</td>\n",
       "      <td>1.0</td>\n",
       "    </tr>\n",
       "    <tr>\n",
       "      <th>3</th>\n",
       "      <td>18671</td>\n",
       "      <td>63554</td>\n",
       "      <td>3.0</td>\n",
       "    </tr>\n",
       "    <tr>\n",
       "      <th>4</th>\n",
       "      <td>243293</td>\n",
       "      <td>81002</td>\n",
       "      <td>5.0</td>\n",
       "    </tr>\n",
       "    <tr>\n",
       "      <th>...</th>\n",
       "      <td>...</td>\n",
       "      <td>...</td>\n",
       "      <td>...</td>\n",
       "    </tr>\n",
       "    <tr>\n",
       "      <th>100518</th>\n",
       "      <td>15374</td>\n",
       "      <td>69658</td>\n",
       "      <td>2.0</td>\n",
       "    </tr>\n",
       "    <tr>\n",
       "      <th>100519</th>\n",
       "      <td>11063</td>\n",
       "      <td>69658</td>\n",
       "      <td>2.5</td>\n",
       "    </tr>\n",
       "    <tr>\n",
       "      <th>100520</th>\n",
       "      <td>18444</td>\n",
       "      <td>29981</td>\n",
       "      <td>1.0</td>\n",
       "    </tr>\n",
       "    <tr>\n",
       "      <th>100521</th>\n",
       "      <td>5917</td>\n",
       "      <td>38009</td>\n",
       "      <td>1.0</td>\n",
       "    </tr>\n",
       "    <tr>\n",
       "      <th>100522</th>\n",
       "      <td>243328</td>\n",
       "      <td>94374</td>\n",
       "      <td>4.0</td>\n",
       "    </tr>\n",
       "  </tbody>\n",
       "</table>\n",
       "<p>100523 rows × 3 columns</p>\n",
       "</div>"
      ],
      "text/plain": [
       "        book_id  user_id  rating\n",
       "0          7260    20145     3.5\n",
       "1        243238    85182     4.0\n",
       "2          9135    45973     1.0\n",
       "3         18671    63554     3.0\n",
       "4        243293    81002     5.0\n",
       "...         ...      ...     ...\n",
       "100518    15374    69658     2.0\n",
       "100519    11063    69658     2.5\n",
       "100520    18444    29981     1.0\n",
       "100521     5917    38009     1.0\n",
       "100522   243328    94374     4.0\n",
       "\n",
       "[100523 rows x 3 columns]"
      ]
     },
     "execution_count": 3,
     "metadata": {},
     "output_type": "execute_result"
    }
   ],
   "source": [
    "train_df = pd.read_csv(data_root / \"train.csv\")\n",
    "train_df"
   ]
  },
  {
   "cell_type": "code",
   "execution_count": 4,
   "metadata": {},
   "outputs": [
    {
     "data": {
      "text/html": [
       "<div>\n",
       "<style scoped>\n",
       "    .dataframe tbody tr th:only-of-type {\n",
       "        vertical-align: middle;\n",
       "    }\n",
       "\n",
       "    .dataframe tbody tr th {\n",
       "        vertical-align: top;\n",
       "    }\n",
       "\n",
       "    .dataframe thead th {\n",
       "        text-align: right;\n",
       "    }\n",
       "</style>\n",
       "<table border=\"1\" class=\"dataframe\">\n",
       "  <thead>\n",
       "    <tr style=\"text-align: right;\">\n",
       "      <th></th>\n",
       "      <th>book_id</th>\n",
       "      <th>user_id</th>\n",
       "    </tr>\n",
       "  </thead>\n",
       "  <tbody>\n",
       "    <tr>\n",
       "      <th>0</th>\n",
       "      <td>3786</td>\n",
       "      <td>40484</td>\n",
       "    </tr>\n",
       "    <tr>\n",
       "      <th>1</th>\n",
       "      <td>1985</td>\n",
       "      <td>47039</td>\n",
       "    </tr>\n",
       "    <tr>\n",
       "      <th>2</th>\n",
       "      <td>2290</td>\n",
       "      <td>60111</td>\n",
       "    </tr>\n",
       "    <tr>\n",
       "      <th>3</th>\n",
       "      <td>118657</td>\n",
       "      <td>64447</td>\n",
       "    </tr>\n",
       "    <tr>\n",
       "      <th>4</th>\n",
       "      <td>1560</td>\n",
       "      <td>2953</td>\n",
       "    </tr>\n",
       "    <tr>\n",
       "      <th>...</th>\n",
       "      <td>...</td>\n",
       "      <td>...</td>\n",
       "    </tr>\n",
       "    <tr>\n",
       "      <th>29362</th>\n",
       "      <td>2802</td>\n",
       "      <td>12312</td>\n",
       "    </tr>\n",
       "    <tr>\n",
       "      <th>29363</th>\n",
       "      <td>53552</td>\n",
       "      <td>25725</td>\n",
       "    </tr>\n",
       "    <tr>\n",
       "      <th>29364</th>\n",
       "      <td>4065</td>\n",
       "      <td>77178</td>\n",
       "    </tr>\n",
       "    <tr>\n",
       "      <th>29365</th>\n",
       "      <td>1290</td>\n",
       "      <td>23201</td>\n",
       "    </tr>\n",
       "    <tr>\n",
       "      <th>29366</th>\n",
       "      <td>1592</td>\n",
       "      <td>35394</td>\n",
       "    </tr>\n",
       "  </tbody>\n",
       "</table>\n",
       "<p>29367 rows × 2 columns</p>\n",
       "</div>"
      ],
      "text/plain": [
       "       book_id  user_id\n",
       "0         3786    40484\n",
       "1         1985    47039\n",
       "2         2290    60111\n",
       "3       118657    64447\n",
       "4         1560     2953\n",
       "...        ...      ...\n",
       "29362     2802    12312\n",
       "29363    53552    25725\n",
       "29364     4065    77178\n",
       "29365     1290    23201\n",
       "29366     1592    35394\n",
       "\n",
       "[29367 rows x 2 columns]"
      ]
     },
     "execution_count": 4,
     "metadata": {},
     "output_type": "execute_result"
    }
   ],
   "source": [
    "test_df = pd.read_csv(data_root / \"test.csv\")\n",
    "del test_df[\"id\"]\n",
    "test_df"
   ]
  },
  {
   "cell_type": "code",
   "execution_count": 5,
   "metadata": {},
   "outputs": [],
   "source": [
    "rating_scale = (train_df['rating'].min(), train_df['rating'].max())\n",
    "reader = Reader(rating_scale=rating_scale)\n",
    "data = Dataset.load_from_df(train_df[['user_id', 'book_id', 'rating']], reader)\n",
    "train_set, val_set = train_test_split(data, test_size=0.2)"
   ]
  },
  {
   "cell_type": "markdown",
   "metadata": {},
   "source": [
    "## SVD"
   ]
  },
  {
   "cell_type": "code",
   "execution_count": 7,
   "metadata": {},
   "outputs": [
    {
     "name": "stderr",
     "output_type": "stream",
     "text": [
      "[Parallel(n_jobs=-1)]: Using backend LokyBackend with 10 concurrent workers.\n",
      "[Parallel(n_jobs=-1)]: Done   5 tasks      | elapsed:    2.3s\n",
      "[Parallel(n_jobs=-1)]: Done  12 tasks      | elapsed:    2.8s\n",
      "[Parallel(n_jobs=-1)]: Done  21 tasks      | elapsed:    3.6s\n",
      "[Parallel(n_jobs=-1)]: Done  30 tasks      | elapsed:    4.5s\n",
      "[Parallel(n_jobs=-1)]: Done  41 tasks      | elapsed:    5.4s\n",
      "[Parallel(n_jobs=-1)]: Done  52 tasks      | elapsed:    6.4s\n",
      "[Parallel(n_jobs=-1)]: Done  65 tasks      | elapsed:    7.8s\n",
      "[Parallel(n_jobs=-1)]: Done  78 tasks      | elapsed:    9.0s\n",
      "[Parallel(n_jobs=-1)]: Done  93 tasks      | elapsed:   10.5s\n",
      "[Parallel(n_jobs=-1)]: Done 108 tasks      | elapsed:   12.1s\n",
      "[Parallel(n_jobs=-1)]: Done 125 tasks      | elapsed:   13.8s\n",
      "[Parallel(n_jobs=-1)]: Done 142 tasks      | elapsed:   15.2s\n",
      "[Parallel(n_jobs=-1)]: Done 161 tasks      | elapsed:   16.8s\n",
      "[Parallel(n_jobs=-1)]: Done 180 tasks      | elapsed:   18.4s\n",
      "[Parallel(n_jobs=-1)]: Done 201 tasks      | elapsed:   20.4s\n",
      "[Parallel(n_jobs=-1)]: Done 222 tasks      | elapsed:   22.8s\n",
      "[Parallel(n_jobs=-1)]: Done 245 tasks      | elapsed:   25.2s\n",
      "[Parallel(n_jobs=-1)]: Done 268 tasks      | elapsed:   27.4s\n",
      "[Parallel(n_jobs=-1)]: Done 293 tasks      | elapsed:   29.6s\n",
      "[Parallel(n_jobs=-1)]: Done 318 tasks      | elapsed:   32.0s\n",
      "[Parallel(n_jobs=-1)]: Done 345 tasks      | elapsed:   34.5s\n",
      "[Parallel(n_jobs=-1)]: Done 372 tasks      | elapsed:   37.3s\n",
      "[Parallel(n_jobs=-1)]: Done 401 tasks      | elapsed:   40.2s\n",
      "[Parallel(n_jobs=-1)]: Done 430 tasks      | elapsed:   43.4s\n",
      "[Parallel(n_jobs=-1)]: Done 461 tasks      | elapsed:   46.7s\n",
      "[Parallel(n_jobs=-1)]: Done 492 tasks      | elapsed:   50.0s\n",
      "[Parallel(n_jobs=-1)]: Done 525 tasks      | elapsed:   53.9s\n",
      "[Parallel(n_jobs=-1)]: Done 558 tasks      | elapsed:   57.6s\n",
      "[Parallel(n_jobs=-1)]: Done 593 tasks      | elapsed:  1.0min\n",
      "[Parallel(n_jobs=-1)]: Done 628 tasks      | elapsed:  1.1min\n",
      "[Parallel(n_jobs=-1)]: Done 665 tasks      | elapsed:  1.2min\n",
      "[Parallel(n_jobs=-1)]: Done 702 tasks      | elapsed:  1.2min\n",
      "[Parallel(n_jobs=-1)]: Done 741 tasks      | elapsed:  1.3min\n",
      "[Parallel(n_jobs=-1)]: Done 780 tasks      | elapsed:  1.4min\n"
     ]
    },
    {
     "name": "stdout",
     "output_type": "stream",
     "text": [
      "0.8901022687174465\n",
      "{'n_factors': 1, 'n_epochs': 80, 'lr_all': 0.005, 'reg_all': 0.1}\n"
     ]
    },
    {
     "name": "stderr",
     "output_type": "stream",
     "text": [
      "[Parallel(n_jobs=-1)]: Done 810 out of 810 | elapsed:  1.4min finished\n"
     ]
    }
   ],
   "source": [
    "param_grid = {\n",
    "    \"n_factors\": [1, 2, 3, 5, 7, 10],\n",
    "    \"n_epochs\": [80, 90, 100],\n",
    "    \"lr_all\": [0.0025, 0.0050, 0.0075],\n",
    "    \"reg_all\": [0.08, 0.10, 0.12],\n",
    "}\n",
    "\n",
    "gs = GridSearchCV(\n",
    "    SVD,\n",
    "    param_grid,\n",
    "    measures=[\"rmse\", \"mae\"],\n",
    "    n_jobs=-1,\n",
    "    joblib_verbose=10,\n",
    ")\n",
    "gs.fit(data)\n",
    "\n",
    "svd_results_df = pd.DataFrame.from_dict(gs.cv_results)\n",
    "svd_results_df.to_csv(\"results/svd_results.csv\")\n",
    "\n",
    "print(gs.best_score[\"rmse\"])\n",
    "print(gs.best_params[\"rmse\"])"
   ]
  },
  {
   "cell_type": "markdown",
   "metadata": {},
   "source": [
    "## SVD++"
   ]
  },
  {
   "cell_type": "code",
   "execution_count": 10,
   "metadata": {},
   "outputs": [
    {
     "name": "stderr",
     "output_type": "stream",
     "text": [
      "[Parallel(n_jobs=-1)]: Using backend LokyBackend with 10 concurrent workers.\n",
      "[Parallel(n_jobs=-1)]: Done   5 tasks      | elapsed:    8.4s\n",
      "[Parallel(n_jobs=-1)]: Done  12 tasks      | elapsed:   15.1s\n",
      "[Parallel(n_jobs=-1)]: Done  21 tasks      | elapsed:   23.2s\n",
      "[Parallel(n_jobs=-1)]: Done  30 tasks      | elapsed:   24.2s\n",
      "[Parallel(n_jobs=-1)]: Done  41 tasks      | elapsed:   37.2s\n",
      "[Parallel(n_jobs=-1)]: Done  52 tasks      | elapsed:   45.0s\n",
      "[Parallel(n_jobs=-1)]: Done  65 tasks      | elapsed:   53.3s\n",
      "[Parallel(n_jobs=-1)]: Done  78 tasks      | elapsed:  1.0min\n",
      "[Parallel(n_jobs=-1)]: Done  93 tasks      | elapsed:  1.3min\n",
      "[Parallel(n_jobs=-1)]: Done 108 tasks      | elapsed:  1.5min\n",
      "[Parallel(n_jobs=-1)]: Done 125 tasks      | elapsed:  1.8min\n",
      "[Parallel(n_jobs=-1)]: Done 142 tasks      | elapsed:  2.0min\n",
      "[Parallel(n_jobs=-1)]: Done 161 tasks      | elapsed:  2.4min\n",
      "[Parallel(n_jobs=-1)]: Done 180 tasks      | elapsed:  2.6min\n",
      "[Parallel(n_jobs=-1)]: Done 201 tasks      | elapsed:  3.0min\n",
      "[Parallel(n_jobs=-1)]: Done 222 tasks      | elapsed:  3.3min\n",
      "[Parallel(n_jobs=-1)]: Done 245 tasks      | elapsed:  3.7min\n",
      "[Parallel(n_jobs=-1)]: Done 268 tasks      | elapsed:  4.1min\n",
      "[Parallel(n_jobs=-1)]: Done 293 tasks      | elapsed:  4.5min\n",
      "[Parallel(n_jobs=-1)]: Done 318 tasks      | elapsed:  4.9min\n",
      "[Parallel(n_jobs=-1)]: Done 345 tasks      | elapsed:  5.4min\n",
      "[Parallel(n_jobs=-1)]: Done 372 tasks      | elapsed:  5.9min\n",
      "[Parallel(n_jobs=-1)]: Done 401 tasks      | elapsed:  6.5min\n",
      "[Parallel(n_jobs=-1)]: Done 430 tasks      | elapsed:  7.1min\n",
      "[Parallel(n_jobs=-1)]: Done 461 tasks      | elapsed:  7.7min\n",
      "[Parallel(n_jobs=-1)]: Done 492 tasks      | elapsed:  8.3min\n",
      "[Parallel(n_jobs=-1)]: Done 525 tasks      | elapsed:  9.1min\n",
      "[Parallel(n_jobs=-1)]: Done 558 tasks      | elapsed:  9.8min\n",
      "[Parallel(n_jobs=-1)]: Done 593 tasks      | elapsed: 10.7min\n",
      "[Parallel(n_jobs=-1)]: Done 628 tasks      | elapsed: 11.6min\n",
      "[Parallel(n_jobs=-1)]: Done 665 tasks      | elapsed: 12.7min\n",
      "[Parallel(n_jobs=-1)]: Done 702 tasks      | elapsed: 13.4min\n",
      "[Parallel(n_jobs=-1)]: Done 741 tasks      | elapsed: 14.2min\n",
      "[Parallel(n_jobs=-1)]: Done 780 tasks      | elapsed: 15.1min\n"
     ]
    },
    {
     "name": "stdout",
     "output_type": "stream",
     "text": [
      "0.89100188625215\n",
      "{'n_factors': 1, 'n_epochs': 80, 'lr_all': 0.005, 'reg_all': 0.1}\n"
     ]
    },
    {
     "name": "stderr",
     "output_type": "stream",
     "text": [
      "[Parallel(n_jobs=-1)]: Done 810 out of 810 | elapsed: 15.8min finished\n"
     ]
    }
   ],
   "source": [
    "param_grid = {\n",
    "    \"n_factors\": [1, 2, 3, 5, 7, 10],\n",
    "    \"n_epochs\": [80, 90, 100],\n",
    "    \"lr_all\": [0.0025, 0.0050, 0.0075],\n",
    "    \"reg_all\": [0.08, 0.10, 0.12],\n",
    "}\n",
    "\n",
    "gs = GridSearchCV(\n",
    "    SVDpp,\n",
    "    param_grid,\n",
    "    measures=[\"rmse\", \"mae\"],\n",
    "    n_jobs=-1,\n",
    "    joblib_verbose=10,\n",
    ")\n",
    "gs.fit(data)\n",
    "\n",
    "svd_pp_results_df = pd.DataFrame.from_dict(gs.cv_results)\n",
    "svd_pp_results_df.to_csv(\"results/svd++_results.csv\")\n",
    "\n",
    "print(gs.best_score[\"rmse\"])\n",
    "print(gs.best_params[\"rmse\"])"
   ]
  },
  {
   "cell_type": "markdown",
   "metadata": {},
   "source": [
    "## NMF"
   ]
  },
  {
   "cell_type": "code",
   "execution_count": 20,
   "metadata": {},
   "outputs": [
    {
     "name": "stderr",
     "output_type": "stream",
     "text": [
      "[Parallel(n_jobs=-1)]: Using backend LokyBackend with 10 concurrent workers.\n",
      "[Parallel(n_jobs=-1)]: Done   5 tasks      | elapsed:    0.5s\n",
      "[Parallel(n_jobs=-1)]: Done  12 tasks      | elapsed:    0.9s\n",
      "[Parallel(n_jobs=-1)]: Done  21 tasks      | elapsed:    1.5s\n",
      "[Parallel(n_jobs=-1)]: Done  30 tasks      | elapsed:    2.0s\n",
      "[Parallel(n_jobs=-1)]: Done  41 tasks      | elapsed:    2.7s\n",
      "[Parallel(n_jobs=-1)]: Done  52 tasks      | elapsed:    3.3s\n",
      "[Parallel(n_jobs=-1)]: Done  65 tasks      | elapsed:    4.1s\n",
      "[Parallel(n_jobs=-1)]: Done  78 tasks      | elapsed:    4.9s\n",
      "[Parallel(n_jobs=-1)]: Done  93 tasks      | elapsed:    5.8s\n",
      "[Parallel(n_jobs=-1)]: Done 108 tasks      | elapsed:    6.7s\n",
      "[Parallel(n_jobs=-1)]: Done 125 tasks      | elapsed:    7.7s\n"
     ]
    },
    {
     "name": "stdout",
     "output_type": "stream",
     "text": [
      "0.9782056857093199\n",
      "{'n_factors': 1, 'n_epochs': 12, 'biased': True}\n"
     ]
    },
    {
     "name": "stderr",
     "output_type": "stream",
     "text": [
      "[Parallel(n_jobs=-1)]: Done 147 out of 150 | elapsed:    9.1s remaining:    0.2s\n",
      "[Parallel(n_jobs=-1)]: Done 150 out of 150 | elapsed:    9.3s finished\n"
     ]
    }
   ],
   "source": [
    "param_grid = {\n",
    "    'n_factors': [1, 2, 3, 4, 5],\n",
    "    'n_epochs': [7, 10, 12],\n",
    "    'biased': [True, False],\n",
    "}\n",
    "\n",
    "gs = GridSearchCV(\n",
    "    NMF,\n",
    "    param_grid,\n",
    "    measures=[\"rmse\", \"mae\"],\n",
    "    n_jobs=-1,\n",
    "    joblib_verbose=10,\n",
    ")\n",
    "gs.fit(data)\n",
    "\n",
    "nmf_results_df = pd.DataFrame.from_dict(gs.cv_results)\n",
    "nmf_results_df.to_csv(\"results/nmf_results.csv\")\n",
    "\n",
    "print(gs.best_score[\"rmse\"])\n",
    "print(gs.best_params[\"rmse\"])"
   ]
  },
  {
   "cell_type": "markdown",
   "metadata": {},
   "source": [
    "## KNN"
   ]
  },
  {
   "cell_type": "code",
   "execution_count": 21,
   "metadata": {},
   "outputs": [
    {
     "name": "stderr",
     "output_type": "stream",
     "text": [
      "[Parallel(n_jobs=-1)]: Using backend LokyBackend with 10 concurrent workers.\n",
      "[Parallel(n_jobs=-1)]: Done   5 tasks      | elapsed:   22.1s\n",
      "[Parallel(n_jobs=-1)]: Done  12 tasks      | elapsed:   40.2s\n",
      "[Parallel(n_jobs=-1)]: Done  21 tasks      | elapsed:  1.1min\n",
      "[Parallel(n_jobs=-1)]: Done  30 tasks      | elapsed:  1.4min\n",
      "[Parallel(n_jobs=-1)]: Done  41 tasks      | elapsed:  1.9min\n",
      "[Parallel(n_jobs=-1)]: Done  52 tasks      | elapsed:  2.6min\n",
      "[Parallel(n_jobs=-1)]: Done  65 tasks      | elapsed:  3.4min\n",
      "[Parallel(n_jobs=-1)]: Done  78 tasks      | elapsed:  4.7min\n",
      "[Parallel(n_jobs=-1)]: Done  93 tasks      | elapsed:  5.6min\n",
      "[Parallel(n_jobs=-1)]: Done 108 tasks      | elapsed:  7.6min\n",
      "[Parallel(n_jobs=-1)]: Done 125 tasks      | elapsed:  9.1min\n",
      "[Parallel(n_jobs=-1)]: Done 142 tasks      | elapsed: 11.2min\n",
      "[Parallel(n_jobs=-1)]: Done 161 tasks      | elapsed: 12.3min\n",
      "[Parallel(n_jobs=-1)]: Done 180 tasks      | elapsed: 13.1min\n",
      "[Parallel(n_jobs=-1)]: Done 201 tasks      | elapsed: 14.1min\n",
      "[Parallel(n_jobs=-1)]: Done 222 tasks      | elapsed: 15.8min\n",
      "[Parallel(n_jobs=-1)]: Done 245 tasks      | elapsed: 17.3min\n",
      "[Parallel(n_jobs=-1)]: Done 268 tasks      | elapsed: 20.4min\n",
      "[Parallel(n_jobs=-1)]: Done 293 tasks      | elapsed: 22.9min\n",
      "[Parallel(n_jobs=-1)]: Done 318 tasks      | elapsed: 24.3min\n",
      "[Parallel(n_jobs=-1)]: Done 345 tasks      | elapsed: 25.3min\n",
      "[Parallel(n_jobs=-1)]: Done 372 tasks      | elapsed: 27.4min\n",
      "[Parallel(n_jobs=-1)]: Done 401 tasks      | elapsed: 29.7min\n",
      "[Parallel(n_jobs=-1)]: Done 430 tasks      | elapsed: 33.0min\n"
     ]
    },
    {
     "name": "stdout",
     "output_type": "stream",
     "text": [
      "1.0765469243213293\n",
      "{'k': 60, 'sim_options': {'name': 'cosine', 'min_support': 1, 'user_based': False}, 'verbose': False}\n"
     ]
    },
    {
     "name": "stderr",
     "output_type": "stream",
     "text": [
      "[Parallel(n_jobs=-1)]: Done 450 out of 450 | elapsed: 34.7min finished\n"
     ]
    }
   ],
   "source": [
    "param_grid = {\n",
    "    \"k\": [20, 40, 60],\n",
    "    \"sim_options\": {\n",
    "        \"name\": [\"msd\", \"cosine\", \"pearson\"],\n",
    "        \"min_support\": [1, 2, 3, 4, 5],\n",
    "        \"user_based\": [True, False],\n",
    "    },\n",
    "    \"verbose\": [False],\n",
    "}\n",
    "\n",
    "gs = GridSearchCV(\n",
    "    KNNBasic,\n",
    "    param_grid,\n",
    "    measures=[\"rmse\", \"mae\"],\n",
    "    n_jobs=-1,\n",
    "    joblib_verbose=10,\n",
    ")\n",
    "gs.fit(data)\n",
    "\n",
    "knn_basic_results_df = pd.DataFrame.from_dict(gs.cv_results)\n",
    "knn_basic_results_df.to_csv(\"results/knn_basic_results.csv\")\n",
    "\n",
    "print(gs.best_score[\"rmse\"])\n",
    "print(gs.best_params[\"rmse\"])"
   ]
  },
  {
   "cell_type": "code",
   "execution_count": 22,
   "metadata": {},
   "outputs": [
    {
     "name": "stderr",
     "output_type": "stream",
     "text": [
      "[Parallel(n_jobs=-1)]: Using backend LokyBackend with 10 concurrent workers.\n",
      "[Parallel(n_jobs=-1)]: Done   5 tasks      | elapsed:   21.0s\n",
      "[Parallel(n_jobs=-1)]: Done  12 tasks      | elapsed:   33.8s\n",
      "[Parallel(n_jobs=-1)]: Done  21 tasks      | elapsed:   58.4s\n",
      "[Parallel(n_jobs=-1)]: Done  30 tasks      | elapsed:  1.4min\n",
      "[Parallel(n_jobs=-1)]: Done  41 tasks      | elapsed:  1.7min\n",
      "[Parallel(n_jobs=-1)]: Done  52 tasks      | elapsed:  2.5min\n",
      "[Parallel(n_jobs=-1)]: Done  65 tasks      | elapsed:  3.2min\n",
      "[Parallel(n_jobs=-1)]: Done  78 tasks      | elapsed:  4.6min\n",
      "[Parallel(n_jobs=-1)]: Done  93 tasks      | elapsed:  5.5min\n",
      "[Parallel(n_jobs=-1)]: Done 108 tasks      | elapsed:  7.3min\n",
      "[Parallel(n_jobs=-1)]: Done 125 tasks      | elapsed:  8.8min\n",
      "[Parallel(n_jobs=-1)]: Done 142 tasks      | elapsed: 10.9min\n",
      "[Parallel(n_jobs=-1)]: Done 161 tasks      | elapsed: 12.2min\n",
      "[Parallel(n_jobs=-1)]: Done 180 tasks      | elapsed: 13.0min\n",
      "[Parallel(n_jobs=-1)]: Done 201 tasks      | elapsed: 14.2min\n",
      "[Parallel(n_jobs=-1)]: Done 222 tasks      | elapsed: 15.7min\n",
      "[Parallel(n_jobs=-1)]: Done 245 tasks      | elapsed: 17.4min\n",
      "[Parallel(n_jobs=-1)]: Done 268 tasks      | elapsed: 20.4min\n",
      "[Parallel(n_jobs=-1)]: Done 293 tasks      | elapsed: 23.0min\n",
      "[Parallel(n_jobs=-1)]: Done 318 tasks      | elapsed: 24.5min\n",
      "[Parallel(n_jobs=-1)]: Done 345 tasks      | elapsed: 25.5min\n",
      "[Parallel(n_jobs=-1)]: Done 372 tasks      | elapsed: 27.5min\n",
      "[Parallel(n_jobs=-1)]: Done 401 tasks      | elapsed: 29.9min\n",
      "[Parallel(n_jobs=-1)]: Done 430 tasks      | elapsed: 33.0min\n"
     ]
    },
    {
     "name": "stdout",
     "output_type": "stream",
     "text": [
      "1.0205884606077729\n",
      "{'k': 60, 'sim_options': {'name': 'pearson', 'min_support': 5, 'user_based': True}, 'verbose': False}\n"
     ]
    },
    {
     "name": "stderr",
     "output_type": "stream",
     "text": [
      "[Parallel(n_jobs=-1)]: Done 450 out of 450 | elapsed: 34.7min finished\n"
     ]
    }
   ],
   "source": [
    "param_grid = {\n",
    "    \"k\": [20, 40, 60],\n",
    "    \"sim_options\": {\n",
    "        \"name\": [\"msd\", \"cosine\", \"pearson\"],\n",
    "        \"min_support\": [1, 2, 3, 4, 5],\n",
    "        \"user_based\": [True, False],\n",
    "    },\n",
    "    \"verbose\": [False],\n",
    "}\n",
    "\n",
    "gs = GridSearchCV(\n",
    "    KNNWithMeans,\n",
    "    param_grid,\n",
    "    measures=[\"rmse\", \"mae\"],\n",
    "    n_jobs=-1,\n",
    "    joblib_verbose=10,\n",
    ")\n",
    "gs.fit(data)\n",
    "\n",
    "knn_with_means_results_df = pd.DataFrame.from_dict(gs.cv_results)\n",
    "knn_with_means_results_df.to_csv(\"results/knn_with_means_results.csv\")\n",
    "\n",
    "print(gs.best_score[\"rmse\"])\n",
    "print(gs.best_params[\"rmse\"])"
   ]
  },
  {
   "cell_type": "code",
   "execution_count": 23,
   "metadata": {},
   "outputs": [
    {
     "name": "stderr",
     "output_type": "stream",
     "text": [
      "[Parallel(n_jobs=-1)]: Using backend LokyBackend with 10 concurrent workers.\n",
      "[Parallel(n_jobs=-1)]: Done   5 tasks      | elapsed:   21.4s\n",
      "[Parallel(n_jobs=-1)]: Done  12 tasks      | elapsed:   36.7s\n",
      "[Parallel(n_jobs=-1)]: Done  21 tasks      | elapsed:   59.1s\n",
      "[Parallel(n_jobs=-1)]: Done  30 tasks      | elapsed:  1.4min\n",
      "[Parallel(n_jobs=-1)]: Done  41 tasks      | elapsed:  1.7min\n",
      "[Parallel(n_jobs=-1)]: Done  52 tasks      | elapsed:  2.4min\n",
      "[Parallel(n_jobs=-1)]: Done  65 tasks      | elapsed:  3.2min\n",
      "[Parallel(n_jobs=-1)]: Done  78 tasks      | elapsed:  4.4min\n",
      "[Parallel(n_jobs=-1)]: Done  93 tasks      | elapsed:  5.4min\n",
      "[Parallel(n_jobs=-1)]: Done 108 tasks      | elapsed:  7.3min\n",
      "[Parallel(n_jobs=-1)]: Done 125 tasks      | elapsed:  8.9min\n",
      "[Parallel(n_jobs=-1)]: Done 142 tasks      | elapsed: 10.9min\n",
      "[Parallel(n_jobs=-1)]: Done 161 tasks      | elapsed: 12.1min\n",
      "[Parallel(n_jobs=-1)]: Done 180 tasks      | elapsed: 12.8min\n",
      "[Parallel(n_jobs=-1)]: Done 201 tasks      | elapsed: 13.8min\n",
      "[Parallel(n_jobs=-1)]: Done 222 tasks      | elapsed: 15.3min\n",
      "[Parallel(n_jobs=-1)]: Done 245 tasks      | elapsed: 16.7min\n",
      "[Parallel(n_jobs=-1)]: Done 268 tasks      | elapsed: 19.6min\n",
      "[Parallel(n_jobs=-1)]: Done 293 tasks      | elapsed: 21.9min\n",
      "[Parallel(n_jobs=-1)]: Done 318 tasks      | elapsed: 23.2min\n",
      "[Parallel(n_jobs=-1)]: Done 345 tasks      | elapsed: 24.1min\n",
      "[Parallel(n_jobs=-1)]: Done 372 tasks      | elapsed: 26.1min\n",
      "[Parallel(n_jobs=-1)]: Done 401 tasks      | elapsed: 28.3min\n",
      "[Parallel(n_jobs=-1)]: Done 430 tasks      | elapsed: 31.5min\n"
     ]
    },
    {
     "name": "stdout",
     "output_type": "stream",
     "text": [
      "1.0174763920843606\n",
      "{'k': 20, 'sim_options': {'name': 'pearson', 'min_support': 5, 'user_based': True}, 'verbose': False}\n"
     ]
    },
    {
     "name": "stderr",
     "output_type": "stream",
     "text": [
      "[Parallel(n_jobs=-1)]: Done 450 out of 450 | elapsed: 33.0min finished\n"
     ]
    }
   ],
   "source": [
    "param_grid = {\n",
    "    \"k\": [20, 40, 60],\n",
    "    \"sim_options\": {\n",
    "        \"name\": [\"msd\", \"cosine\", \"pearson\"],\n",
    "        \"min_support\": [1, 2, 3, 4, 5],\n",
    "        \"user_based\": [True, False],\n",
    "    },\n",
    "    \"verbose\": [False],\n",
    "}\n",
    "\n",
    "gs = GridSearchCV(\n",
    "    KNNWithZScore,\n",
    "    param_grid,\n",
    "    measures=[\"rmse\", \"mae\"],\n",
    "    n_jobs=-1,\n",
    "    joblib_verbose=10,\n",
    ")\n",
    "gs.fit(data)\n",
    "\n",
    "knn_with_z_score_results_df = pd.DataFrame.from_dict(gs.cv_results)\n",
    "knn_with_z_score_results_df.to_csv(\"results/knn_with_z_score_results.csv\")\n",
    "\n",
    "print(gs.best_score[\"rmse\"])\n",
    "print(gs.best_params[\"rmse\"])"
   ]
  },
  {
   "cell_type": "code",
   "execution_count": 24,
   "metadata": {},
   "outputs": [
    {
     "name": "stderr",
     "output_type": "stream",
     "text": [
      "[Parallel(n_jobs=-1)]: Using backend LokyBackend with 10 concurrent workers.\n",
      "[Parallel(n_jobs=-1)]: Done   5 tasks      | elapsed:   18.5s\n",
      "[Parallel(n_jobs=-1)]: Done  12 tasks      | elapsed:   28.9s\n",
      "[Parallel(n_jobs=-1)]: Done  21 tasks      | elapsed:   51.2s\n",
      "[Parallel(n_jobs=-1)]: Done  30 tasks      | elapsed:  1.2min\n",
      "[Parallel(n_jobs=-1)]: Done  41 tasks      | elapsed:  1.5min\n",
      "[Parallel(n_jobs=-1)]: Done  52 tasks      | elapsed:  2.1min\n",
      "[Parallel(n_jobs=-1)]: Done  65 tasks      | elapsed:  2.8min\n",
      "[Parallel(n_jobs=-1)]: Done  78 tasks      | elapsed:  3.9min\n",
      "[Parallel(n_jobs=-1)]: Done  93 tasks      | elapsed:  4.7min\n",
      "[Parallel(n_jobs=-1)]: Done 108 tasks      | elapsed:  6.3min\n",
      "[Parallel(n_jobs=-1)]: Done 125 tasks      | elapsed:  7.6min\n",
      "[Parallel(n_jobs=-1)]: Done 142 tasks      | elapsed:  9.4min\n",
      "[Parallel(n_jobs=-1)]: Done 161 tasks      | elapsed: 10.4min\n",
      "[Parallel(n_jobs=-1)]: Done 180 tasks      | elapsed: 11.0min\n",
      "[Parallel(n_jobs=-1)]: Done 201 tasks      | elapsed: 11.9min\n",
      "[Parallel(n_jobs=-1)]: Done 222 tasks      | elapsed: 13.2min\n",
      "[Parallel(n_jobs=-1)]: Done 245 tasks      | elapsed: 14.6min\n",
      "[Parallel(n_jobs=-1)]: Done 268 tasks      | elapsed: 17.1min\n",
      "[Parallel(n_jobs=-1)]: Done 293 tasks      | elapsed: 19.3min\n",
      "[Parallel(n_jobs=-1)]: Done 318 tasks      | elapsed: 20.5min\n",
      "[Parallel(n_jobs=-1)]: Done 345 tasks      | elapsed: 21.4min\n",
      "[Parallel(n_jobs=-1)]: Done 372 tasks      | elapsed: 23.2min\n",
      "[Parallel(n_jobs=-1)]: Done 401 tasks      | elapsed: 25.3min\n",
      "[Parallel(n_jobs=-1)]: Done 430 tasks      | elapsed: 28.3min\n"
     ]
    },
    {
     "name": "stdout",
     "output_type": "stream",
     "text": [
      "0.9389018146610839\n",
      "{'k': 20, 'sim_options': {'name': 'pearson', 'min_support': 5, 'user_based': False}, 'verbose': False}\n"
     ]
    },
    {
     "name": "stderr",
     "output_type": "stream",
     "text": [
      "[Parallel(n_jobs=-1)]: Done 450 out of 450 | elapsed: 29.8min finished\n"
     ]
    }
   ],
   "source": [
    "param_grid = {\n",
    "    \"k\": [20, 40, 60],\n",
    "    \"sim_options\": {\n",
    "        \"name\": [\"msd\", \"cosine\", \"pearson\"],\n",
    "        \"min_support\": [1, 2, 3, 4, 5],\n",
    "        \"user_based\": [True, False],\n",
    "    },\n",
    "    \"verbose\": [False],\n",
    "}\n",
    "\n",
    "gs = GridSearchCV(\n",
    "    KNNBaseline,\n",
    "    param_grid,\n",
    "    measures=[\"rmse\", \"mae\"],\n",
    "    n_jobs=-1,\n",
    "    joblib_verbose=10,\n",
    ")\n",
    "gs.fit(data)\n",
    "\n",
    "knn_baseline_results_df = pd.DataFrame.from_dict(gs.cv_results)\n",
    "knn_baseline_results_df.to_csv(\"results/knn_baseline_results.csv\")\n",
    "\n",
    "print(gs.best_score[\"rmse\"])\n",
    "print(gs.best_params[\"rmse\"])"
   ]
  }
 ],
 "metadata": {
  "kernelspec": {
   "display_name": "base",
   "language": "python",
   "name": "python3"
  },
  "language_info": {
   "codemirror_mode": {
    "name": "ipython",
    "version": 3
   },
   "file_extension": ".py",
   "mimetype": "text/x-python",
   "name": "python",
   "nbconvert_exporter": "python",
   "pygments_lexer": "ipython3",
   "version": "3.12.7"
  }
 },
 "nbformat": 4,
 "nbformat_minor": 2
}
